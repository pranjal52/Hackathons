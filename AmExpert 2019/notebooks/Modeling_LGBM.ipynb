{
 "cells": [
  {
   "cell_type": "code",
   "execution_count": 1,
   "metadata": {},
   "outputs": [
    {
     "name": "stderr",
     "output_type": "stream",
     "text": [
      "/anaconda3/lib/python3.6/site-packages/lightgbm/__init__.py:46: UserWarning: Starting from version 2.2.1, the library file in distribution wheels for macOS is built by the Apple Clang (Xcode_8.3.3) compiler.\n",
      "This means that in case of installing LightGBM from PyPI via the ``pip install lightgbm`` command, you don't need to install the gcc compiler anymore.\n",
      "Instead of that, you need to install the OpenMP library, which is required for running LightGBM on the system with the Apple Clang compiler.\n",
      "You can install the OpenMP library by the following command: ``brew install libomp``.\n",
      "  \"You can install the OpenMP library by the following command: ``brew install libomp``.\", UserWarning)\n"
     ]
    }
   ],
   "source": [
    "%matplotlib inline\n",
    "\n",
    "import os\n",
    "import pandas as pd \n",
    "import numpy as np\n",
    "import seaborn as sns\n",
    "import datetime as dt\n",
    "import matplotlib as mpl\n",
    "from matplotlib import pyplot as plt\n",
    "from xgboost import plot_importance\n",
    "from sklearn.metrics import roc_auc_score\n",
    "from collections import Counter\n",
    "from sklearn.preprocessing import LabelEncoder\n",
    "from sklearn.model_selection import StratifiedKFold\n",
    "from sklearn.model_selection import GridSearchCV\n",
    "from sklearn.model_selection import train_test_split\n",
    "from sklearn.metrics import roc_auc_score\n",
    "import lightgbm as LGB\n",
    "from IPython.display import display\n",
    "import warnings\n",
    "warnings.filterwarnings('ignore')\n",
    "\n",
    "\n",
    "mpl.rc(\"figure\", figsize=(100, 70))\n",
    "mpl.rcParams.update({'font.size':25})\n",
    "\n",
    "pd.set_option('display.max_columns', 500)"
   ]
  },
  {
   "cell_type": "markdown",
   "metadata": {},
   "source": [
    "## Loading data"
   ]
  },
  {
   "cell_type": "code",
   "execution_count": 2,
   "metadata": {
    "collapsed": true
   },
   "outputs": [],
   "source": [
    "merged_data = pd.read_csv(\"../data/train/merged_data_after_feature_engineering.csv\")"
   ]
  },
  {
   "cell_type": "markdown",
   "metadata": {},
   "source": [
    "## Separating the train test features"
   ]
  },
  {
   "cell_type": "code",
   "execution_count": 3,
   "metadata": {},
   "outputs": [
    {
     "data": {
      "text/plain": [
       "(78369, 72)"
      ]
     },
     "execution_count": 3,
     "metadata": {},
     "output_type": "execute_result"
    }
   ],
   "source": [
    "train = merged_data[merged_data.is_test ==0]\n",
    "test = merged_data[merged_data.is_test ==1]\n",
    "\n",
    "train['redemption_status'] =train['redemption_status'].astype('int64')\n",
    "train.shape"
   ]
  },
  {
   "cell_type": "code",
   "execution_count": 4,
   "metadata": {},
   "outputs": [
    {
     "data": {
      "text/plain": [
       "Index(['campaign_id', 'coupon_id', 'customer_id', 'id', 'is_test',\n",
       "       'redemption_status', 'campaign_type', 'customer_age_range',\n",
       "       'customer_marital_status', 'is_customer_rented', 'customer_family_size',\n",
       "       'customer_no_of_children', 'customer_income_bracket',\n",
       "       'is_common_demographic_info_available_for_customer',\n",
       "       'no_of_items_coupon_is_available_for',\n",
       "       'is_coupon_available_for_multiple_item_ids',\n",
       "       'no_of_categories_of_items_available_under_coupon',\n",
       "       'coupon_available_on_category_1', 'coupon_available_on_category_2',\n",
       "       'coupon_available_on_brand_1', 'coupon_available_on_brand_2',\n",
       "       'coupon_more_focussed_on_brand_type', 'popularity_of_category1',\n",
       "       'popularity_of_category2', 'popularity_of_brand1',\n",
       "       'popularity_of_brand2', 'mean_discount_on_category1',\n",
       "       'mean_discount_on_category2', 'mean_discount_on_brand1',\n",
       "       'mean_discount_on_brand2', 'no_of_times_customer_bought_category1',\n",
       "       'no_of_times_customer_bought_category2',\n",
       "       'no_of_times_customer_bought_brand1',\n",
       "       'no_of_times_customer_bought_brand2',\n",
       "       'no_of_times_customer_bought_category1_in_discount',\n",
       "       'no_of_times_customer_bought_category2_in_discount',\n",
       "       'no_of_times_customer_bought_brand1_in_discount',\n",
       "       'no_of_times_customer_bought_brand2_in_discount',\n",
       "       'has_customer_ever_bought_category1',\n",
       "       'has_customer_ever_bought_category2', 'has_customer_ever_bought_brand1',\n",
       "       'has_customer_ever_bought_brand2',\n",
       "       'has_customer_ever_bought_category1_in_discount',\n",
       "       'has_customer_ever_bought_category2_in_discount',\n",
       "       'has_customer_ever_bought_brand1_in_discount',\n",
       "       'has_customer_ever_bought_brand2_in_discount',\n",
       "       'average_selling_price_per_unit_of_category1_brand1_combination',\n",
       "       'average_selling_price_per_unit_of_category2_brand2_combination',\n",
       "       'average_transaction_amount_for_customer_per_item_of_category1',\n",
       "       'average_transaction_amount_for_customer_per_item_of_category2',\n",
       "       'is_customers_spending_habit_on_category1_in_favour_of_category1_brand1_combo',\n",
       "       'is_customers_spending_habit_on_category1_in_favour_of_category2_brand2_combo',\n",
       "       'campaign_duration_in_days', 'was_user_active_during_campaign_period',\n",
       "       'does_user_significantly_prefer_focussed_brand_type',\n",
       "       'does_user_prefer_category1_from_brand1',\n",
       "       'does_user_prefer_category1_from_brand2',\n",
       "       'does_user_prefer_any_of_brand1_brand2_for_category1',\n",
       "       'total_spends_of_customer', 'total_spends_category_of_customer',\n",
       "       'total_coupon_discount_claimed_by_customer',\n",
       "       'coupon_claiming_category_of_customer', 'most_bought_category_of_user',\n",
       "       'is_coupon_category1_same_as_customer_most_bought_category',\n",
       "       'is_brand1_same_as_most_favourite_brand_of_user_in_category1',\n",
       "       'is_brand2_same_as_second_most_favourite_brand_of_user_in_category1',\n",
       "       'is_brand2_same_as_most_favourite_brand_of_user_in_category1',\n",
       "       'is_brand1_same_as_second_most_favourite_brand_of_user_in_category1',\n",
       "       'are_the_brands_customers_favourite_brands_for_category1'],\n",
       "      dtype='object')"
      ]
     },
     "execution_count": 4,
     "metadata": {},
     "output_type": "execute_result"
    }
   ],
   "source": [
    "columns_with_other_dtype = merged_data.select_dtypes(include=['object', 'datetime64[ns]']).columns\n",
    "columns_with_numeric_dtype = merged_data.select_dtypes(exclude='object').columns\n",
    "columns_with_numeric_dtype\n",
    "\n"
   ]
  },
  {
   "cell_type": "code",
   "execution_count": 5,
   "metadata": {},
   "outputs": [
    {
     "data": {
      "text/plain": [
       "Index(['campaign_id', 'is_test', 'redemption_status', 'campaign_type',\n",
       "       'customer_age_range', 'customer_marital_status', 'is_customer_rented',\n",
       "       'customer_family_size', 'customer_no_of_children',\n",
       "       'customer_income_bracket',\n",
       "       'is_common_demographic_info_available_for_customer',\n",
       "       'no_of_items_coupon_is_available_for',\n",
       "       'is_coupon_available_for_multiple_item_ids',\n",
       "       'no_of_categories_of_items_available_under_coupon',\n",
       "       'coupon_available_on_category_1', 'coupon_available_on_category_2',\n",
       "       'coupon_available_on_brand_1', 'coupon_available_on_brand_2',\n",
       "       'coupon_more_focussed_on_brand_type', 'popularity_of_category1',\n",
       "       'popularity_of_category2', 'popularity_of_brand1',\n",
       "       'popularity_of_brand2', 'mean_discount_on_category1',\n",
       "       'mean_discount_on_category2', 'mean_discount_on_brand1',\n",
       "       'mean_discount_on_brand2', 'no_of_times_customer_bought_category1',\n",
       "       'no_of_times_customer_bought_category2',\n",
       "       'no_of_times_customer_bought_brand1',\n",
       "       'no_of_times_customer_bought_brand2',\n",
       "       'no_of_times_customer_bought_category1_in_discount',\n",
       "       'no_of_times_customer_bought_category2_in_discount',\n",
       "       'no_of_times_customer_bought_brand1_in_discount',\n",
       "       'no_of_times_customer_bought_brand2_in_discount',\n",
       "       'has_customer_ever_bought_category1',\n",
       "       'has_customer_ever_bought_category2', 'has_customer_ever_bought_brand1',\n",
       "       'has_customer_ever_bought_brand2',\n",
       "       'has_customer_ever_bought_category1_in_discount',\n",
       "       'has_customer_ever_bought_category2_in_discount',\n",
       "       'has_customer_ever_bought_brand1_in_discount',\n",
       "       'has_customer_ever_bought_brand2_in_discount',\n",
       "       'average_selling_price_per_unit_of_category1_brand1_combination',\n",
       "       'average_selling_price_per_unit_of_category2_brand2_combination',\n",
       "       'average_transaction_amount_for_customer_per_item_of_category1',\n",
       "       'average_transaction_amount_for_customer_per_item_of_category2',\n",
       "       'is_customers_spending_habit_on_category1_in_favour_of_category1_brand1_combo',\n",
       "       'is_customers_spending_habit_on_category1_in_favour_of_category2_brand2_combo',\n",
       "       'campaign_duration_in_days', 'was_user_active_during_campaign_period',\n",
       "       'does_user_significantly_prefer_focussed_brand_type',\n",
       "       'does_user_prefer_category1_from_brand1',\n",
       "       'does_user_prefer_category1_from_brand2',\n",
       "       'does_user_prefer_any_of_brand1_brand2_for_category1',\n",
       "       'total_spends_of_customer', 'total_spends_category_of_customer',\n",
       "       'total_coupon_discount_claimed_by_customer',\n",
       "       'coupon_claiming_category_of_customer', 'most_bought_category_of_user',\n",
       "       'is_coupon_category1_same_as_customer_most_bought_category',\n",
       "       'is_brand1_same_as_most_favourite_brand_of_user_in_category1',\n",
       "       'is_brand2_same_as_second_most_favourite_brand_of_user_in_category1',\n",
       "       'is_brand2_same_as_most_favourite_brand_of_user_in_category1',\n",
       "       'is_brand1_same_as_second_most_favourite_brand_of_user_in_category1',\n",
       "       'are_the_brands_customers_favourite_brands_for_category1'],\n",
       "      dtype='object')"
      ]
     },
     "execution_count": 5,
     "metadata": {},
     "output_type": "execute_result"
    }
   ],
   "source": [
    "categorical_columns = columns_with_other_dtype.drop(labels=['campaign_start_date', 'campaign_end_date', 'coupon_available_on_item_ids'])\n",
    "numerical_columns = columns_with_numeric_dtype.drop(labels=['coupon_id', 'customer_id', 'id'])\n",
    "features = numerical_columns.append(categorical_columns)\n",
    "features"
   ]
  },
  {
   "cell_type": "code",
   "execution_count": 6,
   "metadata": {},
   "outputs": [
    {
     "data": {
      "text/plain": [
       "(64,)"
      ]
     },
     "execution_count": 6,
     "metadata": {},
     "output_type": "execute_result"
    }
   ],
   "source": [
    "features = features.drop(labels=['is_test', 'redemption_status'])\n",
    "features.shape"
   ]
  },
  {
   "cell_type": "markdown",
   "metadata": {},
   "source": [
    "## Defining a method for parameter comparision"
   ]
  },
  {
   "cell_type": "code",
   "execution_count": 7,
   "metadata": {
    "collapsed": true
   },
   "outputs": [],
   "source": [
    "def GridSearch_table_plot(grid_clf, param_name,\n",
    "                          num_results=15,\n",
    "                          negative=True,\n",
    "                          graph=True,\n",
    "                          display_all_params=True):\n",
    "\n",
    "    '''Display grid search results\n",
    "\n",
    "    Arguments\n",
    "    ---------\n",
    "\n",
    "    grid_clf           the estimator resulting from a grid search\n",
    "                       for example: grid_clf = GridSearchCV( ...\n",
    "\n",
    "    param_name         a string with the name of the parameter being tested\n",
    "\n",
    "    num_results        an integer indicating the number of results to display\n",
    "                       Default: 15\n",
    "\n",
    "    negative           boolean: should the sign of the score be reversed?\n",
    "                       scoring = 'neg_log_loss', for instance\n",
    "                       Default: True\n",
    "\n",
    "    graph              boolean: should a graph be produced?\n",
    "                       non-numeric parameters (True/False, None) don't graph well\n",
    "                       Default: True\n",
    "\n",
    "    display_all_params boolean: should we print out all of the parameters, not just the ones searched for?\n",
    "                       Default: True\n",
    "\n",
    "    Usage\n",
    "    -----\n",
    "\n",
    "    GridSearch_table_plot(grid_clf, \"min_samples_leaf\")\n",
    "\n",
    "                          '''\n",
    "\n",
    "    clf = grid_clf.best_estimator_\n",
    "    clf_params = grid_clf.best_params_\n",
    "    if negative:\n",
    "        clf_score = -grid_clf.best_score_\n",
    "    else:\n",
    "        clf_score = grid_clf.best_score_\n",
    "    clf_stdev = grid_clf.cv_results_['std_test_score'][grid_clf.best_index_]\n",
    "    cv_results = grid_clf.cv_results_\n",
    "\n",
    "    print(\"best parameters: {}\".format(clf_params))\n",
    "    print(\"best score:      {:0.5f} (+/-{:0.5f})\".format(clf_score, clf_stdev))\n",
    "    if display_all_params:\n",
    "        import pprint\n",
    "        pprint.pprint(clf.get_params())\n",
    "\n",
    "    # pick out the best results\n",
    "    # =========================\n",
    "    scores_df = pd.DataFrame(cv_results).sort_values(by='rank_test_score')\n",
    "\n",
    "    best_row = scores_df.iloc[0, :]\n",
    "    if negative:\n",
    "        best_mean = -best_row['mean_test_score']\n",
    "    else:\n",
    "        best_mean = best_row['mean_test_score']\n",
    "    best_stdev = best_row['std_test_score']\n",
    "    best_param = best_row['param_' + param_name]\n",
    "\n",
    "    # display the top 'num_results' results\n",
    "    # =====================================\n",
    "    display(pd.DataFrame(cv_results) \\\n",
    "            .sort_values(by='rank_test_score').head(num_results))\n",
    "\n",
    "    # plot the results\n",
    "    # ================\n",
    "    scores_df = scores_df.sort_values(by='param_' + param_name)\n",
    "\n",
    "    if negative:\n",
    "        means = -scores_df['mean_test_score']\n",
    "    else:\n",
    "        means = scores_df['mean_test_score']\n",
    "    stds = scores_df['std_test_score']\n",
    "    params = scores_df['param_' + param_name]\n",
    "\n",
    "    # plot\n",
    "    if graph:\n",
    "        plt.figure(figsize=(8, 8))\n",
    "        plt.errorbar(params, means, yerr=stds)\n",
    "\n",
    "        plt.axhline(y=best_mean + best_stdev, color='red')\n",
    "        plt.axhline(y=best_mean - best_stdev, color='red')\n",
    "        plt.plot(best_param, best_mean, 'or')\n",
    "\n",
    "        plt.title(param_name + \" vs Score\\nBest Score {:0.5f}\".format(clf_score))\n",
    "        plt.xlabel(param_name)\n",
    "        plt.ylabel('Score')\n",
    "        plt.show()"
   ]
  },
  {
   "cell_type": "markdown",
   "metadata": {},
   "source": [
    "## Creating a Stratified k-fold split"
   ]
  },
  {
   "cell_type": "code",
   "execution_count": 8,
   "metadata": {
    "collapsed": true
   },
   "outputs": [],
   "source": [
    "X = train[features]\n",
    "Y = train['redemption_status']\n",
    "\n",
    "skf = StratifiedKFold(n_splits=3)"
   ]
  },
  {
   "cell_type": "markdown",
   "metadata": {},
   "source": [
    "## Tuning an intuition based model"
   ]
  },
  {
   "cell_type": "code",
   "execution_count": 13,
   "metadata": {},
   "outputs": [
    {
     "name": "stdout",
     "output_type": "stream",
     "text": [
      "Fitting 5 folds for each of 1 candidates, totalling 5 fits\n",
      "[CV] learning_rate=0.2, n_estimators=1500 ............................\n",
      "[CV] learning_rate=0.2, n_estimators=1500 ............................\n",
      "[CV] learning_rate=0.2, n_estimators=1500 ............................\n",
      "[CV] learning_rate=0.2, n_estimators=1500 ............................\n",
      "[CV]  learning_rate=0.2, n_estimators=1500, score=0.5108853295505071, total= 1.4min\n",
      "[CV] learning_rate=0.2, n_estimators=1500 ............................\n",
      "[CV]  learning_rate=0.2, n_estimators=1500, score=0.611631087985998, total= 1.5min\n"
     ]
    },
    {
     "name": "stderr",
     "output_type": "stream",
     "text": [
      "[Parallel(n_jobs=-1)]: Done   2 out of   5 | elapsed:  1.6min remaining:  2.4min\n"
     ]
    },
    {
     "name": "stdout",
     "output_type": "stream",
     "text": [
      "[CV]  learning_rate=0.2, n_estimators=1500, score=0.4997746007212777, total= 1.6min\n",
      "[CV]  learning_rate=0.2, n_estimators=1500, score=0.5616155021407381, total=  50.2s\n",
      "[CV]  learning_rate=0.2, n_estimators=1500, score=0.9519326113498903, total= 2.6min\n"
     ]
    },
    {
     "name": "stderr",
     "output_type": "stream",
     "text": [
      "[Parallel(n_jobs=-1)]: Done   5 out of   5 | elapsed:  2.8min finished\n"
     ]
    },
    {
     "name": "stdout",
     "output_type": "stream",
     "text": [
      "CPU times: user 47.8 s, sys: 2.3 s, total: 50.1 s\n",
      "Wall time: 3min 20s\n"
     ]
    }
   ],
   "source": [
    "%%time\n",
    "\n",
    "param_grid = {\n",
    "    'n_estimators': [1500],\n",
    "    'learning_rate': [0.2],\n",
    "    \n",
    "}\n",
    "lgbm = LGB.LGBMClassifier(objective='binary', nthreads=-1, seed=27, verbosity=2, is_imbalance=True, metric='auc')\n",
    "\n",
    "clf = GridSearchCV(lgbm, param_grid=param_grid, cv=skf, n_jobs=-1, verbose=3, scoring='roc_auc').fit(X, Y)"
   ]
  },
  {
   "cell_type": "code",
   "execution_count": 14,
   "metadata": {},
   "outputs": [
    {
     "data": {
      "text/plain": [
       "0.6030807650700853"
      ]
     },
     "execution_count": 14,
     "metadata": {},
     "output_type": "execute_result"
    }
   ],
   "source": [
    "roc_auc_score(clf.predict(X), Y.values)"
   ]
  },
  {
   "cell_type": "code",
   "execution_count": 15,
   "metadata": {},
   "outputs": [
    {
     "data": {
      "text/plain": [
       "757"
      ]
     },
     "execution_count": 15,
     "metadata": {},
     "output_type": "execute_result"
    }
   ],
   "source": [
    "sum(clf.predict(test[features]))"
   ]
  },
  {
   "cell_type": "code",
   "execution_count": 16,
   "metadata": {},
   "outputs": [
    {
     "name": "stdout",
     "output_type": "stream",
     "text": [
      "best parameters: {'learning_rate': 0.2, 'n_estimators': 1500}\n",
      "best score:      0.62717 (+/-0.16719)\n"
     ]
    },
    {
     "data": {
      "text/html": [
       "<div>\n",
       "<style scoped>\n",
       "    .dataframe tbody tr th:only-of-type {\n",
       "        vertical-align: middle;\n",
       "    }\n",
       "\n",
       "    .dataframe tbody tr th {\n",
       "        vertical-align: top;\n",
       "    }\n",
       "\n",
       "    .dataframe thead th {\n",
       "        text-align: right;\n",
       "    }\n",
       "</style>\n",
       "<table border=\"1\" class=\"dataframe\">\n",
       "  <thead>\n",
       "    <tr style=\"text-align: right;\">\n",
       "      <th></th>\n",
       "      <th>mean_fit_time</th>\n",
       "      <th>std_fit_time</th>\n",
       "      <th>mean_score_time</th>\n",
       "      <th>std_score_time</th>\n",
       "      <th>param_learning_rate</th>\n",
       "      <th>param_n_estimators</th>\n",
       "      <th>params</th>\n",
       "      <th>split0_test_score</th>\n",
       "      <th>split1_test_score</th>\n",
       "      <th>split2_test_score</th>\n",
       "      <th>split3_test_score</th>\n",
       "      <th>split4_test_score</th>\n",
       "      <th>mean_test_score</th>\n",
       "      <th>std_test_score</th>\n",
       "      <th>rank_test_score</th>\n",
       "      <th>split0_train_score</th>\n",
       "      <th>split1_train_score</th>\n",
       "      <th>split2_train_score</th>\n",
       "      <th>split3_train_score</th>\n",
       "      <th>split4_train_score</th>\n",
       "      <th>mean_train_score</th>\n",
       "      <th>std_train_score</th>\n",
       "    </tr>\n",
       "  </thead>\n",
       "  <tbody>\n",
       "    <tr>\n",
       "      <td>0</td>\n",
       "      <td>94.068645</td>\n",
       "      <td>33.183867</td>\n",
       "      <td>1.391622</td>\n",
       "      <td>0.707054</td>\n",
       "      <td>0.2</td>\n",
       "      <td>1500</td>\n",
       "      <td>{'learning_rate': 0.2, 'n_estimators': 1500}</td>\n",
       "      <td>0.951933</td>\n",
       "      <td>0.510885</td>\n",
       "      <td>0.611631</td>\n",
       "      <td>0.499775</td>\n",
       "      <td>0.561616</td>\n",
       "      <td>0.627169</td>\n",
       "      <td>0.16719</td>\n",
       "      <td>1</td>\n",
       "      <td>1.0</td>\n",
       "      <td>0.519544</td>\n",
       "      <td>0.628857</td>\n",
       "      <td>0.499783</td>\n",
       "      <td>0.572608</td>\n",
       "      <td>0.644158</td>\n",
       "      <td>0.183494</td>\n",
       "    </tr>\n",
       "  </tbody>\n",
       "</table>\n",
       "</div>"
      ],
      "text/plain": [
       "   mean_fit_time  std_fit_time  mean_score_time  std_score_time  \\\n",
       "0      94.068645     33.183867         1.391622        0.707054   \n",
       "\n",
       "  param_learning_rate param_n_estimators  \\\n",
       "0                 0.2               1500   \n",
       "\n",
       "                                         params  split0_test_score  \\\n",
       "0  {'learning_rate': 0.2, 'n_estimators': 1500}           0.951933   \n",
       "\n",
       "   split1_test_score  split2_test_score  split3_test_score  split4_test_score  \\\n",
       "0           0.510885           0.611631           0.499775           0.561616   \n",
       "\n",
       "   mean_test_score  std_test_score  rank_test_score  split0_train_score  \\\n",
       "0         0.627169         0.16719                1                 1.0   \n",
       "\n",
       "   split1_train_score  split2_train_score  split3_train_score  \\\n",
       "0            0.519544            0.628857            0.499783   \n",
       "\n",
       "   split4_train_score  mean_train_score  std_train_score  \n",
       "0            0.572608          0.644158         0.183494  "
      ]
     },
     "metadata": {},
     "output_type": "display_data"
    },
    {
     "data": {
      "image/png": "[encoded data removed]",
      "text/plain": [
       "<matplotlib.figure.Figure at 0x111c2f048>"
      ]
     },
     "metadata": {},
     "output_type": "display_data"
    }
   ],
   "source": [
    "GridSearch_table_plot(clf, \"n_estimators\", display_all_params=False, negative=False)"
   ]
  },
  {
   "cell_type": "markdown",
   "metadata": {},
   "source": [
    "## Tuning an in_estimators"
   ]
  },
  {
   "cell_type": "code",
   "execution_count": 19,
   "metadata": {},
   "outputs": [
    {
     "name": "stdout",
     "output_type": "stream",
     "text": [
      "Fitting 5 folds for each of 6 candidates, totalling 30 fits\n",
      "[CV] learning_rate=0.2, n_estimators=1500 ............................\n",
      "[CV] learning_rate=0.2, n_estimators=1500 ............................\n",
      "[CV] learning_rate=0.2, n_estimators=1500 ............................\n",
      "[CV] learning_rate=0.2, n_estimators=1500 ............................\n",
      "[CV]  learning_rate=0.2, n_estimators=1500, score=0.5684587453155766, total= 1.3min\n",
      "[CV] learning_rate=0.2, n_estimators=1500 ............................\n",
      "[CV]  learning_rate=0.2, n_estimators=1500, score=0.5575242337306713, total= 1.4min\n",
      "[CV] learning_rate=0.2, n_estimators=2000 ............................\n",
      "[CV]  learning_rate=0.2, n_estimators=1500, score=0.49993560020607936, total= 1.5min\n",
      "[CV] learning_rate=0.2, n_estimators=2000 ............................\n",
      "[CV]  learning_rate=0.2, n_estimators=1500, score=0.6128384320204658, total= 1.8min\n",
      "[CV] learning_rate=0.2, n_estimators=2000 ............................\n",
      "[CV]  learning_rate=0.2, n_estimators=2000, score=0.5517037715342324, total= 1.9min\n",
      "[CV] learning_rate=0.2, n_estimators=2000 ............................\n",
      "[CV]  learning_rate=0.2, n_estimators=1500, score=0.9519330524443691, total= 4.4min\n",
      "[CV] learning_rate=0.2, n_estimators=2000 ............................\n",
      "[CV]  learning_rate=0.2, n_estimators=2000, score=0.6022591535926263, total= 2.0min\n",
      "[CV] learning_rate=0.2, n_estimators=2500 ............................\n",
      "[CV]  learning_rate=0.2, n_estimators=2000, score=0.5055304425765564, total= 2.0min\n",
      "[CV] learning_rate=0.2, n_estimators=2500 ............................\n",
      "[CV]  learning_rate=0.2, n_estimators=2000, score=0.5486273961164703, total= 1.9min\n",
      "[CV] learning_rate=0.2, n_estimators=2500 ............................\n",
      "[CV]  learning_rate=0.2, n_estimators=2500, score=0.5835874037531847, total= 1.7min\n",
      "[CV] learning_rate=0.2, n_estimators=2500 ............................\n",
      "[CV]  learning_rate=0.2, n_estimators=2000, score=0.9512025999872965, total= 5.8min\n",
      "[CV] learning_rate=0.2, n_estimators=2500 ............................\n",
      "[CV]  learning_rate=0.2, n_estimators=2500, score=0.5291122356079694, total= 2.0min\n",
      "[CV] learning_rate=0.3, n_estimators=1500 ............................\n",
      "[CV]  learning_rate=0.2, n_estimators=2500, score=0.6265958798246913, total= 2.0min\n",
      "[CV] learning_rate=0.3, n_estimators=1500 ............................\n",
      "[CV]  learning_rate=0.2, n_estimators=2500, score=0.5836415640711329, total= 2.2min\n",
      "[CV] learning_rate=0.3, n_estimators=1500 ............................\n",
      "[CV]  learning_rate=0.3, n_estimators=1500, score=0.505973963075099, total= 1.4min\n",
      "[CV] learning_rate=0.3, n_estimators=1500 ............................\n",
      "[CV]  learning_rate=0.3, n_estimators=1500, score=0.5889180305307955, total= 1.5min\n",
      "[CV] learning_rate=0.3, n_estimators=1500 ............................\n",
      "[CV]  learning_rate=0.3, n_estimators=1500, score=0.5343652297572922, total= 1.1min\n",
      "[CV] learning_rate=0.3, n_estimators=2000 ............................\n",
      "[CV]  learning_rate=0.3, n_estimators=1500, score=0.6263620997508698, total= 1.4min\n",
      "[CV] learning_rate=0.3, n_estimators=2000 ............................\n",
      "[CV]  learning_rate=0.3, n_estimators=1500, score=0.6098642718826058, total= 1.3min\n",
      "[CV] learning_rate=0.3, n_estimators=2000 ............................\n",
      "[CV]  learning_rate=0.3, n_estimators=2000, score=0.6179614554000551, total= 1.6min\n",
      "[CV] learning_rate=0.3, n_estimators=2000 ............................\n",
      "[CV]  learning_rate=0.2, n_estimators=2500, score=0.95093441454412, total= 7.1min\n",
      "[CV] learning_rate=0.3, n_estimators=2000 ............................\n",
      "[CV]  learning_rate=0.3, n_estimators=2000, score=0.5190424897489643, total= 1.8min\n",
      "[CV] learning_rate=0.3, n_estimators=2500 ............................\n",
      "[CV]  learning_rate=0.3, n_estimators=2000, score=0.5114472839166367, total= 1.8min\n",
      "[CV] learning_rate=0.3, n_estimators=2500 ............................\n",
      "[CV]  learning_rate=0.3, n_estimators=2000, score=0.5224622952439428, total= 1.3min\n",
      "[CV] learning_rate=0.3, n_estimators=2500 ............................\n",
      "[CV]  learning_rate=0.3, n_estimators=2000, score=0.5447918332178578, total= 1.5min\n",
      "[CV] learning_rate=0.3, n_estimators=2500 ............................\n",
      "[CV]  learning_rate=0.3, n_estimators=2500, score=0.5552353944796143, total= 1.6min\n",
      "[CV] learning_rate=0.3, n_estimators=2500 ............................\n",
      "[CV]  learning_rate=0.3, n_estimators=2500, score=0.5389309987084753, total= 1.8min\n",
      "[CV]  learning_rate=0.3, n_estimators=2500, score=0.6327742901907646, total= 1.6min\n",
      "[CV]  learning_rate=0.3, n_estimators=2500, score=0.4996780010303967, total= 1.5min\n",
      "[CV]  learning_rate=0.3, n_estimators=2500, score=0.5820337899056655, total= 1.6min\n"
     ]
    },
    {
     "name": "stderr",
     "output_type": "stream",
     "text": [
      "[Parallel(n_jobs=-1)]: Done  30 out of  30 | elapsed: 16.6min finished\n"
     ]
    },
    {
     "name": "stdout",
     "output_type": "stream",
     "text": [
      "CPU times: user 1min 4s, sys: 2.97 s, total: 1min 7s\n",
      "Wall time: 17min 30s\n"
     ]
    }
   ],
   "source": [
    "%%time\n",
    "\n",
    "param_grid = {\n",
    "    'n_estimators': [1500, 2000, 2500],\n",
    "    'learning_rate': [0.2, 0.3],\n",
    "    \n",
    "}\n",
    "lgbm = LGB.LGBMClassifier(objective='binary', nthreads=-1, seed=27, verbosity=2, is_imbalance=True, metric='auc')\n",
    "\n",
    "clf = GridSearchCV(lgbm, param_grid=param_grid, cv=skf, n_jobs=-1, verbose=3, scoring='roc_auc').fit(X, Y)"
   ]
  },
  {
   "cell_type": "code",
   "execution_count": 20,
   "metadata": {},
   "outputs": [
    {
     "data": {
      "text/plain": [
       "0.5448845397399456"
      ]
     },
     "execution_count": 20,
     "metadata": {},
     "output_type": "execute_result"
    }
   ],
   "source": [
    "roc_auc_score(clf.predict(X), Y.values)"
   ]
  },
  {
   "cell_type": "code",
   "execution_count": 21,
   "metadata": {},
   "outputs": [
    {
     "data": {
      "text/plain": [
       "1035"
      ]
     },
     "execution_count": 21,
     "metadata": {},
     "output_type": "execute_result"
    }
   ],
   "source": [
    "sum(clf.predict(test[features]))"
   ]
  },
  {
   "cell_type": "code",
   "execution_count": 22,
   "metadata": {},
   "outputs": [
    {
     "name": "stdout",
     "output_type": "stream",
     "text": [
      "best parameters: {'learning_rate': 0.2, 'n_estimators': 2500}\n",
      "best score:      0.65478 (+/-0.15128)\n"
     ]
    },
    {
     "data": {
      "text/html": [
       "<div>\n",
       "<style scoped>\n",
       "    .dataframe tbody tr th:only-of-type {\n",
       "        vertical-align: middle;\n",
       "    }\n",
       "\n",
       "    .dataframe tbody tr th {\n",
       "        vertical-align: top;\n",
       "    }\n",
       "\n",
       "    .dataframe thead th {\n",
       "        text-align: right;\n",
       "    }\n",
       "</style>\n",
       "<table border=\"1\" class=\"dataframe\">\n",
       "  <thead>\n",
       "    <tr style=\"text-align: right;\">\n",
       "      <th></th>\n",
       "      <th>mean_fit_time</th>\n",
       "      <th>std_fit_time</th>\n",
       "      <th>mean_score_time</th>\n",
       "      <th>std_score_time</th>\n",
       "      <th>param_learning_rate</th>\n",
       "      <th>param_n_estimators</th>\n",
       "      <th>params</th>\n",
       "      <th>split0_test_score</th>\n",
       "      <th>split1_test_score</th>\n",
       "      <th>split2_test_score</th>\n",
       "      <th>split3_test_score</th>\n",
       "      <th>split4_test_score</th>\n",
       "      <th>mean_test_score</th>\n",
       "      <th>std_test_score</th>\n",
       "      <th>rank_test_score</th>\n",
       "      <th>split0_train_score</th>\n",
       "      <th>split1_train_score</th>\n",
       "      <th>split2_train_score</th>\n",
       "      <th>split3_train_score</th>\n",
       "      <th>split4_train_score</th>\n",
       "      <th>mean_train_score</th>\n",
       "      <th>std_train_score</th>\n",
       "    </tr>\n",
       "  </thead>\n",
       "  <tbody>\n",
       "    <tr>\n",
       "      <td>2</td>\n",
       "      <td>176.981642</td>\n",
       "      <td>119.031789</td>\n",
       "      <td>3.272543</td>\n",
       "      <td>3.795279</td>\n",
       "      <td>0.2</td>\n",
       "      <td>2500</td>\n",
       "      <td>{'learning_rate': 0.2, 'n_estimators': 2500}</td>\n",
       "      <td>0.950934</td>\n",
       "      <td>0.583587</td>\n",
       "      <td>0.529112</td>\n",
       "      <td>0.626596</td>\n",
       "      <td>0.583642</td>\n",
       "      <td>0.654775</td>\n",
       "      <td>0.151277</td>\n",
       "      <td>1</td>\n",
       "      <td>1.000000</td>\n",
       "      <td>0.612066</td>\n",
       "      <td>0.536488</td>\n",
       "      <td>0.664804</td>\n",
       "      <td>0.594549</td>\n",
       "      <td>0.681581</td>\n",
       "      <td>0.164396</td>\n",
       "    </tr>\n",
       "    <tr>\n",
       "      <td>0</td>\n",
       "      <td>122.051566</td>\n",
       "      <td>69.108722</td>\n",
       "      <td>2.124884</td>\n",
       "      <td>1.740660</td>\n",
       "      <td>0.2</td>\n",
       "      <td>1500</td>\n",
       "      <td>{'learning_rate': 0.2, 'n_estimators': 1500}</td>\n",
       "      <td>0.951933</td>\n",
       "      <td>0.568459</td>\n",
       "      <td>0.557524</td>\n",
       "      <td>0.499936</td>\n",
       "      <td>0.612838</td>\n",
       "      <td>0.638138</td>\n",
       "      <td>0.160974</td>\n",
       "      <td>2</td>\n",
       "      <td>1.000000</td>\n",
       "      <td>0.588286</td>\n",
       "      <td>0.546895</td>\n",
       "      <td>0.504135</td>\n",
       "      <td>0.616325</td>\n",
       "      <td>0.651128</td>\n",
       "      <td>0.178518</td>\n",
       "    </tr>\n",
       "    <tr>\n",
       "      <td>1</td>\n",
       "      <td>158.735848</td>\n",
       "      <td>89.690508</td>\n",
       "      <td>2.866700</td>\n",
       "      <td>2.987477</td>\n",
       "      <td>0.2</td>\n",
       "      <td>2000</td>\n",
       "      <td>{'learning_rate': 0.2, 'n_estimators': 2000}</td>\n",
       "      <td>0.951203</td>\n",
       "      <td>0.551704</td>\n",
       "      <td>0.602259</td>\n",
       "      <td>0.505530</td>\n",
       "      <td>0.548627</td>\n",
       "      <td>0.631866</td>\n",
       "      <td>0.162585</td>\n",
       "      <td>3</td>\n",
       "      <td>1.000000</td>\n",
       "      <td>0.589614</td>\n",
       "      <td>0.640162</td>\n",
       "      <td>0.520168</td>\n",
       "      <td>0.535233</td>\n",
       "      <td>0.657036</td>\n",
       "      <td>0.176648</td>\n",
       "    </tr>\n",
       "    <tr>\n",
       "      <td>3</td>\n",
       "      <td>80.359564</td>\n",
       "      <td>8.422225</td>\n",
       "      <td>0.683148</td>\n",
       "      <td>0.122861</td>\n",
       "      <td>0.3</td>\n",
       "      <td>1500</td>\n",
       "      <td>{'learning_rate': 0.3, 'n_estimators': 1500}</td>\n",
       "      <td>0.505974</td>\n",
       "      <td>0.588918</td>\n",
       "      <td>0.626362</td>\n",
       "      <td>0.534365</td>\n",
       "      <td>0.609864</td>\n",
       "      <td>0.573096</td>\n",
       "      <td>0.045706</td>\n",
       "      <td>4</td>\n",
       "      <td>0.513071</td>\n",
       "      <td>0.584142</td>\n",
       "      <td>0.611172</td>\n",
       "      <td>0.551265</td>\n",
       "      <td>0.624014</td>\n",
       "      <td>0.576733</td>\n",
       "      <td>0.040442</td>\n",
       "    </tr>\n",
       "    <tr>\n",
       "      <td>5</td>\n",
       "      <td>96.453136</td>\n",
       "      <td>7.228726</td>\n",
       "      <td>0.681996</td>\n",
       "      <td>0.189949</td>\n",
       "      <td>0.3</td>\n",
       "      <td>2500</td>\n",
       "      <td>{'learning_rate': 0.3, 'n_estimators': 2500}</td>\n",
       "      <td>0.555235</td>\n",
       "      <td>0.538931</td>\n",
       "      <td>0.632774</td>\n",
       "      <td>0.499678</td>\n",
       "      <td>0.582034</td>\n",
       "      <td>0.561730</td>\n",
       "      <td>0.044434</td>\n",
       "      <td>5</td>\n",
       "      <td>0.576297</td>\n",
       "      <td>0.532066</td>\n",
       "      <td>0.616604</td>\n",
       "      <td>0.509152</td>\n",
       "      <td>0.593112</td>\n",
       "      <td>0.565446</td>\n",
       "      <td>0.039455</td>\n",
       "    </tr>\n",
       "    <tr>\n",
       "      <td>4</td>\n",
       "      <td>95.628063</td>\n",
       "      <td>10.077484</td>\n",
       "      <td>0.682231</td>\n",
       "      <td>0.180670</td>\n",
       "      <td>0.3</td>\n",
       "      <td>2000</td>\n",
       "      <td>{'learning_rate': 0.3, 'n_estimators': 2000}</td>\n",
       "      <td>0.617961</td>\n",
       "      <td>0.519042</td>\n",
       "      <td>0.511447</td>\n",
       "      <td>0.522462</td>\n",
       "      <td>0.544792</td>\n",
       "      <td>0.543141</td>\n",
       "      <td>0.039022</td>\n",
       "      <td>6</td>\n",
       "      <td>0.639381</td>\n",
       "      <td>0.531312</td>\n",
       "      <td>0.511833</td>\n",
       "      <td>0.527270</td>\n",
       "      <td>0.560062</td>\n",
       "      <td>0.553972</td>\n",
       "      <td>0.045462</td>\n",
       "    </tr>\n",
       "  </tbody>\n",
       "</table>\n",
       "</div>"
      ],
      "text/plain": [
       "   mean_fit_time  std_fit_time  mean_score_time  std_score_time  \\\n",
       "2     176.981642    119.031789         3.272543        3.795279   \n",
       "0     122.051566     69.108722         2.124884        1.740660   \n",
       "1     158.735848     89.690508         2.866700        2.987477   \n",
       "3      80.359564      8.422225         0.683148        0.122861   \n",
       "5      96.453136      7.228726         0.681996        0.189949   \n",
       "4      95.628063     10.077484         0.682231        0.180670   \n",
       "\n",
       "  param_learning_rate param_n_estimators  \\\n",
       "2                 0.2               2500   \n",
       "0                 0.2               1500   \n",
       "1                 0.2               2000   \n",
       "3                 0.3               1500   \n",
       "5                 0.3               2500   \n",
       "4                 0.3               2000   \n",
       "\n",
       "                                         params  split0_test_score  \\\n",
       "2  {'learning_rate': 0.2, 'n_estimators': 2500}           0.950934   \n",
       "0  {'learning_rate': 0.2, 'n_estimators': 1500}           0.951933   \n",
       "1  {'learning_rate': 0.2, 'n_estimators': 2000}           0.951203   \n",
       "3  {'learning_rate': 0.3, 'n_estimators': 1500}           0.505974   \n",
       "5  {'learning_rate': 0.3, 'n_estimators': 2500}           0.555235   \n",
       "4  {'learning_rate': 0.3, 'n_estimators': 2000}           0.617961   \n",
       "\n",
       "   split1_test_score  split2_test_score  split3_test_score  split4_test_score  \\\n",
       "2           0.583587           0.529112           0.626596           0.583642   \n",
       "0           0.568459           0.557524           0.499936           0.612838   \n",
       "1           0.551704           0.602259           0.505530           0.548627   \n",
       "3           0.588918           0.626362           0.534365           0.609864   \n",
       "5           0.538931           0.632774           0.499678           0.582034   \n",
       "4           0.519042           0.511447           0.522462           0.544792   \n",
       "\n",
       "   mean_test_score  std_test_score  rank_test_score  split0_train_score  \\\n",
       "2         0.654775        0.151277                1            1.000000   \n",
       "0         0.638138        0.160974                2            1.000000   \n",
       "1         0.631866        0.162585                3            1.000000   \n",
       "3         0.573096        0.045706                4            0.513071   \n",
       "5         0.561730        0.044434                5            0.576297   \n",
       "4         0.543141        0.039022                6            0.639381   \n",
       "\n",
       "   split1_train_score  split2_train_score  split3_train_score  \\\n",
       "2            0.612066            0.536488            0.664804   \n",
       "0            0.588286            0.546895            0.504135   \n",
       "1            0.589614            0.640162            0.520168   \n",
       "3            0.584142            0.611172            0.551265   \n",
       "5            0.532066            0.616604            0.509152   \n",
       "4            0.531312            0.511833            0.527270   \n",
       "\n",
       "   split4_train_score  mean_train_score  std_train_score  \n",
       "2            0.594549          0.681581         0.164396  \n",
       "0            0.616325          0.651128         0.178518  \n",
       "1            0.535233          0.657036         0.176648  \n",
       "3            0.624014          0.576733         0.040442  \n",
       "5            0.593112          0.565446         0.039455  \n",
       "4            0.560062          0.553972         0.045462  "
      ]
     },
     "metadata": {},
     "output_type": "display_data"
    },
    {
     "data": {
      "image/png": "[encoded data removed]",
      "text/plain": [
       "<matplotlib.figure.Figure at 0x1122ca908>"
      ]
     },
     "metadata": {},
     "output_type": "display_data"
    }
   ],
   "source": [
    "GridSearch_table_plot(clf, \"n_estimators\", display_all_params=False, negative=False)"
   ]
  },
  {
   "cell_type": "markdown",
   "metadata": {},
   "source": [
    "## Moving ahead with n_estimators = 2000 and learning_rate =0.2"
   ]
  },
  {
   "cell_type": "markdown",
   "metadata": {},
   "source": [
    "### Tuning max_depth"
   ]
  },
  {
   "cell_type": "code",
   "execution_count": null,
   "metadata": {
    "collapsed": true
   },
   "outputs": [],
   "source": []
  },
  {
   "cell_type": "code",
   "execution_count": 25,
   "metadata": {},
   "outputs": [
    {
     "name": "stdout",
     "output_type": "stream",
     "text": [
      "Fitting 5 folds for each of 5 candidates, totalling 25 fits\n",
      "[CV] learning_rate=0.2, max_depth=3, n_estimators=2000 ...............\n",
      "[CV] learning_rate=0.2, max_depth=3, n_estimators=2000 ...............\n",
      "[CV] learning_rate=0.2, max_depth=3, n_estimators=2000 ...............\n",
      "[CV] learning_rate=0.2, max_depth=3, n_estimators=2000 ...............\n",
      "[CV]  learning_rate=0.2, max_depth=3, n_estimators=2000, score=0.9770529419237365, total= 2.8min\n",
      "[CV] learning_rate=0.2, max_depth=3, n_estimators=2000 ...............\n",
      "[CV]  learning_rate=0.2, max_depth=3, n_estimators=2000, score=0.9666625203785649, total= 2.9min\n",
      "[CV] learning_rate=0.2, max_depth=8, n_estimators=2000 ...............\n",
      "[CV]  learning_rate=0.2, max_depth=3, n_estimators=2000, score=0.9689791485817929, total= 2.9min\n",
      "[CV] learning_rate=0.2, max_depth=8, n_estimators=2000 ...............\n",
      "[CV]  learning_rate=0.2, max_depth=3, n_estimators=2000, score=0.9671697790293098, total= 2.9min\n",
      "[CV] learning_rate=0.2, max_depth=8, n_estimators=2000 ...............\n",
      "[CV]  learning_rate=0.2, max_depth=3, n_estimators=2000, score=0.9658587823553447, total= 2.2min\n",
      "[CV] learning_rate=0.2, max_depth=8, n_estimators=2000 ...............\n",
      "[CV]  learning_rate=0.2, max_depth=8, n_estimators=2000, score=0.9620239708383618, total= 5.0min\n",
      "[CV] learning_rate=0.2, max_depth=8, n_estimators=2000 ...............\n",
      "[CV]  learning_rate=0.2, max_depth=8, n_estimators=2000, score=0.946628891335493, total= 5.3min\n",
      "[CV] learning_rate=0.2, max_depth=13, n_estimators=2000 ..............\n",
      "[CV]  learning_rate=0.2, max_depth=8, n_estimators=2000, score=0.965156182733092, total= 5.6min\n",
      "[CV] learning_rate=0.2, max_depth=13, n_estimators=2000 ..............\n",
      "[CV]  learning_rate=0.2, max_depth=13, n_estimators=2000, score=0.6074922984903983, total= 2.3min\n",
      "[CV] learning_rate=0.2, max_depth=13, n_estimators=2000 ..............\n",
      "[CV]  learning_rate=0.2, max_depth=8, n_estimators=2000, score=0.9620702857586472, total= 6.6min\n",
      "[CV] learning_rate=0.2, max_depth=13, n_estimators=2000 ..............\n",
      "[CV]  learning_rate=0.2, max_depth=13, n_estimators=2000, score=0.5829848686949956, total= 2.1min\n",
      "[CV] learning_rate=0.2, max_depth=13, n_estimators=2000 ..............\n",
      "[CV]  learning_rate=0.2, max_depth=13, n_estimators=2000, score=0.5345418880960952, total= 2.0min\n",
      "[CV] learning_rate=0.2, max_depth=18, n_estimators=2000 ..............\n",
      "[CV]  learning_rate=0.2, max_depth=8, n_estimators=2000, score=0.9595875748370019, total= 5.9min\n",
      "[CV] learning_rate=0.2, max_depth=18, n_estimators=2000 ..............\n",
      "[CV]  learning_rate=0.2, max_depth=13, n_estimators=2000, score=0.9634659086899142, total= 6.4min\n",
      "[CV] learning_rate=0.2, max_depth=18, n_estimators=2000 ..............\n",
      "[CV]  learning_rate=0.2, max_depth=13, n_estimators=2000, score=0.5391450816322905, total= 2.8min\n",
      "[CV] learning_rate=0.2, max_depth=18, n_estimators=2000 ..............\n",
      "[CV]  learning_rate=0.2, max_depth=18, n_estimators=2000, score=0.5361313720508423, total= 2.5min\n",
      "[CV] learning_rate=0.2, max_depth=18, n_estimators=2000 ..............\n",
      "[CV]  learning_rate=0.2, max_depth=18, n_estimators=2000, score=0.5379118499149569, total= 2.2min\n",
      "[CV] learning_rate=0.2, max_depth=23, n_estimators=2000 ..............\n",
      "[CV]  learning_rate=0.2, max_depth=18, n_estimators=2000, score=0.542769843958417, total= 2.3min\n",
      "[CV] learning_rate=0.2, max_depth=23, n_estimators=2000 ..............\n",
      "[CV]  learning_rate=0.2, max_depth=18, n_estimators=2000, score=0.49520221535291087, total= 2.6min\n",
      "[CV] learning_rate=0.2, max_depth=23, n_estimators=2000 ..............\n",
      "[CV]  learning_rate=0.2, max_depth=23, n_estimators=2000, score=0.538063365868462, total= 2.8min\n",
      "[CV] learning_rate=0.2, max_depth=23, n_estimators=2000 ..............\n",
      "[CV]  learning_rate=0.2, max_depth=18, n_estimators=2000, score=0.9634213581475444, total= 8.2min\n",
      "[CV] learning_rate=0.2, max_depth=23, n_estimators=2000 ..............\n",
      "[CV]  learning_rate=0.2, max_depth=23, n_estimators=2000, score=0.5514946927512298, total= 2.8min\n",
      "[CV]  learning_rate=0.2, max_depth=23, n_estimators=2000, score=0.5661385883565172, total= 2.5min\n",
      "[CV]  learning_rate=0.2, max_depth=23, n_estimators=2000, score=0.5863965428414077, total= 1.7min\n",
      "[CV]  learning_rate=0.2, max_depth=23, n_estimators=2000, score=0.951161578200758, total= 6.8min\n"
     ]
    },
    {
     "name": "stderr",
     "output_type": "stream",
     "text": [
      "[Parallel(n_jobs=-1)]: Done  25 out of  25 | elapsed: 26.9min finished\n"
     ]
    },
    {
     "name": "stdout",
     "output_type": "stream",
     "text": [
      "CPU times: user 1min 7s, sys: 3.66 s, total: 1min 10s\n",
      "Wall time: 30min 12s\n"
     ]
    }
   ],
   "source": [
    "%%time\n",
    "\n",
    "param_grid = {\n",
    "    'n_estimators': [2000],\n",
    "    'learning_rate': [0.2],\n",
    "    'max_depth': np.arange(3, 25, 5)\n",
    "    \n",
    "}\n",
    "lgbm = LGB.LGBMClassifier(objective='binary', nthreads=-1, seed=27, verbosity=2, is_imbalance=True, metric='auc')\n",
    "\n",
    "clf = GridSearchCV(lgbm, param_grid=param_grid, cv=skf, n_jobs=-1, verbose=3, scoring='roc_auc').fit(X, Y)"
   ]
  },
  {
   "cell_type": "code",
   "execution_count": 26,
   "metadata": {},
   "outputs": [
    {
     "data": {
      "text/plain": [
       "0.9999549242082759"
      ]
     },
     "execution_count": 26,
     "metadata": {},
     "output_type": "execute_result"
    }
   ],
   "source": [
    "roc_auc_score(clf.predict(X), Y.values)"
   ]
  },
  {
   "cell_type": "code",
   "execution_count": 27,
   "metadata": {},
   "outputs": [
    {
     "data": {
      "text/plain": [
       "19"
      ]
     },
     "execution_count": 27,
     "metadata": {},
     "output_type": "execute_result"
    }
   ],
   "source": [
    "sum(clf.predict(test[features]))"
   ]
  },
  {
   "cell_type": "code",
   "execution_count": 30,
   "metadata": {},
   "outputs": [
    {
     "name": "stdout",
     "output_type": "stream",
     "text": [
      "best parameters: {'learning_rate': 0.2, 'max_depth': 3, 'n_estimators': 2000}\n",
      "best score:      0.96914 (+/-0.00408)\n"
     ]
    },
    {
     "data": {
      "text/html": [
       "<div>\n",
       "<style scoped>\n",
       "    .dataframe tbody tr th:only-of-type {\n",
       "        vertical-align: middle;\n",
       "    }\n",
       "\n",
       "    .dataframe tbody tr th {\n",
       "        vertical-align: top;\n",
       "    }\n",
       "\n",
       "    .dataframe thead th {\n",
       "        text-align: right;\n",
       "    }\n",
       "</style>\n",
       "<table border=\"1\" class=\"dataframe\">\n",
       "  <thead>\n",
       "    <tr style=\"text-align: right;\">\n",
       "      <th></th>\n",
       "      <th>mean_fit_time</th>\n",
       "      <th>std_fit_time</th>\n",
       "      <th>mean_score_time</th>\n",
       "      <th>std_score_time</th>\n",
       "      <th>param_learning_rate</th>\n",
       "      <th>param_max_depth</th>\n",
       "      <th>param_n_estimators</th>\n",
       "      <th>params</th>\n",
       "      <th>split0_test_score</th>\n",
       "      <th>split1_test_score</th>\n",
       "      <th>split2_test_score</th>\n",
       "      <th>split3_test_score</th>\n",
       "      <th>split4_test_score</th>\n",
       "      <th>mean_test_score</th>\n",
       "      <th>std_test_score</th>\n",
       "      <th>rank_test_score</th>\n",
       "      <th>split0_train_score</th>\n",
       "      <th>split1_train_score</th>\n",
       "      <th>split2_train_score</th>\n",
       "      <th>split3_train_score</th>\n",
       "      <th>split4_train_score</th>\n",
       "      <th>mean_train_score</th>\n",
       "      <th>std_train_score</th>\n",
       "    </tr>\n",
       "  </thead>\n",
       "  <tbody>\n",
       "    <tr>\n",
       "      <td>0</td>\n",
       "      <td>159.831967</td>\n",
       "      <td>14.660464</td>\n",
       "      <td>5.071562</td>\n",
       "      <td>1.287536</td>\n",
       "      <td>0.2</td>\n",
       "      <td>3</td>\n",
       "      <td>2000</td>\n",
       "      <td>{'learning_rate': 0.2, 'max_depth': 3, 'n_esti...</td>\n",
       "      <td>0.967170</td>\n",
       "      <td>0.968979</td>\n",
       "      <td>0.966663</td>\n",
       "      <td>0.977053</td>\n",
       "      <td>0.965859</td>\n",
       "      <td>0.969145</td>\n",
       "      <td>0.004085</td>\n",
       "      <td>1</td>\n",
       "      <td>1.000000</td>\n",
       "      <td>1.000000</td>\n",
       "      <td>1.000000</td>\n",
       "      <td>1.000000</td>\n",
       "      <td>1.000000</td>\n",
       "      <td>1.000000</td>\n",
       "      <td>9.219355e-08</td>\n",
       "    </tr>\n",
       "    <tr>\n",
       "      <td>1</td>\n",
       "      <td>327.494967</td>\n",
       "      <td>33.242555</td>\n",
       "      <td>12.918314</td>\n",
       "      <td>2.416612</td>\n",
       "      <td>0.2</td>\n",
       "      <td>8</td>\n",
       "      <td>2000</td>\n",
       "      <td>{'learning_rate': 0.2, 'max_depth': 8, 'n_esti...</td>\n",
       "      <td>0.946629</td>\n",
       "      <td>0.965156</td>\n",
       "      <td>0.962024</td>\n",
       "      <td>0.962070</td>\n",
       "      <td>0.959588</td>\n",
       "      <td>0.959093</td>\n",
       "      <td>0.006478</td>\n",
       "      <td>2</td>\n",
       "      <td>1.000000</td>\n",
       "      <td>1.000000</td>\n",
       "      <td>1.000000</td>\n",
       "      <td>1.000000</td>\n",
       "      <td>1.000000</td>\n",
       "      <td>1.000000</td>\n",
       "      <td>9.219355e-08</td>\n",
       "    </tr>\n",
       "    <tr>\n",
       "      <td>2</td>\n",
       "      <td>184.036656</td>\n",
       "      <td>96.913452</td>\n",
       "      <td>3.763664</td>\n",
       "      <td>3.599735</td>\n",
       "      <td>0.2</td>\n",
       "      <td>13</td>\n",
       "      <td>2000</td>\n",
       "      <td>{'learning_rate': 0.2, 'max_depth': 13, 'n_est...</td>\n",
       "      <td>0.607492</td>\n",
       "      <td>0.963466</td>\n",
       "      <td>0.582985</td>\n",
       "      <td>0.534542</td>\n",
       "      <td>0.539145</td>\n",
       "      <td>0.645527</td>\n",
       "      <td>0.161294</td>\n",
       "      <td>3</td>\n",
       "      <td>0.631433</td>\n",
       "      <td>1.000000</td>\n",
       "      <td>0.600591</td>\n",
       "      <td>0.555290</td>\n",
       "      <td>0.540754</td>\n",
       "      <td>0.665613</td>\n",
       "      <td>1.702772e-01</td>\n",
       "    </tr>\n",
       "    <tr>\n",
       "      <td>4</td>\n",
       "      <td>196.411339</td>\n",
       "      <td>104.308046</td>\n",
       "      <td>2.999639</td>\n",
       "      <td>2.901384</td>\n",
       "      <td>0.2</td>\n",
       "      <td>23</td>\n",
       "      <td>2000</td>\n",
       "      <td>{'learning_rate': 0.2, 'max_depth': 23, 'n_est...</td>\n",
       "      <td>0.951162</td>\n",
       "      <td>0.538063</td>\n",
       "      <td>0.551495</td>\n",
       "      <td>0.566139</td>\n",
       "      <td>0.586397</td>\n",
       "      <td>0.638652</td>\n",
       "      <td>0.157078</td>\n",
       "      <td>4</td>\n",
       "      <td>1.000000</td>\n",
       "      <td>0.548510</td>\n",
       "      <td>0.563109</td>\n",
       "      <td>0.559775</td>\n",
       "      <td>0.619768</td>\n",
       "      <td>0.658232</td>\n",
       "      <td>1.726648e-01</td>\n",
       "    </tr>\n",
       "    <tr>\n",
       "      <td>3</td>\n",
       "      <td>210.958394</td>\n",
       "      <td>136.164610</td>\n",
       "      <td>3.676935</td>\n",
       "      <td>3.984995</td>\n",
       "      <td>0.2</td>\n",
       "      <td>18</td>\n",
       "      <td>2000</td>\n",
       "      <td>{'learning_rate': 0.2, 'max_depth': 18, 'n_est...</td>\n",
       "      <td>0.963421</td>\n",
       "      <td>0.536131</td>\n",
       "      <td>0.537912</td>\n",
       "      <td>0.542770</td>\n",
       "      <td>0.495202</td>\n",
       "      <td>0.615089</td>\n",
       "      <td>0.175003</td>\n",
       "      <td>5</td>\n",
       "      <td>1.000000</td>\n",
       "      <td>0.564492</td>\n",
       "      <td>0.541636</td>\n",
       "      <td>0.543837</td>\n",
       "      <td>0.506028</td>\n",
       "      <td>0.631198</td>\n",
       "      <td>1.853566e-01</td>\n",
       "    </tr>\n",
       "  </tbody>\n",
       "</table>\n",
       "</div>"
      ],
      "text/plain": [
       "   mean_fit_time  std_fit_time  mean_score_time  std_score_time  \\\n",
       "0     159.831967     14.660464         5.071562        1.287536   \n",
       "1     327.494967     33.242555        12.918314        2.416612   \n",
       "2     184.036656     96.913452         3.763664        3.599735   \n",
       "4     196.411339    104.308046         2.999639        2.901384   \n",
       "3     210.958394    136.164610         3.676935        3.984995   \n",
       "\n",
       "  param_learning_rate param_max_depth param_n_estimators  \\\n",
       "0                 0.2               3               2000   \n",
       "1                 0.2               8               2000   \n",
       "2                 0.2              13               2000   \n",
       "4                 0.2              23               2000   \n",
       "3                 0.2              18               2000   \n",
       "\n",
       "                                              params  split0_test_score  \\\n",
       "0  {'learning_rate': 0.2, 'max_depth': 3, 'n_esti...           0.967170   \n",
       "1  {'learning_rate': 0.2, 'max_depth': 8, 'n_esti...           0.946629   \n",
       "2  {'learning_rate': 0.2, 'max_depth': 13, 'n_est...           0.607492   \n",
       "4  {'learning_rate': 0.2, 'max_depth': 23, 'n_est...           0.951162   \n",
       "3  {'learning_rate': 0.2, 'max_depth': 18, 'n_est...           0.963421   \n",
       "\n",
       "   split1_test_score  split2_test_score  split3_test_score  split4_test_score  \\\n",
       "0           0.968979           0.966663           0.977053           0.965859   \n",
       "1           0.965156           0.962024           0.962070           0.959588   \n",
       "2           0.963466           0.582985           0.534542           0.539145   \n",
       "4           0.538063           0.551495           0.566139           0.586397   \n",
       "3           0.536131           0.537912           0.542770           0.495202   \n",
       "\n",
       "   mean_test_score  std_test_score  rank_test_score  split0_train_score  \\\n",
       "0         0.969145        0.004085                1            1.000000   \n",
       "1         0.959093        0.006478                2            1.000000   \n",
       "2         0.645527        0.161294                3            0.631433   \n",
       "4         0.638652        0.157078                4            1.000000   \n",
       "3         0.615089        0.175003                5            1.000000   \n",
       "\n",
       "   split1_train_score  split2_train_score  split3_train_score  \\\n",
       "0            1.000000            1.000000            1.000000   \n",
       "1            1.000000            1.000000            1.000000   \n",
       "2            1.000000            0.600591            0.555290   \n",
       "4            0.548510            0.563109            0.559775   \n",
       "3            0.564492            0.541636            0.543837   \n",
       "\n",
       "   split4_train_score  mean_train_score  std_train_score  \n",
       "0            1.000000          1.000000     9.219355e-08  \n",
       "1            1.000000          1.000000     9.219355e-08  \n",
       "2            0.540754          0.665613     1.702772e-01  \n",
       "4            0.619768          0.658232     1.726648e-01  \n",
       "3            0.506028          0.631198     1.853566e-01  "
      ]
     },
     "metadata": {},
     "output_type": "display_data"
    },
    {
     "data": {
      "image/png": "[encoded data removed]",
      "text/plain": [
       "<matplotlib.figure.Figure at 0x1a18261898>"
      ]
     },
     "metadata": {},
     "output_type": "display_data"
    }
   ],
   "source": [
    "GridSearch_table_plot(clf, \"max_depth\", display_all_params=False, negative=False)"
   ]
  },
  {
   "cell_type": "markdown",
   "metadata": {},
   "source": [
    "Taking max_depth=3 and max_depth=13"
   ]
  },
  {
   "cell_type": "markdown",
   "metadata": {},
   "source": [
    "### Tuning min_data_in_leaf"
   ]
  },
  {
   "cell_type": "code",
   "execution_count": 42,
   "metadata": {},
   "outputs": [
    {
     "name": "stdout",
     "output_type": "stream",
     "text": [
      "Fitting 5 folds for each of 2 candidates, totalling 10 fits\n",
      "[CV] learning_rate=0.2, max_depth=5, min_data_in_leaf=5, n_estimators=2000 \n",
      "[CV] learning_rate=0.2, max_depth=5, min_data_in_leaf=5, n_estimators=2000 \n",
      "[CV] learning_rate=0.2, max_depth=5, min_data_in_leaf=5, n_estimators=2000 \n",
      "[CV] learning_rate=0.2, max_depth=5, min_data_in_leaf=5, n_estimators=2000 \n",
      "[CV]  learning_rate=0.2, max_depth=5, min_data_in_leaf=5, n_estimators=2000, score=0.5198408707557889, total=  39.1s\n",
      "[CV] learning_rate=0.2, max_depth=5, min_data_in_leaf=5, n_estimators=2000 \n",
      "[CV]  learning_rate=0.2, max_depth=5, min_data_in_leaf=5, n_estimators=2000, score=0.9624284544755211, total= 1.7min\n",
      "[CV]  learning_rate=0.2, max_depth=5, min_data_in_leaf=5, n_estimators=2000, score=0.9568916160290203, total= 1.7min\n",
      "[CV] learning_rate=0.2, max_depth=5, min_data_in_leaf=10, n_estimators=2000 \n",
      "[CV] learning_rate=0.2, max_depth=5, min_data_in_leaf=10, n_estimators=2000 \n",
      "[CV]  learning_rate=0.2, max_depth=5, min_data_in_leaf=5, n_estimators=2000, score=0.9587192910023783, total= 1.7min\n",
      "[CV] learning_rate=0.2, max_depth=5, min_data_in_leaf=10, n_estimators=2000 \n",
      "[CV]  learning_rate=0.2, max_depth=5, min_data_in_leaf=5, n_estimators=2000, score=0.9460520705644087, total= 2.0min\n",
      "[CV] learning_rate=0.2, max_depth=5, min_data_in_leaf=10, n_estimators=2000 \n",
      "[CV]  learning_rate=0.2, max_depth=5, min_data_in_leaf=10, n_estimators=2000, score=0.5954497575744744, total=  41.3s\n",
      "[CV] learning_rate=0.2, max_depth=5, min_data_in_leaf=10, n_estimators=2000 \n",
      "[CV]  learning_rate=0.2, max_depth=5, min_data_in_leaf=10, n_estimators=2000, score=0.9566818756042994, total= 1.7min\n"
     ]
    },
    {
     "name": "stderr",
     "output_type": "stream",
     "text": [
      "[Parallel(n_jobs=-1)]: Done   7 out of  10 | elapsed:  4.9min remaining:  2.1min\n"
     ]
    },
    {
     "name": "stdout",
     "output_type": "stream",
     "text": [
      "[CV]  learning_rate=0.2, max_depth=5, min_data_in_leaf=10, n_estimators=2000, score=0.9609507879711772, total= 1.8min\n",
      "[CV]  learning_rate=0.2, max_depth=5, min_data_in_leaf=10, n_estimators=2000, score=0.9693911308250938, total= 1.8min\n",
      "[CV]  learning_rate=0.2, max_depth=5, min_data_in_leaf=10, n_estimators=2000, score=0.9598620512000569, total= 1.5min\n"
     ]
    },
    {
     "name": "stderr",
     "output_type": "stream",
     "text": [
      "[Parallel(n_jobs=-1)]: Done  10 out of  10 | elapsed:  5.3min finished\n"
     ]
    },
    {
     "name": "stdout",
     "output_type": "stream",
     "text": [
      "CPU times: user 1min 22s, sys: 2.18 s, total: 1min 24s\n",
      "Wall time: 5min 43s\n"
     ]
    }
   ],
   "source": [
    "%%time\n",
    "\n",
    "param_grid = {\n",
    "    'n_estimators': [2000],\n",
    "    'learning_rate': [0.2],\n",
    "    'max_depth': [5],\n",
    "    'min_data_in_leaf' : [5, 10]\n",
    "    \n",
    "}\n",
    "lgbm = LGB.LGBMClassifier(objective='binary', nthreads=-1, seed=27, verbosity=2, is_imbalance=True, metric='auc')\n",
    "\n",
    "clf = GridSearchCV(lgbm, param_grid=param_grid, cv=skf, n_jobs=-1, verbose=3, scoring='roc_auc').fit(X, Y)"
   ]
  },
  {
   "cell_type": "code",
   "execution_count": 43,
   "metadata": {},
   "outputs": [
    {
     "data": {
      "text/plain": [
       "0.9999678021765729"
      ]
     },
     "execution_count": 43,
     "metadata": {},
     "output_type": "execute_result"
    }
   ],
   "source": [
    "roc_auc_score(clf.predict(X), Y.values)"
   ]
  },
  {
   "cell_type": "code",
   "execution_count": 44,
   "metadata": {},
   "outputs": [
    {
     "data": {
      "text/plain": [
       "91"
      ]
     },
     "execution_count": 44,
     "metadata": {},
     "output_type": "execute_result"
    }
   ],
   "source": [
    "sum(clf.predict(test[features]))"
   ]
  },
  {
   "cell_type": "code",
   "execution_count": 45,
   "metadata": {},
   "outputs": [
    {
     "name": "stdout",
     "output_type": "stream",
     "text": [
      "best parameters: {'learning_rate': 0.2, 'max_depth': 5, 'min_data_in_leaf': 10, 'n_estimators': 2000}\n",
      "best score:      0.88847 (+/-0.14657)\n"
     ]
    },
    {
     "data": {
      "text/html": [
       "<div>\n",
       "<style scoped>\n",
       "    .dataframe tbody tr th:only-of-type {\n",
       "        vertical-align: middle;\n",
       "    }\n",
       "\n",
       "    .dataframe tbody tr th {\n",
       "        vertical-align: top;\n",
       "    }\n",
       "\n",
       "    .dataframe thead th {\n",
       "        text-align: right;\n",
       "    }\n",
       "</style>\n",
       "<table border=\"1\" class=\"dataframe\">\n",
       "  <thead>\n",
       "    <tr style=\"text-align: right;\">\n",
       "      <th></th>\n",
       "      <th>mean_fit_time</th>\n",
       "      <th>std_fit_time</th>\n",
       "      <th>mean_score_time</th>\n",
       "      <th>std_score_time</th>\n",
       "      <th>param_learning_rate</th>\n",
       "      <th>param_max_depth</th>\n",
       "      <th>param_min_data_in_leaf</th>\n",
       "      <th>param_n_estimators</th>\n",
       "      <th>params</th>\n",
       "      <th>split0_test_score</th>\n",
       "      <th>split1_test_score</th>\n",
       "      <th>split2_test_score</th>\n",
       "      <th>split3_test_score</th>\n",
       "      <th>split4_test_score</th>\n",
       "      <th>mean_test_score</th>\n",
       "      <th>std_test_score</th>\n",
       "      <th>rank_test_score</th>\n",
       "      <th>split0_train_score</th>\n",
       "      <th>split1_train_score</th>\n",
       "      <th>split2_train_score</th>\n",
       "      <th>split3_train_score</th>\n",
       "      <th>split4_train_score</th>\n",
       "      <th>mean_train_score</th>\n",
       "      <th>std_train_score</th>\n",
       "    </tr>\n",
       "  </thead>\n",
       "  <tbody>\n",
       "    <tr>\n",
       "      <td>1</td>\n",
       "      <td>82.656894</td>\n",
       "      <td>21.251763</td>\n",
       "      <td>7.668170</td>\n",
       "      <td>5.120949</td>\n",
       "      <td>0.2</td>\n",
       "      <td>5</td>\n",
       "      <td>10</td>\n",
       "      <td>2000</td>\n",
       "      <td>{'learning_rate': 0.2, 'max_depth': 5, 'min_da...</td>\n",
       "      <td>0.956682</td>\n",
       "      <td>0.969391</td>\n",
       "      <td>0.960951</td>\n",
       "      <td>0.595450</td>\n",
       "      <td>0.959862</td>\n",
       "      <td>0.888466</td>\n",
       "      <td>0.146570</td>\n",
       "      <td>1</td>\n",
       "      <td>1.0</td>\n",
       "      <td>1.0</td>\n",
       "      <td>1.0</td>\n",
       "      <td>0.633624</td>\n",
       "      <td>1.0</td>\n",
       "      <td>0.926725</td>\n",
       "      <td>0.146551</td>\n",
       "    </tr>\n",
       "    <tr>\n",
       "      <td>0</td>\n",
       "      <td>85.180376</td>\n",
       "      <td>24.846747</td>\n",
       "      <td>7.301648</td>\n",
       "      <td>3.731637</td>\n",
       "      <td>0.2</td>\n",
       "      <td>5</td>\n",
       "      <td>5</td>\n",
       "      <td>2000</td>\n",
       "      <td>{'learning_rate': 0.2, 'max_depth': 5, 'min_da...</td>\n",
       "      <td>0.962428</td>\n",
       "      <td>0.956892</td>\n",
       "      <td>0.958719</td>\n",
       "      <td>0.519841</td>\n",
       "      <td>0.946052</td>\n",
       "      <td>0.868785</td>\n",
       "      <td>0.174559</td>\n",
       "      <td>2</td>\n",
       "      <td>1.0</td>\n",
       "      <td>1.0</td>\n",
       "      <td>1.0</td>\n",
       "      <td>0.520854</td>\n",
       "      <td>1.0</td>\n",
       "      <td>0.904171</td>\n",
       "      <td>0.191659</td>\n",
       "    </tr>\n",
       "  </tbody>\n",
       "</table>\n",
       "</div>"
      ],
      "text/plain": [
       "   mean_fit_time  std_fit_time  mean_score_time  std_score_time  \\\n",
       "1      82.656894     21.251763         7.668170        5.120949   \n",
       "0      85.180376     24.846747         7.301648        3.731637   \n",
       "\n",
       "  param_learning_rate param_max_depth param_min_data_in_leaf  \\\n",
       "1                 0.2               5                     10   \n",
       "0                 0.2               5                      5   \n",
       "\n",
       "  param_n_estimators                                             params  \\\n",
       "1               2000  {'learning_rate': 0.2, 'max_depth': 5, 'min_da...   \n",
       "0               2000  {'learning_rate': 0.2, 'max_depth': 5, 'min_da...   \n",
       "\n",
       "   split0_test_score  split1_test_score  split2_test_score  split3_test_score  \\\n",
       "1           0.956682           0.969391           0.960951           0.595450   \n",
       "0           0.962428           0.956892           0.958719           0.519841   \n",
       "\n",
       "   split4_test_score  mean_test_score  std_test_score  rank_test_score  \\\n",
       "1           0.959862         0.888466        0.146570                1   \n",
       "0           0.946052         0.868785        0.174559                2   \n",
       "\n",
       "   split0_train_score  split1_train_score  split2_train_score  \\\n",
       "1                 1.0                 1.0                 1.0   \n",
       "0                 1.0                 1.0                 1.0   \n",
       "\n",
       "   split3_train_score  split4_train_score  mean_train_score  std_train_score  \n",
       "1            0.633624                 1.0          0.926725         0.146551  \n",
       "0            0.520854                 1.0          0.904171         0.191659  "
      ]
     },
     "metadata": {},
     "output_type": "display_data"
    },
    {
     "data": {
      "image/png": "[encoded data removed]",
      "text/plain": [
       "<matplotlib.figure.Figure at 0x1048dc278>"
      ]
     },
     "metadata": {},
     "output_type": "display_data"
    }
   ],
   "source": [
    "GridSearch_table_plot(clf, \"min_data_in_leaf\", display_all_params=False, negative=False)"
   ]
  },
  {
   "cell_type": "markdown",
   "metadata": {},
   "source": [
    "## Tuning n_estimators again"
   ]
  },
  {
   "cell_type": "code",
   "execution_count": 54,
   "metadata": {},
   "outputs": [
    {
     "name": "stdout",
     "output_type": "stream",
     "text": [
      "Fitting 5 folds for each of 1 candidates, totalling 5 fits\n",
      "[CV] learning_rate=0.2, max_depth=5, min_data_in_leaf=10, n_estimators=4000 \n",
      "[CV] learning_rate=0.2, max_depth=5, min_data_in_leaf=10, n_estimators=4000 \n",
      "[CV] learning_rate=0.2, max_depth=5, min_data_in_leaf=10, n_estimators=4000 \n",
      "[CV] learning_rate=0.2, max_depth=5, min_data_in_leaf=10, n_estimators=4000 \n",
      "[CV]  learning_rate=0.2, max_depth=5, min_data_in_leaf=10, n_estimators=4000, score=0.5633336685651373, total= 2.3min\n",
      "[CV] learning_rate=0.2, max_depth=5, min_data_in_leaf=10, n_estimators=4000 \n",
      "[CV]  learning_rate=0.2, max_depth=5, min_data_in_leaf=10, n_estimators=4000, score=0.9543921541642847, total= 6.4min\n"
     ]
    },
    {
     "name": "stderr",
     "output_type": "stream",
     "text": [
      "[Parallel(n_jobs=-1)]: Done   2 out of   5 | elapsed:  8.1min remaining: 12.2min\n"
     ]
    },
    {
     "name": "stdout",
     "output_type": "stream",
     "text": [
      "[CV]  learning_rate=0.2, max_depth=5, min_data_in_leaf=10, n_estimators=4000, score=0.9594572420655925, total= 6.5min\n",
      "[CV]  learning_rate=0.2, max_depth=5, min_data_in_leaf=10, n_estimators=4000, score=0.9688768146626863, total= 6.6min\n",
      "[CV]  learning_rate=0.2, max_depth=5, min_data_in_leaf=10, n_estimators=4000, score=0.9598016486347243, total= 9.8min\n"
     ]
    },
    {
     "name": "stderr",
     "output_type": "stream",
     "text": [
      "[Parallel(n_jobs=-1)]: Done   5 out of   5 | elapsed: 13.2min finished\n"
     ]
    },
    {
     "name": "stdout",
     "output_type": "stream",
     "text": [
      "CPU times: user 2min 25s, sys: 6.55 s, total: 2min 31s\n",
      "Wall time: 22min 20s\n"
     ]
    }
   ],
   "source": [
    "%%time\n",
    "\n",
    "param_grid = {\n",
    "    'n_estimators': [4000],\n",
    "    'learning_rate': [0.2],\n",
    "    'max_depth': [5],\n",
    "    'min_data_in_leaf' : [10]\n",
    "    \n",
    "}\n",
    "lgbm = LGB.LGBMClassifier(objective='binary', nthreads=-1, seed=27, verbosity=2, is_imbalance=True, metric='auc')\n",
    "\n",
    "clf = GridSearchCV(lgbm, param_grid=param_grid, cv=skf, n_jobs=-1, verbose=3, scoring='roc_auc').fit(X, Y)"
   ]
  },
  {
   "cell_type": "code",
   "execution_count": 59,
   "metadata": {},
   "outputs": [
    {
     "data": {
      "text/plain": [
       "0.9999678021765729"
      ]
     },
     "execution_count": 59,
     "metadata": {},
     "output_type": "execute_result"
    }
   ],
   "source": [
    "roc_auc_score(clf.predict(X), Y.values)"
   ]
  },
  {
   "cell_type": "code",
   "execution_count": 60,
   "metadata": {},
   "outputs": [
    {
     "data": {
      "text/plain": [
       "91"
      ]
     },
     "execution_count": 60,
     "metadata": {},
     "output_type": "execute_result"
    }
   ],
   "source": [
    "sum(clf.predict(test[features]))"
   ]
  },
  {
   "cell_type": "code",
   "execution_count": null,
   "metadata": {
    "collapsed": true
   },
   "outputs": [],
   "source": [
    "GridSearch_table_plot(clf, \"min_data_in_leaf\", display_all_params=False, negative=False)"
   ]
  },
  {
   "cell_type": "markdown",
   "metadata": {},
   "source": [
    "## Tuning n_estimators again"
   ]
  },
  {
   "cell_type": "code",
   "execution_count": 54,
   "metadata": {},
   "outputs": [
    {
     "name": "stdout",
     "output_type": "stream",
     "text": [
      "Fitting 5 folds for each of 1 candidates, totalling 5 fits\n",
      "[CV] learning_rate=0.2, max_depth=5, min_data_in_leaf=10, n_estimators=4000 \n",
      "[CV] learning_rate=0.2, max_depth=5, min_data_in_leaf=10, n_estimators=4000 \n",
      "[CV] learning_rate=0.2, max_depth=5, min_data_in_leaf=10, n_estimators=4000 \n",
      "[CV] learning_rate=0.2, max_depth=5, min_data_in_leaf=10, n_estimators=4000 \n",
      "[CV]  learning_rate=0.2, max_depth=5, min_data_in_leaf=10, n_estimators=4000, score=0.5633336685651373, total= 2.3min\n",
      "[CV] learning_rate=0.2, max_depth=5, min_data_in_leaf=10, n_estimators=4000 \n",
      "[CV]  learning_rate=0.2, max_depth=5, min_data_in_leaf=10, n_estimators=4000, score=0.9543921541642847, total= 6.4min\n"
     ]
    },
    {
     "name": "stderr",
     "output_type": "stream",
     "text": [
      "[Parallel(n_jobs=-1)]: Done   2 out of   5 | elapsed:  8.1min remaining: 12.2min\n"
     ]
    },
    {
     "name": "stdout",
     "output_type": "stream",
     "text": [
      "[CV]  learning_rate=0.2, max_depth=5, min_data_in_leaf=10, n_estimators=4000, score=0.9594572420655925, total= 6.5min\n",
      "[CV]  learning_rate=0.2, max_depth=5, min_data_in_leaf=10, n_estimators=4000, score=0.9688768146626863, total= 6.6min\n",
      "[CV]  learning_rate=0.2, max_depth=5, min_data_in_leaf=10, n_estimators=4000, score=0.9598016486347243, total= 9.8min\n"
     ]
    },
    {
     "name": "stderr",
     "output_type": "stream",
     "text": [
      "[Parallel(n_jobs=-1)]: Done   5 out of   5 | elapsed: 13.2min finished\n"
     ]
    },
    {
     "name": "stdout",
     "output_type": "stream",
     "text": [
      "CPU times: user 2min 25s, sys: 6.55 s, total: 2min 31s\n",
      "Wall time: 22min 20s\n"
     ]
    }
   ],
   "source": [
    "%%time\n",
    "\n",
    "param_grid = {\n",
    "    'n_estimators': [4000],\n",
    "    'learning_rate': [0.2],\n",
    "    'max_depth': [5],\n",
    "    'min_data_in_leaf' : [10]\n",
    "    \n",
    "}\n",
    "lgbm = LGB.LGBMClassifier(objective='binary', nthreads=-1, seed=27, verbosity=2, is_imbalance=True, metric='auc')\n",
    "\n",
    "clf = GridSearchCV(lgbm, param_grid=param_grid, cv=skf, n_jobs=-1, verbose=3, scoring='roc_auc').fit(X, Y)"
   ]
  },
  {
   "cell_type": "code",
   "execution_count": 59,
   "metadata": {},
   "outputs": [
    {
     "data": {
      "text/plain": [
       "0.9999678021765729"
      ]
     },
     "execution_count": 59,
     "metadata": {},
     "output_type": "execute_result"
    }
   ],
   "source": [
    "roc_auc_score(clf.predict(X), Y.values)"
   ]
  },
  {
   "cell_type": "code",
   "execution_count": 60,
   "metadata": {},
   "outputs": [
    {
     "data": {
      "text/plain": [
       "91"
      ]
     },
     "execution_count": 60,
     "metadata": {},
     "output_type": "execute_result"
    }
   ],
   "source": [
    "sum(clf.predict(test[features]))"
   ]
  },
  {
   "cell_type": "code",
   "execution_count": null,
   "metadata": {
    "collapsed": true
   },
   "outputs": [],
   "source": [
    "GridSearch_table_plot(clf, \"min_data_in_leaf\", display_all_params=False, negative=False)"
   ]
  },
  {
   "cell_type": "markdown",
   "metadata": {},
   "source": [
    "## Tuning max_depth again"
   ]
  },
  {
   "cell_type": "code",
   "execution_count": 64,
   "metadata": {},
   "outputs": [
    {
     "name": "stdout",
     "output_type": "stream",
     "text": [
      "Fitting 5 folds for each of 4 candidates, totalling 20 fits\n",
      "[CV] learning_rate=0.2, max_depth=3, min_data_in_leaf=10, n_estimators=4000 \n",
      "[CV] learning_rate=0.2, max_depth=3, min_data_in_leaf=10, n_estimators=4000 \n",
      "[CV] learning_rate=0.2, max_depth=3, min_data_in_leaf=10, n_estimators=4000 \n",
      "[CV] learning_rate=0.2, max_depth=3, min_data_in_leaf=10, n_estimators=4000 \n",
      "[CV]  learning_rate=0.2, max_depth=3, min_data_in_leaf=10, n_estimators=4000, score=0.5275796528410014, total= 2.1min\n",
      "[CV] learning_rate=0.2, max_depth=3, min_data_in_leaf=10, n_estimators=4000 \n",
      "[CV]  learning_rate=0.2, max_depth=3, min_data_in_leaf=10, n_estimators=4000, score=0.9630812743043058, total= 3.9min\n",
      "[CV] learning_rate=0.2, max_depth=5, min_data_in_leaf=10, n_estimators=4000 \n",
      "[CV]  learning_rate=0.2, max_depth=3, min_data_in_leaf=10, n_estimators=4000, score=0.97432344928825, total= 3.9min\n",
      "[CV] learning_rate=0.2, max_depth=5, min_data_in_leaf=10, n_estimators=4000 \n",
      "[CV]  learning_rate=0.2, max_depth=3, min_data_in_leaf=10, n_estimators=4000, score=0.9675195669510843, total= 4.0min\n",
      "[CV] learning_rate=0.2, max_depth=5, min_data_in_leaf=10, n_estimators=4000 \n",
      "[CV]  learning_rate=0.2, max_depth=3, min_data_in_leaf=10, n_estimators=4000, score=0.9649425287356322, total= 3.9min\n",
      "[CV] learning_rate=0.2, max_depth=5, min_data_in_leaf=10, n_estimators=4000 \n",
      "[CV]  learning_rate=0.2, max_depth=5, min_data_in_leaf=10, n_estimators=4000, score=0.6212912776213362, total= 2.0min\n",
      "[CV] learning_rate=0.2, max_depth=5, min_data_in_leaf=10, n_estimators=4000 \n",
      "[CV]  learning_rate=0.2, max_depth=5, min_data_in_leaf=10, n_estimators=4000, score=0.9543921541642847, total= 5.7min\n",
      "[CV] learning_rate=0.2, max_depth=8, min_data_in_leaf=10, n_estimators=4000 \n",
      "[CV]  learning_rate=0.2, max_depth=5, min_data_in_leaf=10, n_estimators=4000, score=0.9688768146626863, total= 5.9min\n",
      "[CV]  learning_rate=0.2, max_depth=5, min_data_in_leaf=10, n_estimators=4000, score=0.9594572420655925, total= 5.9min\n",
      "[CV] learning_rate=0.2, max_depth=8, min_data_in_leaf=10, n_estimators=4000 \n",
      "[CV] learning_rate=0.2, max_depth=8, min_data_in_leaf=10, n_estimators=4000 \n",
      "[CV]  learning_rate=0.2, max_depth=8, min_data_in_leaf=10, n_estimators=4000, score=0.5925054519277593, total= 2.5min\n",
      "[CV] learning_rate=0.2, max_depth=8, min_data_in_leaf=10, n_estimators=4000 \n",
      "[CV]  learning_rate=0.2, max_depth=8, min_data_in_leaf=10, n_estimators=4000, score=0.5090159711488924, total= 2.5min\n",
      "[CV] learning_rate=0.2, max_depth=8, min_data_in_leaf=10, n_estimators=4000 \n",
      "[CV]  learning_rate=0.2, max_depth=8, min_data_in_leaf=10, n_estimators=4000, score=0.6145820100498967, total= 2.7min\n",
      "[CV] learning_rate=0.2, max_depth=10, min_data_in_leaf=10, n_estimators=4000 \n",
      "[CV]  learning_rate=0.2, max_depth=5, min_data_in_leaf=10, n_estimators=4000, score=0.9598016486347243, total= 7.2min\n",
      "[CV] learning_rate=0.2, max_depth=10, min_data_in_leaf=10, n_estimators=4000 \n",
      "[CV]  learning_rate=0.2, max_depth=8, min_data_in_leaf=10, n_estimators=4000, score=0.6202262550020113, total= 2.8min\n",
      "[CV] learning_rate=0.2, max_depth=10, min_data_in_leaf=10, n_estimators=4000 \n",
      "[CV]  learning_rate=0.2, max_depth=8, min_data_in_leaf=10, n_estimators=4000, score=0.5823848798166604, total= 2.8min\n",
      "[CV] learning_rate=0.2, max_depth=10, min_data_in_leaf=10, n_estimators=4000 \n",
      "[CV]  learning_rate=0.2, max_depth=10, min_data_in_leaf=10, n_estimators=4000, score=0.5417266555157982, total= 3.0min\n",
      "[CV] learning_rate=0.2, max_depth=10, min_data_in_leaf=10, n_estimators=4000 \n",
      "[CV]  learning_rate=0.2, max_depth=10, min_data_in_leaf=10, n_estimators=4000, score=0.5094001644400218, total= 3.1min\n",
      "[CV]  learning_rate=0.2, max_depth=10, min_data_in_leaf=10, n_estimators=4000, score=0.5572196579929848, total= 2.9min\n",
      "[CV]  learning_rate=0.2, max_depth=10, min_data_in_leaf=10, n_estimators=4000, score=0.5247012908188831, total= 3.1min\n",
      "[CV]  learning_rate=0.2, max_depth=10, min_data_in_leaf=10, n_estimators=4000, score=0.5192986196237276, total= 3.0min\n"
     ]
    },
    {
     "name": "stderr",
     "output_type": "stream",
     "text": [
      "[Parallel(n_jobs=-1)]: Done  20 out of  20 | elapsed: 21.3min remaining:    0.0s\n",
      "[Parallel(n_jobs=-1)]: Done  20 out of  20 | elapsed: 21.3min finished\n"
     ]
    },
    {
     "name": "stdout",
     "output_type": "stream",
     "text": [
      "CPU times: user 2min 27s, sys: 6.62 s, total: 2min 34s\n",
      "Wall time: 26min 18s\n"
     ]
    }
   ],
   "source": [
    "%%time\n",
    "\n",
    "param_grid = {\n",
    "    'n_estimators': [4000],\n",
    "    'learning_rate': [0.2],\n",
    "    'max_depth': [3, 5,8,10],\n",
    "    'min_data_in_leaf' : [10]\n",
    "    \n",
    "}\n",
    "lgbm = LGB.LGBMClassifier(objective='binary', nthreads=-1, seed=27, verbosity=2, is_imbalance=True, metric='auc')\n",
    "\n",
    "clf = GridSearchCV(lgbm, param_grid=param_grid, cv=skf, n_jobs=-1, verbose=3, scoring='roc_auc').fit(X, Y)"
   ]
  },
  {
   "cell_type": "code",
   "execution_count": 65,
   "metadata": {},
   "outputs": [
    {
     "data": {
      "text/plain": [
       "0.9999678021765729"
      ]
     },
     "execution_count": 65,
     "metadata": {},
     "output_type": "execute_result"
    }
   ],
   "source": [
    "roc_auc_score(clf.predict(X), Y.values)"
   ]
  },
  {
   "cell_type": "code",
   "execution_count": 66,
   "metadata": {},
   "outputs": [
    {
     "data": {
      "text/plain": [
       "91"
      ]
     },
     "execution_count": 66,
     "metadata": {},
     "output_type": "execute_result"
    }
   ],
   "source": [
    "sum(clf.predict(test[features]))"
   ]
  },
  {
   "cell_type": "code",
   "execution_count": 67,
   "metadata": {},
   "outputs": [
    {
     "name": "stdout",
     "output_type": "stream",
     "text": [
      "best parameters: {'learning_rate': 0.2, 'max_depth': 5, 'min_data_in_leaf': 10, 'n_estimators': 4000}\n",
      "best score:      0.89276 (+/-0.13582)\n"
     ]
    },
    {
     "data": {
      "text/html": [
       "<div>\n",
       "<style scoped>\n",
       "    .dataframe tbody tr th:only-of-type {\n",
       "        vertical-align: middle;\n",
       "    }\n",
       "\n",
       "    .dataframe tbody tr th {\n",
       "        vertical-align: top;\n",
       "    }\n",
       "\n",
       "    .dataframe thead th {\n",
       "        text-align: right;\n",
       "    }\n",
       "</style>\n",
       "<table border=\"1\" class=\"dataframe\">\n",
       "  <thead>\n",
       "    <tr style=\"text-align: right;\">\n",
       "      <th></th>\n",
       "      <th>mean_fit_time</th>\n",
       "      <th>std_fit_time</th>\n",
       "      <th>mean_score_time</th>\n",
       "      <th>std_score_time</th>\n",
       "      <th>param_learning_rate</th>\n",
       "      <th>param_max_depth</th>\n",
       "      <th>param_min_data_in_leaf</th>\n",
       "      <th>param_n_estimators</th>\n",
       "      <th>params</th>\n",
       "      <th>split0_test_score</th>\n",
       "      <th>split1_test_score</th>\n",
       "      <th>split2_test_score</th>\n",
       "      <th>split3_test_score</th>\n",
       "      <th>split4_test_score</th>\n",
       "      <th>mean_test_score</th>\n",
       "      <th>std_test_score</th>\n",
       "      <th>rank_test_score</th>\n",
       "      <th>split0_train_score</th>\n",
       "      <th>split1_train_score</th>\n",
       "      <th>split2_train_score</th>\n",
       "      <th>split3_train_score</th>\n",
       "      <th>split4_train_score</th>\n",
       "      <th>mean_train_score</th>\n",
       "      <th>std_train_score</th>\n",
       "    </tr>\n",
       "  </thead>\n",
       "  <tbody>\n",
       "    <tr>\n",
       "      <td>1</td>\n",
       "      <td>303.826088</td>\n",
       "      <td>97.953012</td>\n",
       "      <td>15.750126</td>\n",
       "      <td>7.313671</td>\n",
       "      <td>0.2</td>\n",
       "      <td>5</td>\n",
       "      <td>10</td>\n",
       "      <td>4000</td>\n",
       "      <td>{'learning_rate': 0.2, 'max_depth': 5, 'min_da...</td>\n",
       "      <td>0.954392</td>\n",
       "      <td>0.968877</td>\n",
       "      <td>0.959457</td>\n",
       "      <td>0.621291</td>\n",
       "      <td>0.959802</td>\n",
       "      <td>0.892763</td>\n",
       "      <td>0.135817</td>\n",
       "      <td>1</td>\n",
       "      <td>1.000000</td>\n",
       "      <td>1.000000</td>\n",
       "      <td>1.000000</td>\n",
       "      <td>0.655692</td>\n",
       "      <td>1.000000</td>\n",
       "      <td>0.931138</td>\n",
       "      <td>0.137723</td>\n",
       "    </tr>\n",
       "    <tr>\n",
       "      <td>0</td>\n",
       "      <td>204.941775</td>\n",
       "      <td>41.069136</td>\n",
       "      <td>10.111540</td>\n",
       "      <td>4.412701</td>\n",
       "      <td>0.2</td>\n",
       "      <td>3</td>\n",
       "      <td>10</td>\n",
       "      <td>4000</td>\n",
       "      <td>{'learning_rate': 0.2, 'max_depth': 3, 'min_da...</td>\n",
       "      <td>0.527580</td>\n",
       "      <td>0.967520</td>\n",
       "      <td>0.963081</td>\n",
       "      <td>0.974323</td>\n",
       "      <td>0.964943</td>\n",
       "      <td>0.879488</td>\n",
       "      <td>0.175997</td>\n",
       "      <td>2</td>\n",
       "      <td>0.538158</td>\n",
       "      <td>1.000000</td>\n",
       "      <td>1.000000</td>\n",
       "      <td>1.000000</td>\n",
       "      <td>1.000000</td>\n",
       "      <td>0.907632</td>\n",
       "      <td>0.184737</td>\n",
       "    </tr>\n",
       "    <tr>\n",
       "      <td>2</td>\n",
       "      <td>158.488494</td>\n",
       "      <td>8.790763</td>\n",
       "      <td>1.521818</td>\n",
       "      <td>0.144869</td>\n",
       "      <td>0.2</td>\n",
       "      <td>8</td>\n",
       "      <td>10</td>\n",
       "      <td>4000</td>\n",
       "      <td>{'learning_rate': 0.2, 'max_depth': 8, 'min_da...</td>\n",
       "      <td>0.592505</td>\n",
       "      <td>0.614582</td>\n",
       "      <td>0.509016</td>\n",
       "      <td>0.620226</td>\n",
       "      <td>0.582385</td>\n",
       "      <td>0.583743</td>\n",
       "      <td>0.039862</td>\n",
       "      <td>3</td>\n",
       "      <td>0.590931</td>\n",
       "      <td>0.681578</td>\n",
       "      <td>0.529765</td>\n",
       "      <td>0.625390</td>\n",
       "      <td>0.594842</td>\n",
       "      <td>0.604501</td>\n",
       "      <td>0.049478</td>\n",
       "    </tr>\n",
       "    <tr>\n",
       "      <td>3</td>\n",
       "      <td>180.304682</td>\n",
       "      <td>4.328620</td>\n",
       "      <td>1.359341</td>\n",
       "      <td>0.105523</td>\n",
       "      <td>0.2</td>\n",
       "      <td>10</td>\n",
       "      <td>10</td>\n",
       "      <td>4000</td>\n",
       "      <td>{'learning_rate': 0.2, 'max_depth': 10, 'min_d...</td>\n",
       "      <td>0.541727</td>\n",
       "      <td>0.509400</td>\n",
       "      <td>0.557220</td>\n",
       "      <td>0.524701</td>\n",
       "      <td>0.519299</td>\n",
       "      <td>0.530469</td>\n",
       "      <td>0.016996</td>\n",
       "      <td>4</td>\n",
       "      <td>0.542731</td>\n",
       "      <td>0.546858</td>\n",
       "      <td>0.616662</td>\n",
       "      <td>0.545449</td>\n",
       "      <td>0.532925</td>\n",
       "      <td>0.556925</td>\n",
       "      <td>0.030262</td>\n",
       "    </tr>\n",
       "  </tbody>\n",
       "</table>\n",
       "</div>"
      ],
      "text/plain": [
       "   mean_fit_time  std_fit_time  mean_score_time  std_score_time  \\\n",
       "1     303.826088     97.953012        15.750126        7.313671   \n",
       "0     204.941775     41.069136        10.111540        4.412701   \n",
       "2     158.488494      8.790763         1.521818        0.144869   \n",
       "3     180.304682      4.328620         1.359341        0.105523   \n",
       "\n",
       "  param_learning_rate param_max_depth param_min_data_in_leaf  \\\n",
       "1                 0.2               5                     10   \n",
       "0                 0.2               3                     10   \n",
       "2                 0.2               8                     10   \n",
       "3                 0.2              10                     10   \n",
       "\n",
       "  param_n_estimators                                             params  \\\n",
       "1               4000  {'learning_rate': 0.2, 'max_depth': 5, 'min_da...   \n",
       "0               4000  {'learning_rate': 0.2, 'max_depth': 3, 'min_da...   \n",
       "2               4000  {'learning_rate': 0.2, 'max_depth': 8, 'min_da...   \n",
       "3               4000  {'learning_rate': 0.2, 'max_depth': 10, 'min_d...   \n",
       "\n",
       "   split0_test_score  split1_test_score  split2_test_score  split3_test_score  \\\n",
       "1           0.954392           0.968877           0.959457           0.621291   \n",
       "0           0.527580           0.967520           0.963081           0.974323   \n",
       "2           0.592505           0.614582           0.509016           0.620226   \n",
       "3           0.541727           0.509400           0.557220           0.524701   \n",
       "\n",
       "   split4_test_score  mean_test_score  std_test_score  rank_test_score  \\\n",
       "1           0.959802         0.892763        0.135817                1   \n",
       "0           0.964943         0.879488        0.175997                2   \n",
       "2           0.582385         0.583743        0.039862                3   \n",
       "3           0.519299         0.530469        0.016996                4   \n",
       "\n",
       "   split0_train_score  split1_train_score  split2_train_score  \\\n",
       "1            1.000000            1.000000            1.000000   \n",
       "0            0.538158            1.000000            1.000000   \n",
       "2            0.590931            0.681578            0.529765   \n",
       "3            0.542731            0.546858            0.616662   \n",
       "\n",
       "   split3_train_score  split4_train_score  mean_train_score  std_train_score  \n",
       "1            0.655692            1.000000          0.931138         0.137723  \n",
       "0            1.000000            1.000000          0.907632         0.184737  \n",
       "2            0.625390            0.594842          0.604501         0.049478  \n",
       "3            0.545449            0.532925          0.556925         0.030262  "
      ]
     },
     "metadata": {},
     "output_type": "display_data"
    },
    {
     "data": {
      "image/png": "[encoded data removed]",
      "text/plain": [
       "<matplotlib.figure.Figure at 0x112276b00>"
      ]
     },
     "metadata": {},
     "output_type": "display_data"
    }
   ],
   "source": [
    "GridSearch_table_plot(clf, \"max_depth\", display_all_params=False, negative=False)"
   ]
  },
  {
   "cell_type": "markdown",
   "metadata": {},
   "source": [
    "## Tuning min_data_in_leaf again"
   ]
  },
  {
   "cell_type": "code",
   "execution_count": 69,
   "metadata": {},
   "outputs": [
    {
     "name": "stdout",
     "output_type": "stream",
     "text": [
      "Fitting 3 folds for each of 4 candidates, totalling 12 fits\n",
      "[CV] learning_rate=0.2, max_depth=5, min_data_in_leaf=3, n_estimators=4000 \n",
      "[CV] learning_rate=0.2, max_depth=5, min_data_in_leaf=3, n_estimators=4000 \n",
      "[CV] learning_rate=0.2, max_depth=5, min_data_in_leaf=3, n_estimators=4000 \n",
      "[CV] learning_rate=0.2, max_depth=5, min_data_in_leaf=5, n_estimators=4000 \n",
      "[CV]  learning_rate=0.2, max_depth=5, min_data_in_leaf=3, n_estimators=4000, score=0.9561319734641047, total= 5.4min\n",
      "[CV] learning_rate=0.2, max_depth=5, min_data_in_leaf=5, n_estimators=4000 \n",
      "[CV]  learning_rate=0.2, max_depth=5, min_data_in_leaf=3, n_estimators=4000, score=0.9613194166173731, total= 5.5min\n",
      "[CV] learning_rate=0.2, max_depth=5, min_data_in_leaf=5, n_estimators=4000 \n",
      "[CV]  learning_rate=0.2, max_depth=5, min_data_in_leaf=3, n_estimators=4000, score=0.9466442937012232, total= 5.6min\n",
      "[CV] learning_rate=0.2, max_depth=5, min_data_in_leaf=9, n_estimators=4000 \n",
      "[CV]  learning_rate=0.2, max_depth=5, min_data_in_leaf=5, n_estimators=4000, score=0.9528055253433065, total= 5.7min\n",
      "[CV] learning_rate=0.2, max_depth=5, min_data_in_leaf=9, n_estimators=4000 \n",
      "[CV]  learning_rate=0.2, max_depth=5, min_data_in_leaf=5, n_estimators=4000, score=0.9607312318328975, total= 5.0min\n",
      "[CV] learning_rate=0.2, max_depth=5, min_data_in_leaf=9, n_estimators=4000 \n",
      "[CV]  learning_rate=0.2, max_depth=5, min_data_in_leaf=9, n_estimators=4000, score=0.9582629705955312, total= 4.8min\n",
      "[CV] learning_rate=0.2, max_depth=5, min_data_in_leaf=12, n_estimators=4000 \n",
      "[CV]  learning_rate=0.2, max_depth=5, min_data_in_leaf=9, n_estimators=4000, score=0.9528147480298433, total= 4.9min\n",
      "[CV] learning_rate=0.2, max_depth=5, min_data_in_leaf=12, n_estimators=4000 \n",
      "[CV]  learning_rate=0.2, max_depth=5, min_data_in_leaf=5, n_estimators=4000, score=0.9615426692362979, total= 5.0min\n",
      "[CV] learning_rate=0.2, max_depth=5, min_data_in_leaf=12, n_estimators=4000 \n",
      "[CV]  learning_rate=0.2, max_depth=5, min_data_in_leaf=12, n_estimators=4000, score=0.6076023559193747, total= 1.5min\n",
      "[CV]  learning_rate=0.2, max_depth=5, min_data_in_leaf=9, n_estimators=4000, score=0.9646136648412108, total= 3.9min\n"
     ]
    },
    {
     "name": "stderr",
     "output_type": "stream",
     "text": [
      "[Parallel(n_jobs=-1)]: Done  10 out of  12 | elapsed: 18.0min remaining:  3.6min\n"
     ]
    },
    {
     "name": "stdout",
     "output_type": "stream",
     "text": [
      "[CV]  learning_rate=0.2, max_depth=5, min_data_in_leaf=12, n_estimators=4000, score=0.9617805509442122, total= 4.0min\n",
      "[CV]  learning_rate=0.2, max_depth=5, min_data_in_leaf=12, n_estimators=4000, score=0.9618932903365325, total= 3.9min\n"
     ]
    },
    {
     "name": "stderr",
     "output_type": "stream",
     "text": [
      "[Parallel(n_jobs=-1)]: Done  12 out of  12 | elapsed: 18.1min finished\n"
     ]
    },
    {
     "name": "stdout",
     "output_type": "stream",
     "text": [
      "CPU times: user 2min 28s, sys: 6.66 s, total: 2min 34s\n",
      "Wall time: 19min 46s\n"
     ]
    }
   ],
   "source": [
    "%%time\n",
    "\n",
    "param_grid = {\n",
    "    'n_estimators': [4000],\n",
    "    'learning_rate': [0.2],\n",
    "    'max_depth': [5],\n",
    "    'min_data_in_leaf' : [3,5,9,12]\n",
    "    \n",
    "}\n",
    "lgbm = LGB.LGBMClassifier(objective='binary', nthreads=-1, seed=27, verbosity=2, is_imbalance=True, metric='auc')\n",
    "\n",
    "clf = GridSearchCV(lgbm, param_grid=param_grid, cv=skf, n_jobs=-1, verbose=3, scoring='roc_auc').fit(X, Y)"
   ]
  },
  {
   "cell_type": "code",
   "execution_count": 70,
   "metadata": {},
   "outputs": [
    {
     "data": {
      "text/plain": [
       "0.9999678021765729"
      ]
     },
     "execution_count": 70,
     "metadata": {},
     "output_type": "execute_result"
    }
   ],
   "source": [
    "roc_auc_score(clf.predict(X), Y.values)"
   ]
  },
  {
   "cell_type": "code",
   "execution_count": 71,
   "metadata": {},
   "outputs": [
    {
     "data": {
      "text/plain": [
       "95"
      ]
     },
     "execution_count": 71,
     "metadata": {},
     "output_type": "execute_result"
    }
   ],
   "source": [
    "sum(clf.predict(test[features]))"
   ]
  },
  {
   "cell_type": "code",
   "execution_count": 72,
   "metadata": {},
   "outputs": [
    {
     "name": "stdout",
     "output_type": "stream",
     "text": [
      "best parameters: {'learning_rate': 0.2, 'max_depth': 5, 'min_data_in_leaf': 9, 'n_estimators': 4000}\n",
      "best score:      0.95856 (+/-0.00482)\n"
     ]
    },
    {
     "data": {
      "text/html": [
       "<div>\n",
       "<style scoped>\n",
       "    .dataframe tbody tr th:only-of-type {\n",
       "        vertical-align: middle;\n",
       "    }\n",
       "\n",
       "    .dataframe tbody tr th {\n",
       "        vertical-align: top;\n",
       "    }\n",
       "\n",
       "    .dataframe thead th {\n",
       "        text-align: right;\n",
       "    }\n",
       "</style>\n",
       "<table border=\"1\" class=\"dataframe\">\n",
       "  <thead>\n",
       "    <tr style=\"text-align: right;\">\n",
       "      <th></th>\n",
       "      <th>mean_fit_time</th>\n",
       "      <th>std_fit_time</th>\n",
       "      <th>mean_score_time</th>\n",
       "      <th>std_score_time</th>\n",
       "      <th>param_learning_rate</th>\n",
       "      <th>param_max_depth</th>\n",
       "      <th>param_min_data_in_leaf</th>\n",
       "      <th>param_n_estimators</th>\n",
       "      <th>params</th>\n",
       "      <th>split0_test_score</th>\n",
       "      <th>split1_test_score</th>\n",
       "      <th>split2_test_score</th>\n",
       "      <th>mean_test_score</th>\n",
       "      <th>std_test_score</th>\n",
       "      <th>rank_test_score</th>\n",
       "      <th>split0_train_score</th>\n",
       "      <th>split1_train_score</th>\n",
       "      <th>split2_train_score</th>\n",
       "      <th>mean_train_score</th>\n",
       "      <th>std_train_score</th>\n",
       "    </tr>\n",
       "  </thead>\n",
       "  <tbody>\n",
       "    <tr>\n",
       "      <td>2</td>\n",
       "      <td>236.995754</td>\n",
       "      <td>21.600242</td>\n",
       "      <td>33.856424</td>\n",
       "      <td>3.998043</td>\n",
       "      <td>0.2</td>\n",
       "      <td>5</td>\n",
       "      <td>9</td>\n",
       "      <td>4000</td>\n",
       "      <td>{'learning_rate': 0.2, 'max_depth': 5, 'min_da...</td>\n",
       "      <td>0.952815</td>\n",
       "      <td>0.958263</td>\n",
       "      <td>0.964614</td>\n",
       "      <td>0.958564</td>\n",
       "      <td>0.004822</td>\n",
       "      <td>1</td>\n",
       "      <td>1.000000</td>\n",
       "      <td>1.0</td>\n",
       "      <td>1.0</td>\n",
       "      <td>1.000000</td>\n",
       "      <td>1.218082e-07</td>\n",
       "    </tr>\n",
       "    <tr>\n",
       "      <td>1</td>\n",
       "      <td>275.666583</td>\n",
       "      <td>19.628129</td>\n",
       "      <td>37.635914</td>\n",
       "      <td>2.039496</td>\n",
       "      <td>0.2</td>\n",
       "      <td>5</td>\n",
       "      <td>5</td>\n",
       "      <td>4000</td>\n",
       "      <td>{'learning_rate': 0.2, 'max_depth': 5, 'min_da...</td>\n",
       "      <td>0.952806</td>\n",
       "      <td>0.960731</td>\n",
       "      <td>0.961543</td>\n",
       "      <td>0.958360</td>\n",
       "      <td>0.003941</td>\n",
       "      <td>2</td>\n",
       "      <td>1.000000</td>\n",
       "      <td>1.0</td>\n",
       "      <td>1.0</td>\n",
       "      <td>1.000000</td>\n",
       "      <td>1.218082e-07</td>\n",
       "    </tr>\n",
       "    <tr>\n",
       "      <td>0</td>\n",
       "      <td>292.068881</td>\n",
       "      <td>2.711518</td>\n",
       "      <td>38.584011</td>\n",
       "      <td>1.904415</td>\n",
       "      <td>0.2</td>\n",
       "      <td>5</td>\n",
       "      <td>3</td>\n",
       "      <td>4000</td>\n",
       "      <td>{'learning_rate': 0.2, 'max_depth': 5, 'min_da...</td>\n",
       "      <td>0.946644</td>\n",
       "      <td>0.956132</td>\n",
       "      <td>0.961319</td>\n",
       "      <td>0.954699</td>\n",
       "      <td>0.006076</td>\n",
       "      <td>3</td>\n",
       "      <td>1.000000</td>\n",
       "      <td>1.0</td>\n",
       "      <td>1.0</td>\n",
       "      <td>1.000000</td>\n",
       "      <td>1.218082e-07</td>\n",
       "    </tr>\n",
       "    <tr>\n",
       "      <td>3</td>\n",
       "      <td>167.021932</td>\n",
       "      <td>56.420813</td>\n",
       "      <td>20.992817</td>\n",
       "      <td>13.226255</td>\n",
       "      <td>0.2</td>\n",
       "      <td>5</td>\n",
       "      <td>12</td>\n",
       "      <td>4000</td>\n",
       "      <td>{'learning_rate': 0.2, 'max_depth': 5, 'min_da...</td>\n",
       "      <td>0.607602</td>\n",
       "      <td>0.961781</td>\n",
       "      <td>0.961893</td>\n",
       "      <td>0.843759</td>\n",
       "      <td>0.166988</td>\n",
       "      <td>4</td>\n",
       "      <td>0.622257</td>\n",
       "      <td>1.0</td>\n",
       "      <td>1.0</td>\n",
       "      <td>0.874086</td>\n",
       "      <td>1.780697e-01</td>\n",
       "    </tr>\n",
       "  </tbody>\n",
       "</table>\n",
       "</div>"
      ],
      "text/plain": [
       "   mean_fit_time  std_fit_time  mean_score_time  std_score_time  \\\n",
       "2     236.995754     21.600242        33.856424        3.998043   \n",
       "1     275.666583     19.628129        37.635914        2.039496   \n",
       "0     292.068881      2.711518        38.584011        1.904415   \n",
       "3     167.021932     56.420813        20.992817       13.226255   \n",
       "\n",
       "  param_learning_rate param_max_depth param_min_data_in_leaf  \\\n",
       "2                 0.2               5                      9   \n",
       "1                 0.2               5                      5   \n",
       "0                 0.2               5                      3   \n",
       "3                 0.2               5                     12   \n",
       "\n",
       "  param_n_estimators                                             params  \\\n",
       "2               4000  {'learning_rate': 0.2, 'max_depth': 5, 'min_da...   \n",
       "1               4000  {'learning_rate': 0.2, 'max_depth': 5, 'min_da...   \n",
       "0               4000  {'learning_rate': 0.2, 'max_depth': 5, 'min_da...   \n",
       "3               4000  {'learning_rate': 0.2, 'max_depth': 5, 'min_da...   \n",
       "\n",
       "   split0_test_score  split1_test_score  split2_test_score  mean_test_score  \\\n",
       "2           0.952815           0.958263           0.964614         0.958564   \n",
       "1           0.952806           0.960731           0.961543         0.958360   \n",
       "0           0.946644           0.956132           0.961319         0.954699   \n",
       "3           0.607602           0.961781           0.961893         0.843759   \n",
       "\n",
       "   std_test_score  rank_test_score  split0_train_score  split1_train_score  \\\n",
       "2        0.004822                1            1.000000                 1.0   \n",
       "1        0.003941                2            1.000000                 1.0   \n",
       "0        0.006076                3            1.000000                 1.0   \n",
       "3        0.166988                4            0.622257                 1.0   \n",
       "\n",
       "   split2_train_score  mean_train_score  std_train_score  \n",
       "2                 1.0          1.000000     1.218082e-07  \n",
       "1                 1.0          1.000000     1.218082e-07  \n",
       "0                 1.0          1.000000     1.218082e-07  \n",
       "3                 1.0          0.874086     1.780697e-01  "
      ]
     },
     "metadata": {},
     "output_type": "display_data"
    },
    {
     "data": {
      "image/png": "[encoded data removed]",
      "text/plain": [
       "<matplotlib.figure.Figure at 0x110e6f780>"
      ]
     },
     "metadata": {},
     "output_type": "display_data"
    }
   ],
   "source": [
    "GridSearch_table_plot(clf, \"min_data_in_leaf\", display_all_params=False, negative=False)"
   ]
  },
  {
   "cell_type": "markdown",
   "metadata": {},
   "source": [
    "We'll use 7"
   ]
  },
  {
   "cell_type": "markdown",
   "metadata": {},
   "source": [
    "## Tuning num_leaves"
   ]
  },
  {
   "cell_type": "code",
   "execution_count": 77,
   "metadata": {},
   "outputs": [
    {
     "name": "stdout",
     "output_type": "stream",
     "text": [
      "Fitting 3 folds for each of 5 candidates, totalling 15 fits\n",
      "[CV] learning_rate=0.2, max_depth=5, min_data_in_leaf=7, n_estimators=4000, num_leaves=20 \n",
      "[CV] learning_rate=0.2, max_depth=5, min_data_in_leaf=7, n_estimators=4000, num_leaves=20 \n",
      "[CV] learning_rate=0.2, max_depth=5, min_data_in_leaf=7, n_estimators=4000, num_leaves=20 \n",
      "[CV] learning_rate=0.2, max_depth=5, min_data_in_leaf=7, n_estimators=4000, num_leaves=25 \n",
      "[CV]  learning_rate=0.2, max_depth=5, min_data_in_leaf=7, n_estimators=4000, num_leaves=20, score=0.5585289178926479, total= 2.0min\n",
      "[CV] learning_rate=0.2, max_depth=5, min_data_in_leaf=7, n_estimators=4000, num_leaves=25 \n",
      "[CV]  learning_rate=0.2, max_depth=5, min_data_in_leaf=7, n_estimators=4000, num_leaves=20, score=0.9611529312242004, total= 5.3min\n",
      "[CV] learning_rate=0.2, max_depth=5, min_data_in_leaf=7, n_estimators=4000, num_leaves=25 \n",
      "[CV]  learning_rate=0.2, max_depth=5, min_data_in_leaf=7, n_estimators=4000, num_leaves=20, score=0.9568501504251976, total= 5.4min\n",
      "[CV] learning_rate=0.2, max_depth=5, min_data_in_leaf=7, n_estimators=4000, num_leaves=30 \n",
      "[CV]  learning_rate=0.2, max_depth=5, min_data_in_leaf=7, n_estimators=4000, num_leaves=25, score=0.9531984435921409, total= 5.6min\n",
      "[CV] learning_rate=0.2, max_depth=5, min_data_in_leaf=7, n_estimators=4000, num_leaves=30 \n",
      "[CV]  learning_rate=0.2, max_depth=5, min_data_in_leaf=7, n_estimators=4000, num_leaves=25, score=0.9556496905629654, total= 5.9min\n",
      "[CV] learning_rate=0.2, max_depth=5, min_data_in_leaf=7, n_estimators=4000, num_leaves=30 \n",
      "[CV]  learning_rate=0.2, max_depth=5, min_data_in_leaf=7, n_estimators=4000, num_leaves=25, score=0.9639440659962728, total= 5.0min\n",
      "[CV] learning_rate=0.2, max_depth=5, min_data_in_leaf=7, n_estimators=4000, num_leaves=35 \n",
      "[CV]  learning_rate=0.2, max_depth=5, min_data_in_leaf=7, n_estimators=4000, num_leaves=30, score=0.9552441308731022, total= 5.3min\n",
      "[CV] learning_rate=0.2, max_depth=5, min_data_in_leaf=7, n_estimators=4000, num_leaves=35 \n",
      "[CV]  learning_rate=0.2, max_depth=5, min_data_in_leaf=7, n_estimators=4000, num_leaves=30, score=0.9615790829469345, total= 5.2min\n",
      "[CV] learning_rate=0.2, max_depth=5, min_data_in_leaf=7, n_estimators=4000, num_leaves=35 \n",
      "[CV]  learning_rate=0.2, max_depth=5, min_data_in_leaf=7, n_estimators=4000, num_leaves=30, score=0.961907919425522, total= 5.9min\n",
      "[CV] learning_rate=0.2, max_depth=5, min_data_in_leaf=7, n_estimators=4000, num_leaves=50 \n",
      "[CV]  learning_rate=0.2, max_depth=5, min_data_in_leaf=7, n_estimators=4000, num_leaves=35, score=0.952456812385114, total= 5.4min\n",
      "[CV] learning_rate=0.2, max_depth=5, min_data_in_leaf=7, n_estimators=4000, num_leaves=50 \n",
      "[CV]  learning_rate=0.2, max_depth=5, min_data_in_leaf=7, n_estimators=4000, num_leaves=35, score=0.962401730684832, total= 5.2min\n",
      "[CV] learning_rate=0.2, max_depth=5, min_data_in_leaf=7, n_estimators=4000, num_leaves=50 \n",
      "[CV]  learning_rate=0.2, max_depth=5, min_data_in_leaf=7, n_estimators=4000, num_leaves=35, score=0.9640151442873407, total= 5.3min\n",
      "[CV]  learning_rate=0.2, max_depth=5, min_data_in_leaf=7, n_estimators=4000, num_leaves=50, score=0.9524566533732772, total= 5.5min\n",
      "[CV]  learning_rate=0.2, max_depth=5, min_data_in_leaf=7, n_estimators=4000, num_leaves=50, score=0.9640151442873407, total= 4.1min\n",
      "[CV]  learning_rate=0.2, max_depth=5, min_data_in_leaf=7, n_estimators=4000, num_leaves=50, score=0.962401730684832, total= 4.2min\n"
     ]
    },
    {
     "name": "stderr",
     "output_type": "stream",
     "text": [
      "[Parallel(n_jobs=-1)]: Done  15 out of  15 | elapsed: 24.3min finished\n"
     ]
    },
    {
     "name": "stdout",
     "output_type": "stream",
     "text": [
      "CPU times: user 2min 24s, sys: 5.66 s, total: 2min 29s\n",
      "Wall time: 27min 46s\n"
     ]
    }
   ],
   "source": [
    "%%time\n",
    "\n",
    "param_grid = {\n",
    "    'n_estimators': [4000],\n",
    "    'learning_rate': [0.2],\n",
    "    'max_depth': [5],\n",
    "    'min_data_in_leaf' : [7],\n",
    "    'num_leaves': [20,25,30,35,50]\n",
    "    \n",
    "}\n",
    "lgbm = LGB.LGBMClassifier(objective='binary', nthreads=-1, seed=27, verbosity=2, is_imbalance=True, metric='auc')\n",
    "\n",
    "clf = GridSearchCV(lgbm, param_grid=param_grid, cv=skf, n_jobs=-1, verbose=3, scoring='roc_auc').fit(X, Y)"
   ]
  },
  {
   "cell_type": "code",
   "execution_count": 78,
   "metadata": {},
   "outputs": [
    {
     "data": {
      "text/plain": [
       "0.9999678021765729"
      ]
     },
     "execution_count": 78,
     "metadata": {},
     "output_type": "execute_result"
    }
   ],
   "source": [
    "roc_auc_score(clf.predict(X), Y.values)"
   ]
  },
  {
   "cell_type": "code",
   "execution_count": 79,
   "metadata": {},
   "outputs": [
    {
     "data": {
      "text/plain": [
       "87"
      ]
     },
     "execution_count": 79,
     "metadata": {},
     "output_type": "execute_result"
    }
   ],
   "source": [
    "sum(clf.predict(test[features]))"
   ]
  },
  {
   "cell_type": "code",
   "execution_count": null,
   "metadata": {},
   "outputs": [
    {
     "name": "stdout",
     "output_type": "stream",
     "text": [
      "best parameters: {'learning_rate': 0.2, 'max_depth': 5, 'min_data_in_leaf': 7, 'n_estimators': 4000, 'num_leaves': 35}\n",
      "best score:      0.95962 (+/-0.00511)\n"
     ]
    },
    {
     "data": {
      "text/html": [
       "<div>\n",
       "<style scoped>\n",
       "    .dataframe tbody tr th:only-of-type {\n",
       "        vertical-align: middle;\n",
       "    }\n",
       "\n",
       "    .dataframe tbody tr th {\n",
       "        vertical-align: top;\n",
       "    }\n",
       "\n",
       "    .dataframe thead th {\n",
       "        text-align: right;\n",
       "    }\n",
       "</style>\n",
       "<table border=\"1\" class=\"dataframe\">\n",
       "  <thead>\n",
       "    <tr style=\"text-align: right;\">\n",
       "      <th></th>\n",
       "      <th>mean_fit_time</th>\n",
       "      <th>std_fit_time</th>\n",
       "      <th>mean_score_time</th>\n",
       "      <th>std_score_time</th>\n",
       "      <th>param_learning_rate</th>\n",
       "      <th>param_max_depth</th>\n",
       "      <th>param_min_data_in_leaf</th>\n",
       "      <th>param_n_estimators</th>\n",
       "      <th>param_num_leaves</th>\n",
       "      <th>params</th>\n",
       "      <th>split0_test_score</th>\n",
       "      <th>split1_test_score</th>\n",
       "      <th>split2_test_score</th>\n",
       "      <th>mean_test_score</th>\n",
       "      <th>std_test_score</th>\n",
       "      <th>rank_test_score</th>\n",
       "      <th>split0_train_score</th>\n",
       "      <th>split1_train_score</th>\n",
       "      <th>split2_train_score</th>\n",
       "      <th>mean_train_score</th>\n",
       "      <th>std_train_score</th>\n",
       "    </tr>\n",
       "  </thead>\n",
       "  <tbody>\n",
       "    <tr>\n",
       "      <td>3</td>\n",
       "      <td>285.195935</td>\n",
       "      <td>6.313952</td>\n",
       "      <td>33.867665</td>\n",
       "      <td>1.030133</td>\n",
       "      <td>0.2</td>\n",
       "      <td>5</td>\n",
       "      <td>7</td>\n",
       "      <td>4000</td>\n",
       "      <td>35</td>\n",
       "      <td>{'learning_rate': 0.2, 'max_depth': 5, 'min_da...</td>\n",
       "      <td>0.952457</td>\n",
       "      <td>0.962402</td>\n",
       "      <td>0.964015</td>\n",
       "      <td>0.959625</td>\n",
       "      <td>0.005111</td>\n",
       "      <td>1</td>\n",
       "      <td>1.0</td>\n",
       "      <td>1.000000</td>\n",
       "      <td>1.0</td>\n",
       "      <td>1.000000</td>\n",
       "      <td>1.218082e-07</td>\n",
       "    </tr>\n",
       "    <tr>\n",
       "      <td>4</td>\n",
       "      <td>250.311245</td>\n",
       "      <td>40.148184</td>\n",
       "      <td>25.238773</td>\n",
       "      <td>0.108104</td>\n",
       "      <td>0.2</td>\n",
       "      <td>5</td>\n",
       "      <td>7</td>\n",
       "      <td>4000</td>\n",
       "      <td>50</td>\n",
       "      <td>{'learning_rate': 0.2, 'max_depth': 5, 'min_da...</td>\n",
       "      <td>0.952457</td>\n",
       "      <td>0.962402</td>\n",
       "      <td>0.964015</td>\n",
       "      <td>0.959625</td>\n",
       "      <td>0.005111</td>\n",
       "      <td>2</td>\n",
       "      <td>1.0</td>\n",
       "      <td>1.000000</td>\n",
       "      <td>1.0</td>\n",
       "      <td>1.000000</td>\n",
       "      <td>1.218082e-07</td>\n",
       "    </tr>\n",
       "    <tr>\n",
       "      <td>2</td>\n",
       "      <td>297.785905</td>\n",
       "      <td>22.142985</td>\n",
       "      <td>31.753456</td>\n",
       "      <td>4.329445</td>\n",
       "      <td>0.2</td>\n",
       "      <td>5</td>\n",
       "      <td>7</td>\n",
       "      <td>4000</td>\n",
       "      <td>30</td>\n",
       "      <td>{'learning_rate': 0.2, 'max_depth': 5, 'min_da...</td>\n",
       "      <td>0.955244</td>\n",
       "      <td>0.961579</td>\n",
       "      <td>0.961908</td>\n",
       "      <td>0.959577</td>\n",
       "      <td>0.003067</td>\n",
       "      <td>3</td>\n",
       "      <td>1.0</td>\n",
       "      <td>1.000000</td>\n",
       "      <td>1.0</td>\n",
       "      <td>1.000000</td>\n",
       "      <td>1.218082e-07</td>\n",
       "    </tr>\n",
       "    <tr>\n",
       "      <td>1</td>\n",
       "      <td>301.556607</td>\n",
       "      <td>24.060850</td>\n",
       "      <td>29.040369</td>\n",
       "      <td>5.042886</td>\n",
       "      <td>0.2</td>\n",
       "      <td>5</td>\n",
       "      <td>7</td>\n",
       "      <td>4000</td>\n",
       "      <td>25</td>\n",
       "      <td>{'learning_rate': 0.2, 'max_depth': 5, 'min_da...</td>\n",
       "      <td>0.953198</td>\n",
       "      <td>0.955650</td>\n",
       "      <td>0.963944</td>\n",
       "      <td>0.957597</td>\n",
       "      <td>0.004598</td>\n",
       "      <td>4</td>\n",
       "      <td>1.0</td>\n",
       "      <td>1.000000</td>\n",
       "      <td>1.0</td>\n",
       "      <td>1.000000</td>\n",
       "      <td>1.218082e-07</td>\n",
       "    </tr>\n",
       "    <tr>\n",
       "      <td>0</td>\n",
       "      <td>231.742478</td>\n",
       "      <td>80.071068</td>\n",
       "      <td>22.245226</td>\n",
       "      <td>13.832027</td>\n",
       "      <td>0.2</td>\n",
       "      <td>5</td>\n",
       "      <td>7</td>\n",
       "      <td>4000</td>\n",
       "      <td>20</td>\n",
       "      <td>{'learning_rate': 0.2, 'max_depth': 5, 'min_da...</td>\n",
       "      <td>0.956850</td>\n",
       "      <td>0.558529</td>\n",
       "      <td>0.961153</td>\n",
       "      <td>0.825511</td>\n",
       "      <td>0.188793</td>\n",
       "      <td>5</td>\n",
       "      <td>1.0</td>\n",
       "      <td>0.577422</td>\n",
       "      <td>1.0</td>\n",
       "      <td>0.859141</td>\n",
       "      <td>1.992048e-01</td>\n",
       "    </tr>\n",
       "  </tbody>\n",
       "</table>\n",
       "</div>"
      ],
      "text/plain": [
       "   mean_fit_time  std_fit_time  mean_score_time  std_score_time  \\\n",
       "3     285.195935      6.313952        33.867665        1.030133   \n",
       "4     250.311245     40.148184        25.238773        0.108104   \n",
       "2     297.785905     22.142985        31.753456        4.329445   \n",
       "1     301.556607     24.060850        29.040369        5.042886   \n",
       "0     231.742478     80.071068        22.245226       13.832027   \n",
       "\n",
       "  param_learning_rate param_max_depth param_min_data_in_leaf  \\\n",
       "3                 0.2               5                      7   \n",
       "4                 0.2               5                      7   \n",
       "2                 0.2               5                      7   \n",
       "1                 0.2               5                      7   \n",
       "0                 0.2               5                      7   \n",
       "\n",
       "  param_n_estimators param_num_leaves  \\\n",
       "3               4000               35   \n",
       "4               4000               50   \n",
       "2               4000               30   \n",
       "1               4000               25   \n",
       "0               4000               20   \n",
       "\n",
       "                                              params  split0_test_score  \\\n",
       "3  {'learning_rate': 0.2, 'max_depth': 5, 'min_da...           0.952457   \n",
       "4  {'learning_rate': 0.2, 'max_depth': 5, 'min_da...           0.952457   \n",
       "2  {'learning_rate': 0.2, 'max_depth': 5, 'min_da...           0.955244   \n",
       "1  {'learning_rate': 0.2, 'max_depth': 5, 'min_da...           0.953198   \n",
       "0  {'learning_rate': 0.2, 'max_depth': 5, 'min_da...           0.956850   \n",
       "\n",
       "   split1_test_score  split2_test_score  mean_test_score  std_test_score  \\\n",
       "3           0.962402           0.964015         0.959625        0.005111   \n",
       "4           0.962402           0.964015         0.959625        0.005111   \n",
       "2           0.961579           0.961908         0.959577        0.003067   \n",
       "1           0.955650           0.963944         0.957597        0.004598   \n",
       "0           0.558529           0.961153         0.825511        0.188793   \n",
       "\n",
       "   rank_test_score  split0_train_score  split1_train_score  \\\n",
       "3                1                 1.0            1.000000   \n",
       "4                2                 1.0            1.000000   \n",
       "2                3                 1.0            1.000000   \n",
       "1                4                 1.0            1.000000   \n",
       "0                5                 1.0            0.577422   \n",
       "\n",
       "   split2_train_score  mean_train_score  std_train_score  \n",
       "3                 1.0          1.000000     1.218082e-07  \n",
       "4                 1.0          1.000000     1.218082e-07  \n",
       "2                 1.0          1.000000     1.218082e-07  \n",
       "1                 1.0          1.000000     1.218082e-07  \n",
       "0                 1.0          0.859141     1.992048e-01  "
      ]
     },
     "metadata": {},
     "output_type": "display_data"
    },
    {
     "data": {
      "image/png": "[encoded data removed]",
      "text/plain": [
       "<matplotlib.figure.Figure at 0x112256320>"
      ]
     },
     "metadata": {},
     "output_type": "display_data"
    }
   ],
   "source": [
    "GridSearch_table_plot(clf, \"num_leaves\", display_all_params=False, negative=False)"
   ]
  },
  {
   "cell_type": "markdown",
   "metadata": {},
   "source": [
    "## Tuning subsampling parameters"
   ]
  },
  {
   "cell_type": "code",
   "execution_count": 9,
   "metadata": {},
   "outputs": [
    {
     "name": "stdout",
     "output_type": "stream",
     "text": [
      "Fitting 3 folds for each of 4 candidates, totalling 12 fits\n",
      "[CV] feature_fraction=0.2, learning_rate=0.2, max_depth=5, min_data_in_leaf=5, n_estimators=4000, num_leaves=30 \n",
      "[CV] feature_fraction=0.2, learning_rate=0.2, max_depth=5, min_data_in_leaf=5, n_estimators=4000, num_leaves=30 \n",
      "[CV] feature_fraction=0.2, learning_rate=0.2, max_depth=5, min_data_in_leaf=5, n_estimators=4000, num_leaves=30 \n",
      "[CV] feature_fraction=0.3, learning_rate=0.2, max_depth=5, min_data_in_leaf=5, n_estimators=4000, num_leaves=30 \n",
      "[CV]  feature_fraction=0.3, learning_rate=0.2, max_depth=5, min_data_in_leaf=5, n_estimators=4000, num_leaves=30, score=0.9586021428435134, total= 3.9min\n",
      "[CV] feature_fraction=0.3, learning_rate=0.2, max_depth=5, min_data_in_leaf=5, n_estimators=4000, num_leaves=30 \n",
      "[CV]  feature_fraction=0.2, learning_rate=0.2, max_depth=5, min_data_in_leaf=5, n_estimators=4000, num_leaves=30, score=0.9590042837788845, total= 4.3min\n",
      "[CV] feature_fraction=0.3, learning_rate=0.2, max_depth=5, min_data_in_leaf=5, n_estimators=4000, num_leaves=30 \n",
      "[CV]  feature_fraction=0.2, learning_rate=0.2, max_depth=5, min_data_in_leaf=5, n_estimators=4000, num_leaves=30, score=0.9659918204311129, total= 4.4min\n",
      "[CV] feature_fraction=0.5, learning_rate=0.2, max_depth=5, min_data_in_leaf=5, n_estimators=4000, num_leaves=30 \n",
      "[CV]  feature_fraction=0.2, learning_rate=0.2, max_depth=5, min_data_in_leaf=5, n_estimators=4000, num_leaves=30, score=0.9629694824482734, total= 4.4min\n",
      "[CV] feature_fraction=0.5, learning_rate=0.2, max_depth=5, min_data_in_leaf=5, n_estimators=4000, num_leaves=30 \n",
      "[CV]  feature_fraction=0.3, learning_rate=0.2, max_depth=5, min_data_in_leaf=5, n_estimators=4000, num_leaves=30, score=0.9650720959668238, total= 3.9min\n",
      "[CV] feature_fraction=0.5, learning_rate=0.2, max_depth=5, min_data_in_leaf=5, n_estimators=4000, num_leaves=30 \n",
      "[CV]  feature_fraction=0.3, learning_rate=0.2, max_depth=5, min_data_in_leaf=5, n_estimators=4000, num_leaves=30, score=0.9657913065048562, total= 3.8min\n",
      "[CV] feature_fraction=0.6, learning_rate=0.2, max_depth=5, min_data_in_leaf=5, n_estimators=4000, num_leaves=30 \n",
      "[CV]  feature_fraction=0.5, learning_rate=0.2, max_depth=5, min_data_in_leaf=5, n_estimators=4000, num_leaves=30, score=0.9588754841910432, total= 4.0min\n",
      "[CV] feature_fraction=0.6, learning_rate=0.2, max_depth=5, min_data_in_leaf=5, n_estimators=4000, num_leaves=30 \n",
      "[CV]  feature_fraction=0.5, learning_rate=0.2, max_depth=5, min_data_in_leaf=5, n_estimators=4000, num_leaves=30, score=0.9643920023406543, total= 4.1min\n",
      "[CV] feature_fraction=0.6, learning_rate=0.2, max_depth=5, min_data_in_leaf=5, n_estimators=4000, num_leaves=30 \n",
      "[CV]  feature_fraction=0.6, learning_rate=0.2, max_depth=5, min_data_in_leaf=5, n_estimators=4000, num_leaves=30, score=0.5108637681989048, total= 1.2min\n",
      "[CV]  feature_fraction=0.5, learning_rate=0.2, max_depth=5, min_data_in_leaf=5, n_estimators=4000, num_leaves=30, score=0.9634061289522392, total= 4.8min\n"
     ]
    },
    {
     "name": "stderr",
     "output_type": "stream",
     "text": [
      "[Parallel(n_jobs=-1)]: Done  10 out of  12 | elapsed: 16.8min remaining:  3.4min\n"
     ]
    },
    {
     "name": "stdout",
     "output_type": "stream",
     "text": [
      "[CV]  feature_fraction=0.6, learning_rate=0.2, max_depth=5, min_data_in_leaf=5, n_estimators=4000, num_leaves=30, score=0.9393006500403891, total= 5.1min\n",
      "[CV]  feature_fraction=0.6, learning_rate=0.2, max_depth=5, min_data_in_leaf=5, n_estimators=4000, num_leaves=30, score=0.9581410880225925, total= 5.0min\n"
     ]
    },
    {
     "name": "stderr",
     "output_type": "stream",
     "text": [
      "[Parallel(n_jobs=-1)]: Done  12 out of  12 | elapsed: 17.3min finished\n"
     ]
    },
    {
     "name": "stdout",
     "output_type": "stream",
     "text": [
      "CPU times: user 1min 29s, sys: 5.22 s, total: 1min 34s\n",
      "Wall time: 21min 10s\n"
     ]
    }
   ],
   "source": [
    "%%time\n",
    "\n",
    "param_grid = {\n",
    "    'n_estimators': [4000],\n",
    "    'learning_rate': [0.2],\n",
    "    'max_depth': [5],\n",
    "    'min_data_in_leaf' : [5],\n",
    "    'num_leaves': [30],\n",
    "    'feature_fraction': [0.2, 0.3, 0.5, 0.6]\n",
    "    \n",
    "}\n",
    "lgbm = LGB.LGBMClassifier(objective='binary', nthreads=-1, seed=27, verbosity=2, is_imbalance=True, metric='auc')\n",
    "\n",
    "clf = GridSearchCV(lgbm, param_grid=param_grid, cv=skf, n_jobs=-1, verbose=3, scoring='roc_auc').fit(X, Y)"
   ]
  },
  {
   "cell_type": "code",
   "execution_count": 10,
   "metadata": {},
   "outputs": [
    {
     "data": {
      "text/plain": [
       "0.9999678021765729"
      ]
     },
     "execution_count": 10,
     "metadata": {},
     "output_type": "execute_result"
    }
   ],
   "source": [
    "roc_auc_score(clf.predict(X), Y.values)"
   ]
  },
  {
   "cell_type": "code",
   "execution_count": 11,
   "metadata": {},
   "outputs": [
    {
     "data": {
      "text/plain": [
       "93"
      ]
     },
     "execution_count": 11,
     "metadata": {},
     "output_type": "execute_result"
    }
   ],
   "source": [
    "sum(clf.predict(test[features]))"
   ]
  },
  {
   "cell_type": "code",
   "execution_count": 12,
   "metadata": {},
   "outputs": [
    {
     "name": "stdout",
     "output_type": "stream",
     "text": [
      "best parameters: {'feature_fraction': 0.3, 'learning_rate': 0.2, 'max_depth': 5, 'min_data_in_leaf': 5, 'n_estimators': 4000, 'num_leaves': 30}\n",
      "best score:      0.96316 (+/-0.00323)\n"
     ]
    },
    {
     "data": {
      "text/html": [
       "<div>\n",
       "<style scoped>\n",
       "    .dataframe tbody tr th:only-of-type {\n",
       "        vertical-align: middle;\n",
       "    }\n",
       "\n",
       "    .dataframe tbody tr th {\n",
       "        vertical-align: top;\n",
       "    }\n",
       "\n",
       "    .dataframe thead th {\n",
       "        text-align: right;\n",
       "    }\n",
       "</style>\n",
       "<table border=\"1\" class=\"dataframe\">\n",
       "  <thead>\n",
       "    <tr style=\"text-align: right;\">\n",
       "      <th></th>\n",
       "      <th>mean_fit_time</th>\n",
       "      <th>std_fit_time</th>\n",
       "      <th>mean_score_time</th>\n",
       "      <th>std_score_time</th>\n",
       "      <th>param_feature_fraction</th>\n",
       "      <th>param_learning_rate</th>\n",
       "      <th>param_max_depth</th>\n",
       "      <th>param_min_data_in_leaf</th>\n",
       "      <th>param_n_estimators</th>\n",
       "      <th>param_num_leaves</th>\n",
       "      <th>params</th>\n",
       "      <th>split0_test_score</th>\n",
       "      <th>split1_test_score</th>\n",
       "      <th>split2_test_score</th>\n",
       "      <th>mean_test_score</th>\n",
       "      <th>std_test_score</th>\n",
       "      <th>rank_test_score</th>\n",
       "      <th>split0_train_score</th>\n",
       "      <th>split1_train_score</th>\n",
       "      <th>split2_train_score</th>\n",
       "      <th>mean_train_score</th>\n",
       "      <th>std_train_score</th>\n",
       "    </tr>\n",
       "  </thead>\n",
       "  <tbody>\n",
       "    <tr>\n",
       "      <td>1</td>\n",
       "      <td>197.953738</td>\n",
       "      <td>5.506980</td>\n",
       "      <td>34.688225</td>\n",
       "      <td>4.066585</td>\n",
       "      <td>0.3</td>\n",
       "      <td>0.2</td>\n",
       "      <td>5</td>\n",
       "      <td>5</td>\n",
       "      <td>4000</td>\n",
       "      <td>30</td>\n",
       "      <td>{'feature_fraction': 0.3, 'learning_rate': 0.2...</td>\n",
       "      <td>0.958602</td>\n",
       "      <td>0.965072</td>\n",
       "      <td>0.965791</td>\n",
       "      <td>0.963155</td>\n",
       "      <td>0.003233</td>\n",
       "      <td>1</td>\n",
       "      <td>1.0</td>\n",
       "      <td>1.000000</td>\n",
       "      <td>1.0</td>\n",
       "      <td>1.000000</td>\n",
       "      <td>1.218082e-07</td>\n",
       "    </tr>\n",
       "    <tr>\n",
       "      <td>0</td>\n",
       "      <td>212.666805</td>\n",
       "      <td>1.880592</td>\n",
       "      <td>47.874891</td>\n",
       "      <td>0.832488</td>\n",
       "      <td>0.2</td>\n",
       "      <td>0.2</td>\n",
       "      <td>5</td>\n",
       "      <td>5</td>\n",
       "      <td>4000</td>\n",
       "      <td>30</td>\n",
       "      <td>{'feature_fraction': 0.2, 'learning_rate': 0.2...</td>\n",
       "      <td>0.959004</td>\n",
       "      <td>0.962969</td>\n",
       "      <td>0.965992</td>\n",
       "      <td>0.962655</td>\n",
       "      <td>0.002861</td>\n",
       "      <td>2</td>\n",
       "      <td>1.0</td>\n",
       "      <td>1.000000</td>\n",
       "      <td>1.0</td>\n",
       "      <td>1.000000</td>\n",
       "      <td>1.218082e-07</td>\n",
       "    </tr>\n",
       "    <tr>\n",
       "      <td>2</td>\n",
       "      <td>222.519763</td>\n",
       "      <td>29.972009</td>\n",
       "      <td>36.524879</td>\n",
       "      <td>7.891289</td>\n",
       "      <td>0.5</td>\n",
       "      <td>0.2</td>\n",
       "      <td>5</td>\n",
       "      <td>5</td>\n",
       "      <td>4000</td>\n",
       "      <td>30</td>\n",
       "      <td>{'feature_fraction': 0.5, 'learning_rate': 0.2...</td>\n",
       "      <td>0.958875</td>\n",
       "      <td>0.964392</td>\n",
       "      <td>0.963406</td>\n",
       "      <td>0.962225</td>\n",
       "      <td>0.002402</td>\n",
       "      <td>3</td>\n",
       "      <td>1.0</td>\n",
       "      <td>1.000000</td>\n",
       "      <td>1.0</td>\n",
       "      <td>1.000000</td>\n",
       "      <td>1.218082e-07</td>\n",
       "    </tr>\n",
       "    <tr>\n",
       "      <td>3</td>\n",
       "      <td>201.043557</td>\n",
       "      <td>92.937595</td>\n",
       "      <td>26.312590</td>\n",
       "      <td>17.371180</td>\n",
       "      <td>0.6</td>\n",
       "      <td>0.2</td>\n",
       "      <td>5</td>\n",
       "      <td>5</td>\n",
       "      <td>4000</td>\n",
       "      <td>30</td>\n",
       "      <td>{'feature_fraction': 0.6, 'learning_rate': 0.2...</td>\n",
       "      <td>0.939301</td>\n",
       "      <td>0.510864</td>\n",
       "      <td>0.958141</td>\n",
       "      <td>0.802769</td>\n",
       "      <td>0.206551</td>\n",
       "      <td>4</td>\n",
       "      <td>1.0</td>\n",
       "      <td>0.524199</td>\n",
       "      <td>1.0</td>\n",
       "      <td>0.841399</td>\n",
       "      <td>2.242948e-01</td>\n",
       "    </tr>\n",
       "  </tbody>\n",
       "</table>\n",
       "</div>"
      ],
      "text/plain": [
       "   mean_fit_time  std_fit_time  mean_score_time  std_score_time  \\\n",
       "1     197.953738      5.506980        34.688225        4.066585   \n",
       "0     212.666805      1.880592        47.874891        0.832488   \n",
       "2     222.519763     29.972009        36.524879        7.891289   \n",
       "3     201.043557     92.937595        26.312590       17.371180   \n",
       "\n",
       "  param_feature_fraction param_learning_rate param_max_depth  \\\n",
       "1                    0.3                 0.2               5   \n",
       "0                    0.2                 0.2               5   \n",
       "2                    0.5                 0.2               5   \n",
       "3                    0.6                 0.2               5   \n",
       "\n",
       "  param_min_data_in_leaf param_n_estimators param_num_leaves  \\\n",
       "1                      5               4000               30   \n",
       "0                      5               4000               30   \n",
       "2                      5               4000               30   \n",
       "3                      5               4000               30   \n",
       "\n",
       "                                              params  split0_test_score  \\\n",
       "1  {'feature_fraction': 0.3, 'learning_rate': 0.2...           0.958602   \n",
       "0  {'feature_fraction': 0.2, 'learning_rate': 0.2...           0.959004   \n",
       "2  {'feature_fraction': 0.5, 'learning_rate': 0.2...           0.958875   \n",
       "3  {'feature_fraction': 0.6, 'learning_rate': 0.2...           0.939301   \n",
       "\n",
       "   split1_test_score  split2_test_score  mean_test_score  std_test_score  \\\n",
       "1           0.965072           0.965791         0.963155        0.003233   \n",
       "0           0.962969           0.965992         0.962655        0.002861   \n",
       "2           0.964392           0.963406         0.962225        0.002402   \n",
       "3           0.510864           0.958141         0.802769        0.206551   \n",
       "\n",
       "   rank_test_score  split0_train_score  split1_train_score  \\\n",
       "1                1                 1.0            1.000000   \n",
       "0                2                 1.0            1.000000   \n",
       "2                3                 1.0            1.000000   \n",
       "3                4                 1.0            0.524199   \n",
       "\n",
       "   split2_train_score  mean_train_score  std_train_score  \n",
       "1                 1.0          1.000000     1.218082e-07  \n",
       "0                 1.0          1.000000     1.218082e-07  \n",
       "2                 1.0          1.000000     1.218082e-07  \n",
       "3                 1.0          0.841399     2.242948e-01  "
      ]
     },
     "metadata": {},
     "output_type": "display_data"
    },
    {
     "data": {
      "image/png": "[encoded data removed]",
      "text/plain": [
       "<matplotlib.figure.Figure at 0x11a9e1c88>"
      ]
     },
     "metadata": {},
     "output_type": "display_data"
    }
   ],
   "source": [
    "GridSearch_table_plot(clf, \"feature_fraction\", display_all_params=False, negative=False)"
   ]
  },
  {
   "cell_type": "markdown",
   "metadata": {},
   "source": [
    "Using 0.5"
   ]
  },
  {
   "cell_type": "markdown",
   "metadata": {},
   "source": [
    "### Tuning max_bin"
   ]
  },
  {
   "cell_type": "code",
   "execution_count": 17,
   "metadata": {},
   "outputs": [
    {
     "name": "stdout",
     "output_type": "stream",
     "text": [
      "Fitting 3 folds for each of 3 candidates, totalling 9 fits\n",
      "[CV] feature_fraction=0.5, learning_rate=0.2, max_bin=150, max_depth=5, min_data_in_leaf=5, n_estimators=4000, num_leaves=9 \n",
      "[CV] feature_fraction=0.5, learning_rate=0.2, max_bin=150, max_depth=5, min_data_in_leaf=5, n_estimators=4000, num_leaves=9 \n",
      "[CV] feature_fraction=0.5, learning_rate=0.2, max_bin=150, max_depth=5, min_data_in_leaf=5, n_estimators=4000, num_leaves=9 \n",
      "[CV] feature_fraction=0.5, learning_rate=0.2, max_bin=200, max_depth=5, min_data_in_leaf=5, n_estimators=4000, num_leaves=9 \n",
      "[CV]  feature_fraction=0.5, learning_rate=0.2, max_bin=200, max_depth=5, min_data_in_leaf=5, n_estimators=4000, num_leaves=9, score=0.5414970010367571, total= 2.6min\n",
      "[CV] feature_fraction=0.5, learning_rate=0.2, max_bin=200, max_depth=5, min_data_in_leaf=5, n_estimators=4000, num_leaves=9 \n",
      "[CV]  feature_fraction=0.5, learning_rate=0.2, max_bin=150, max_depth=5, min_data_in_leaf=5, n_estimators=4000, num_leaves=9, score=0.6531143263304521, total= 2.7min\n",
      "[CV] feature_fraction=0.5, learning_rate=0.2, max_bin=200, max_depth=5, min_data_in_leaf=5, n_estimators=4000, num_leaves=9 \n",
      "[CV]  feature_fraction=0.5, learning_rate=0.2, max_bin=150, max_depth=5, min_data_in_leaf=5, n_estimators=4000, num_leaves=9, score=0.6885028081490386, total= 2.7min\n",
      "[CV] feature_fraction=0.5, learning_rate=0.2, max_bin=300, max_depth=5, min_data_in_leaf=5, n_estimators=4000, num_leaves=9 \n",
      "[CV]  feature_fraction=0.5, learning_rate=0.2, max_bin=200, max_depth=5, min_data_in_leaf=5, n_estimators=4000, num_leaves=9, score=0.6400848964196895, total= 1.8min\n",
      "[CV] feature_fraction=0.5, learning_rate=0.2, max_bin=300, max_depth=5, min_data_in_leaf=5, n_estimators=4000, num_leaves=9 \n",
      "[CV]  feature_fraction=0.5, learning_rate=0.2, max_bin=150, max_depth=5, min_data_in_leaf=5, n_estimators=4000, num_leaves=9, score=0.9489635608474695, total= 5.5min\n",
      "[CV] feature_fraction=0.5, learning_rate=0.2, max_bin=300, max_depth=5, min_data_in_leaf=5, n_estimators=4000, num_leaves=9 \n",
      "[CV]  feature_fraction=0.5, learning_rate=0.2, max_bin=300, max_depth=5, min_data_in_leaf=5, n_estimators=4000, num_leaves=9, score=0.6127384382493433, total= 1.9min\n"
     ]
    },
    {
     "name": "stderr",
     "output_type": "stream",
     "text": [
      "[Parallel(n_jobs=-1)]: Done   6 out of   9 | elapsed:  6.7min remaining:  3.4min\n"
     ]
    },
    {
     "name": "stdout",
     "output_type": "stream",
     "text": [
      "[CV]  feature_fraction=0.5, learning_rate=0.2, max_bin=200, max_depth=5, min_data_in_leaf=5, n_estimators=4000, num_leaves=9, score=0.9639260976587097, total= 4.5min\n",
      "[CV]  feature_fraction=0.5, learning_rate=0.2, max_bin=300, max_depth=5, min_data_in_leaf=5, n_estimators=4000, num_leaves=9, score=0.9513251251423156, total= 4.5min\n",
      "[CV]  feature_fraction=0.5, learning_rate=0.2, max_bin=300, max_depth=5, min_data_in_leaf=5, n_estimators=4000, num_leaves=9, score=0.5584816913771062, total= 1.9min\n"
     ]
    },
    {
     "name": "stderr",
     "output_type": "stream",
     "text": [
      "[Parallel(n_jobs=-1)]: Done   9 out of   9 | elapsed:  8.1min finished\n"
     ]
    },
    {
     "name": "stdout",
     "output_type": "stream",
     "text": [
      "CPU times: user 50.4 s, sys: 2.19 s, total: 52.6 s\n",
      "Wall time: 9min 35s\n"
     ]
    }
   ],
   "source": [
    "%%time\n",
    "\n",
    "param_grid = {\n",
    "    'n_estimators': [4000],\n",
    "    'learning_rate': [0.2],\n",
    "    'max_depth': [5],\n",
    "    'min_data_in_leaf' : [5],\n",
    "    'num_leaves': [9],\n",
    "    'feature_fraction': [0.5],\n",
    "    'max_bin': [150,200, 300]\n",
    "    \n",
    "}\n",
    "lgbm = LGB.LGBMClassifier(objective='binary', nthreads=-1, seed=27, verbosity=2, is_imbalance=True, metric='auc')\n",
    "\n",
    "clf = GridSearchCV(lgbm, param_grid=param_grid, cv=skf, n_jobs=-1, verbose=3, scoring='roc_auc').fit(X, Y)"
   ]
  },
  {
   "cell_type": "code",
   "execution_count": 20,
   "metadata": {},
   "outputs": [
    {
     "data": {
      "text/plain": [
       "0.5854811623283793"
      ]
     },
     "execution_count": 20,
     "metadata": {},
     "output_type": "execute_result"
    }
   ],
   "source": [
    "roc_auc_score(clf.predict(X), Y.values)"
   ]
  },
  {
   "cell_type": "code",
   "execution_count": 21,
   "metadata": {},
   "outputs": [
    {
     "data": {
      "text/plain": [
       "623"
      ]
     },
     "execution_count": 21,
     "metadata": {},
     "output_type": "execute_result"
    }
   ],
   "source": [
    "sum(clf.predict(test[features]))"
   ]
  },
  {
   "cell_type": "code",
   "execution_count": 22,
   "metadata": {},
   "outputs": [
    {
     "name": "stdout",
     "output_type": "stream",
     "text": [
      "best parameters: {'feature_fraction': 0.5, 'learning_rate': 0.2, 'max_bin': 150, 'max_depth': 5, 'min_data_in_leaf': 5, 'n_estimators': 4000, 'num_leaves': 9}\n",
      "best score:      0.76353 (+/-0.13192)\n"
     ]
    },
    {
     "data": {
      "text/html": [
       "<div>\n",
       "<style scoped>\n",
       "    .dataframe tbody tr th:only-of-type {\n",
       "        vertical-align: middle;\n",
       "    }\n",
       "\n",
       "    .dataframe tbody tr th {\n",
       "        vertical-align: top;\n",
       "    }\n",
       "\n",
       "    .dataframe thead th {\n",
       "        text-align: right;\n",
       "    }\n",
       "</style>\n",
       "<table border=\"1\" class=\"dataframe\">\n",
       "  <thead>\n",
       "    <tr style=\"text-align: right;\">\n",
       "      <th></th>\n",
       "      <th>mean_fit_time</th>\n",
       "      <th>std_fit_time</th>\n",
       "      <th>mean_score_time</th>\n",
       "      <th>std_score_time</th>\n",
       "      <th>param_feature_fraction</th>\n",
       "      <th>param_learning_rate</th>\n",
       "      <th>param_max_bin</th>\n",
       "      <th>param_max_depth</th>\n",
       "      <th>param_min_data_in_leaf</th>\n",
       "      <th>param_n_estimators</th>\n",
       "      <th>param_num_leaves</th>\n",
       "      <th>params</th>\n",
       "      <th>split0_test_score</th>\n",
       "      <th>split1_test_score</th>\n",
       "      <th>split2_test_score</th>\n",
       "      <th>mean_test_score</th>\n",
       "      <th>std_test_score</th>\n",
       "      <th>rank_test_score</th>\n",
       "      <th>split0_train_score</th>\n",
       "      <th>split1_train_score</th>\n",
       "      <th>split2_train_score</th>\n",
       "      <th>mean_train_score</th>\n",
       "      <th>std_train_score</th>\n",
       "    </tr>\n",
       "  </thead>\n",
       "  <tbody>\n",
       "    <tr>\n",
       "      <td>0</td>\n",
       "      <td>208.720135</td>\n",
       "      <td>72.558524</td>\n",
       "      <td>8.941173</td>\n",
       "      <td>6.913611</td>\n",
       "      <td>0.5</td>\n",
       "      <td>0.2</td>\n",
       "      <td>150</td>\n",
       "      <td>5</td>\n",
       "      <td>5</td>\n",
       "      <td>4000</td>\n",
       "      <td>9</td>\n",
       "      <td>{'feature_fraction': 0.5, 'learning_rate': 0.2...</td>\n",
       "      <td>0.948964</td>\n",
       "      <td>0.653114</td>\n",
       "      <td>0.688503</td>\n",
       "      <td>0.763527</td>\n",
       "      <td>0.131917</td>\n",
       "      <td>1</td>\n",
       "      <td>1.000000</td>\n",
       "      <td>0.684545</td>\n",
       "      <td>0.742750</td>\n",
       "      <td>0.809098</td>\n",
       "      <td>0.137063</td>\n",
       "    </tr>\n",
       "    <tr>\n",
       "      <td>1</td>\n",
       "      <td>170.422286</td>\n",
       "      <td>60.430176</td>\n",
       "      <td>8.517102</td>\n",
       "      <td>8.384428</td>\n",
       "      <td>0.5</td>\n",
       "      <td>0.2</td>\n",
       "      <td>200</td>\n",
       "      <td>5</td>\n",
       "      <td>5</td>\n",
       "      <td>4000</td>\n",
       "      <td>9</td>\n",
       "      <td>{'feature_fraction': 0.5, 'learning_rate': 0.2...</td>\n",
       "      <td>0.541497</td>\n",
       "      <td>0.963926</td>\n",
       "      <td>0.640085</td>\n",
       "      <td>0.715169</td>\n",
       "      <td>0.180444</td>\n",
       "      <td>2</td>\n",
       "      <td>0.538659</td>\n",
       "      <td>1.000000</td>\n",
       "      <td>0.679142</td>\n",
       "      <td>0.739267</td>\n",
       "      <td>0.193080</td>\n",
       "    </tr>\n",
       "    <tr>\n",
       "      <td>2</td>\n",
       "      <td>156.681450</td>\n",
       "      <td>64.700187</td>\n",
       "      <td>8.946462</td>\n",
       "      <td>8.931831</td>\n",
       "      <td>0.5</td>\n",
       "      <td>0.2</td>\n",
       "      <td>300</td>\n",
       "      <td>5</td>\n",
       "      <td>5</td>\n",
       "      <td>4000</td>\n",
       "      <td>9</td>\n",
       "      <td>{'feature_fraction': 0.5, 'learning_rate': 0.2...</td>\n",
       "      <td>0.951325</td>\n",
       "      <td>0.612738</td>\n",
       "      <td>0.558482</td>\n",
       "      <td>0.707515</td>\n",
       "      <td>0.173817</td>\n",
       "      <td>3</td>\n",
       "      <td>1.000000</td>\n",
       "      <td>0.627351</td>\n",
       "      <td>0.568454</td>\n",
       "      <td>0.731935</td>\n",
       "      <td>0.191069</td>\n",
       "    </tr>\n",
       "  </tbody>\n",
       "</table>\n",
       "</div>"
      ],
      "text/plain": [
       "   mean_fit_time  std_fit_time  mean_score_time  std_score_time  \\\n",
       "0     208.720135     72.558524         8.941173        6.913611   \n",
       "1     170.422286     60.430176         8.517102        8.384428   \n",
       "2     156.681450     64.700187         8.946462        8.931831   \n",
       "\n",
       "  param_feature_fraction param_learning_rate param_max_bin param_max_depth  \\\n",
       "0                    0.5                 0.2           150               5   \n",
       "1                    0.5                 0.2           200               5   \n",
       "2                    0.5                 0.2           300               5   \n",
       "\n",
       "  param_min_data_in_leaf param_n_estimators param_num_leaves  \\\n",
       "0                      5               4000                9   \n",
       "1                      5               4000                9   \n",
       "2                      5               4000                9   \n",
       "\n",
       "                                              params  split0_test_score  \\\n",
       "0  {'feature_fraction': 0.5, 'learning_rate': 0.2...           0.948964   \n",
       "1  {'feature_fraction': 0.5, 'learning_rate': 0.2...           0.541497   \n",
       "2  {'feature_fraction': 0.5, 'learning_rate': 0.2...           0.951325   \n",
       "\n",
       "   split1_test_score  split2_test_score  mean_test_score  std_test_score  \\\n",
       "0           0.653114           0.688503         0.763527        0.131917   \n",
       "1           0.963926           0.640085         0.715169        0.180444   \n",
       "2           0.612738           0.558482         0.707515        0.173817   \n",
       "\n",
       "   rank_test_score  split0_train_score  split1_train_score  \\\n",
       "0                1            1.000000            0.684545   \n",
       "1                2            0.538659            1.000000   \n",
       "2                3            1.000000            0.627351   \n",
       "\n",
       "   split2_train_score  mean_train_score  std_train_score  \n",
       "0            0.742750          0.809098         0.137063  \n",
       "1            0.679142          0.739267         0.193080  \n",
       "2            0.568454          0.731935         0.191069  "
      ]
     },
     "metadata": {},
     "output_type": "display_data"
    },
    {
     "data": {
      "image/png": "[encoded data removed]",
      "text/plain": [
       "<matplotlib.figure.Figure at 0x1a1fa97320>"
      ]
     },
     "metadata": {},
     "output_type": "display_data"
    }
   ],
   "source": [
    "GridSearch_table_plot(clf, \"max_bin\", display_all_params=False, negative=False)"
   ]
  },
  {
   "cell_type": "markdown",
   "metadata": {},
   "source": [
    "ignoring max_bin"
   ]
  },
  {
   "cell_type": "markdown",
   "metadata": {},
   "source": [
    "## Tuning drop_rate"
   ]
  },
  {
   "cell_type": "code",
   "execution_count": 27,
   "metadata": {},
   "outputs": [
    {
     "name": "stdout",
     "output_type": "stream",
     "text": [
      "Fitting 3 folds for each of 3 candidates, totalling 9 fits\n",
      "[CV] drop_rate=0.2, feature_fraction=0.5, learning_rate=0.2, max_depth=5, min_data_in_leaf=5, n_estimators=4000, num_leaves=9 \n",
      "[CV] drop_rate=0.2, feature_fraction=0.5, learning_rate=0.2, max_depth=5, min_data_in_leaf=5, n_estimators=4000, num_leaves=9 \n",
      "[CV] drop_rate=0.2, feature_fraction=0.5, learning_rate=0.2, max_depth=5, min_data_in_leaf=5, n_estimators=4000, num_leaves=9 \n",
      "[CV] drop_rate=0.3, feature_fraction=0.5, learning_rate=0.2, max_depth=5, min_data_in_leaf=5, n_estimators=4000, num_leaves=9 \n",
      "[CV]  drop_rate=0.2, feature_fraction=0.5, learning_rate=0.2, max_depth=5, min_data_in_leaf=5, n_estimators=4000, num_leaves=9, score=0.519698227336043, total= 1.4min\n",
      "[CV] drop_rate=0.3, feature_fraction=0.5, learning_rate=0.2, max_depth=5, min_data_in_leaf=5, n_estimators=4000, num_leaves=9 \n",
      "[CV]  drop_rate=0.2, feature_fraction=0.5, learning_rate=0.2, max_depth=5, min_data_in_leaf=5, n_estimators=4000, num_leaves=9, score=0.6352406803162428, total= 1.6min\n",
      "[CV] drop_rate=0.3, feature_fraction=0.5, learning_rate=0.2, max_depth=5, min_data_in_leaf=5, n_estimators=4000, num_leaves=9 \n",
      "[CV]  drop_rate=0.3, feature_fraction=0.5, learning_rate=0.2, max_depth=5, min_data_in_leaf=5, n_estimators=4000, num_leaves=9, score=0.5875587548737128, total= 1.5min\n",
      "[CV] drop_rate=0.4, feature_fraction=0.5, learning_rate=0.2, max_depth=5, min_data_in_leaf=5, n_estimators=4000, num_leaves=9 \n",
      "[CV]  drop_rate=0.3, feature_fraction=0.5, learning_rate=0.2, max_depth=5, min_data_in_leaf=5, n_estimators=4000, num_leaves=9, score=0.5448934143657654, total= 1.8min\n",
      "[CV] drop_rate=0.4, feature_fraction=0.5, learning_rate=0.2, max_depth=5, min_data_in_leaf=5, n_estimators=4000, num_leaves=9 \n",
      "[CV]  drop_rate=0.3, feature_fraction=0.5, learning_rate=0.2, max_depth=5, min_data_in_leaf=5, n_estimators=4000, num_leaves=9, score=0.9522284713874102, total= 3.9min\n",
      "[CV] drop_rate=0.4, feature_fraction=0.5, learning_rate=0.2, max_depth=5, min_data_in_leaf=5, n_estimators=4000, num_leaves=9 \n",
      "[CV]  drop_rate=0.2, feature_fraction=0.5, learning_rate=0.2, max_depth=5, min_data_in_leaf=5, n_estimators=4000, num_leaves=9, score=0.9522291074347575, total= 4.0min\n"
     ]
    },
    {
     "name": "stderr",
     "output_type": "stream",
     "text": [
      "[Parallel(n_jobs=-1)]: Done   6 out of   9 | elapsed:  4.8min remaining:  2.4min\n"
     ]
    },
    {
     "name": "stdout",
     "output_type": "stream",
     "text": [
      "[CV]  drop_rate=0.4, feature_fraction=0.5, learning_rate=0.2, max_depth=5, min_data_in_leaf=5, n_estimators=4000, num_leaves=9, score=0.5685707539069208, total= 3.0min\n",
      "[CV]  drop_rate=0.4, feature_fraction=0.5, learning_rate=0.2, max_depth=5, min_data_in_leaf=5, n_estimators=4000, num_leaves=9, score=0.5828534356097468, total= 2.3min\n",
      "[CV]  drop_rate=0.4, feature_fraction=0.5, learning_rate=0.2, max_depth=5, min_data_in_leaf=5, n_estimators=4000, num_leaves=9, score=0.9522284713874102, total= 5.9min\n"
     ]
    },
    {
     "name": "stderr",
     "output_type": "stream",
     "text": [
      "[Parallel(n_jobs=-1)]: Done   9 out of   9 | elapsed:  9.6min finished\n"
     ]
    },
    {
     "name": "stdout",
     "output_type": "stream",
     "text": [
      "CPU times: user 50.7 s, sys: 2.22 s, total: 52.9 s\n",
      "Wall time: 10min 56s\n"
     ]
    }
   ],
   "source": [
    "%%time\n",
    "\n",
    "param_grid = {\n",
    "    'n_estimators': [4000],\n",
    "    'learning_rate': [0.2],\n",
    "    'max_depth': [5],\n",
    "    'min_data_in_leaf' : [5],\n",
    "    'num_leaves': [9],\n",
    "    'feature_fraction': [0.5],\n",
    "    'drop_rate': [0.2, 0.3, 0.4]\n",
    "    \n",
    "}\n",
    "lgbm = LGB.LGBMClassifier(objective='binary', nthreads=-1, seed=27, verbosity=2, is_imbalance=True, metric='auc')\n",
    "\n",
    "clf = GridSearchCV(lgbm, param_grid=param_grid, cv=skf, n_jobs=-1, verbose=3, scoring='roc_auc').fit(X, Y)"
   ]
  },
  {
   "cell_type": "code",
   "execution_count": 28,
   "metadata": {},
   "outputs": [
    {
     "data": {
      "text/plain": [
       "0.5729818082646244"
      ]
     },
     "execution_count": 28,
     "metadata": {},
     "output_type": "execute_result"
    }
   ],
   "source": [
    "roc_auc_score(clf.predict(X), Y.values)"
   ]
  },
  {
   "cell_type": "code",
   "execution_count": 29,
   "metadata": {},
   "outputs": [
    {
     "data": {
      "text/plain": [
       "496"
      ]
     },
     "execution_count": 29,
     "metadata": {},
     "output_type": "execute_result"
    }
   ],
   "source": [
    "sum(clf.predict(test[features]))"
   ]
  },
  {
   "cell_type": "code",
   "execution_count": 30,
   "metadata": {},
   "outputs": [
    {
     "name": "stdout",
     "output_type": "stream",
     "text": [
      "best parameters: {'drop_rate': 0.2, 'feature_fraction': 0.5, 'learning_rate': 0.2, 'max_depth': 5, 'min_data_in_leaf': 5, 'n_estimators': 4000, 'num_leaves': 9}\n",
      "best score:      0.70239 (+/-0.18285)\n"
     ]
    },
    {
     "data": {
      "text/html": [
       "<div>\n",
       "<style scoped>\n",
       "    .dataframe tbody tr th:only-of-type {\n",
       "        vertical-align: middle;\n",
       "    }\n",
       "\n",
       "    .dataframe tbody tr th {\n",
       "        vertical-align: top;\n",
       "    }\n",
       "\n",
       "    .dataframe thead th {\n",
       "        text-align: right;\n",
       "    }\n",
       "</style>\n",
       "<table border=\"1\" class=\"dataframe\">\n",
       "  <thead>\n",
       "    <tr style=\"text-align: right;\">\n",
       "      <th></th>\n",
       "      <th>mean_fit_time</th>\n",
       "      <th>std_fit_time</th>\n",
       "      <th>mean_score_time</th>\n",
       "      <th>std_score_time</th>\n",
       "      <th>param_drop_rate</th>\n",
       "      <th>param_feature_fraction</th>\n",
       "      <th>param_learning_rate</th>\n",
       "      <th>param_max_depth</th>\n",
       "      <th>param_min_data_in_leaf</th>\n",
       "      <th>param_n_estimators</th>\n",
       "      <th>param_num_leaves</th>\n",
       "      <th>params</th>\n",
       "      <th>split0_test_score</th>\n",
       "      <th>split1_test_score</th>\n",
       "      <th>split2_test_score</th>\n",
       "      <th>mean_test_score</th>\n",
       "      <th>std_test_score</th>\n",
       "      <th>rank_test_score</th>\n",
       "      <th>split0_train_score</th>\n",
       "      <th>split1_train_score</th>\n",
       "      <th>split2_train_score</th>\n",
       "      <th>mean_train_score</th>\n",
       "      <th>std_train_score</th>\n",
       "    </tr>\n",
       "  </thead>\n",
       "  <tbody>\n",
       "    <tr>\n",
       "      <td>0</td>\n",
       "      <td>131.479100</td>\n",
       "      <td>59.724828</td>\n",
       "      <td>8.561122</td>\n",
       "      <td>9.017613</td>\n",
       "      <td>0.2</td>\n",
       "      <td>0.5</td>\n",
       "      <td>0.2</td>\n",
       "      <td>5</td>\n",
       "      <td>5</td>\n",
       "      <td>4000</td>\n",
       "      <td>9</td>\n",
       "      <td>{'drop_rate': 0.2, 'feature_fraction': 0.5, 'l...</td>\n",
       "      <td>0.952229</td>\n",
       "      <td>0.635241</td>\n",
       "      <td>0.519698</td>\n",
       "      <td>0.702389</td>\n",
       "      <td>0.182852</td>\n",
       "      <td>1</td>\n",
       "      <td>1.0</td>\n",
       "      <td>0.684503</td>\n",
       "      <td>0.539517</td>\n",
       "      <td>0.741340</td>\n",
       "      <td>0.192239</td>\n",
       "    </tr>\n",
       "    <tr>\n",
       "      <td>2</td>\n",
       "      <td>216.476533</td>\n",
       "      <td>85.251239</td>\n",
       "      <td>7.243511</td>\n",
       "      <td>6.918567</td>\n",
       "      <td>0.4</td>\n",
       "      <td>0.5</td>\n",
       "      <td>0.2</td>\n",
       "      <td>5</td>\n",
       "      <td>5</td>\n",
       "      <td>4000</td>\n",
       "      <td>9</td>\n",
       "      <td>{'drop_rate': 0.4, 'feature_fraction': 0.5, 'l...</td>\n",
       "      <td>0.952228</td>\n",
       "      <td>0.568571</td>\n",
       "      <td>0.582853</td>\n",
       "      <td>0.701218</td>\n",
       "      <td>0.177587</td>\n",
       "      <td>2</td>\n",
       "      <td>1.0</td>\n",
       "      <td>0.601058</td>\n",
       "      <td>0.648679</td>\n",
       "      <td>0.749912</td>\n",
       "      <td>0.177904</td>\n",
       "    </tr>\n",
       "    <tr>\n",
       "      <td>1</td>\n",
       "      <td>135.393960</td>\n",
       "      <td>55.594620</td>\n",
       "      <td>8.693743</td>\n",
       "      <td>8.906222</td>\n",
       "      <td>0.3</td>\n",
       "      <td>0.5</td>\n",
       "      <td>0.2</td>\n",
       "      <td>5</td>\n",
       "      <td>5</td>\n",
       "      <td>4000</td>\n",
       "      <td>9</td>\n",
       "      <td>{'drop_rate': 0.3, 'feature_fraction': 0.5, 'l...</td>\n",
       "      <td>0.952228</td>\n",
       "      <td>0.544893</td>\n",
       "      <td>0.587559</td>\n",
       "      <td>0.694894</td>\n",
       "      <td>0.182795</td>\n",
       "      <td>3</td>\n",
       "      <td>1.0</td>\n",
       "      <td>0.567841</td>\n",
       "      <td>0.623044</td>\n",
       "      <td>0.730295</td>\n",
       "      <td>0.192037</td>\n",
       "    </tr>\n",
       "  </tbody>\n",
       "</table>\n",
       "</div>"
      ],
      "text/plain": [
       "   mean_fit_time  std_fit_time  mean_score_time  std_score_time  \\\n",
       "0     131.479100     59.724828         8.561122        9.017613   \n",
       "2     216.476533     85.251239         7.243511        6.918567   \n",
       "1     135.393960     55.594620         8.693743        8.906222   \n",
       "\n",
       "  param_drop_rate param_feature_fraction param_learning_rate param_max_depth  \\\n",
       "0             0.2                    0.5                 0.2               5   \n",
       "2             0.4                    0.5                 0.2               5   \n",
       "1             0.3                    0.5                 0.2               5   \n",
       "\n",
       "  param_min_data_in_leaf param_n_estimators param_num_leaves  \\\n",
       "0                      5               4000                9   \n",
       "2                      5               4000                9   \n",
       "1                      5               4000                9   \n",
       "\n",
       "                                              params  split0_test_score  \\\n",
       "0  {'drop_rate': 0.2, 'feature_fraction': 0.5, 'l...           0.952229   \n",
       "2  {'drop_rate': 0.4, 'feature_fraction': 0.5, 'l...           0.952228   \n",
       "1  {'drop_rate': 0.3, 'feature_fraction': 0.5, 'l...           0.952228   \n",
       "\n",
       "   split1_test_score  split2_test_score  mean_test_score  std_test_score  \\\n",
       "0           0.635241           0.519698         0.702389        0.182852   \n",
       "2           0.568571           0.582853         0.701218        0.177587   \n",
       "1           0.544893           0.587559         0.694894        0.182795   \n",
       "\n",
       "   rank_test_score  split0_train_score  split1_train_score  \\\n",
       "0                1                 1.0            0.684503   \n",
       "2                2                 1.0            0.601058   \n",
       "1                3                 1.0            0.567841   \n",
       "\n",
       "   split2_train_score  mean_train_score  std_train_score  \n",
       "0            0.539517          0.741340         0.192239  \n",
       "2            0.648679          0.749912         0.177904  \n",
       "1            0.623044          0.730295         0.192037  "
      ]
     },
     "metadata": {},
     "output_type": "display_data"
    },
    {
     "data": {
      "image/png": "[encoded data removed]",
      "text/plain": [
       "<matplotlib.figure.Figure at 0x1a1fa97080>"
      ]
     },
     "metadata": {},
     "output_type": "display_data"
    }
   ],
   "source": [
    "GridSearch_table_plot(clf, \"drop_rate\", display_all_params=False, negative=False)"
   ]
  },
  {
   "cell_type": "code",
   "execution_count": null,
   "metadata": {
    "collapsed": true
   },
   "outputs": [],
   "source": []
  },
  {
   "cell_type": "markdown",
   "metadata": {},
   "source": [
    "Taking 0.3"
   ]
  },
  {
   "cell_type": "markdown",
   "metadata": {},
   "source": [
    "### Increasing n-estimators and bringing down learning_rate"
   ]
  },
  {
   "cell_type": "code",
   "execution_count": 9,
   "metadata": {},
   "outputs": [
    {
     "name": "stdout",
     "output_type": "stream",
     "text": [
      "Fitting 3 folds for each of 16 candidates, totalling 48 fits\n",
      "[CV] drop_rate=0.3, feature_fraction=0.5, learning_rate=0.05, max_depth=5, min_data_in_leaf=5, n_estimators=2000, num_leaves=9 \n",
      "[CV] drop_rate=0.3, feature_fraction=0.5, learning_rate=0.05, max_depth=5, min_data_in_leaf=5, n_estimators=2000, num_leaves=9 \n",
      "[CV] drop_rate=0.3, feature_fraction=0.5, learning_rate=0.05, max_depth=5, min_data_in_leaf=5, n_estimators=2000, num_leaves=9 \n",
      "[CV] drop_rate=0.3, feature_fraction=0.5, learning_rate=0.05, max_depth=5, min_data_in_leaf=5, n_estimators=3000, num_leaves=9 \n",
      "[CV]  drop_rate=0.3, feature_fraction=0.5, learning_rate=0.05, max_depth=5, min_data_in_leaf=5, n_estimators=2000, num_leaves=9, score=0.9713113229148778, total= 4.3min\n",
      "[CV] drop_rate=0.3, feature_fraction=0.5, learning_rate=0.05, max_depth=5, min_data_in_leaf=5, n_estimators=3000, num_leaves=9 \n",
      "[CV]  drop_rate=0.3, feature_fraction=0.5, learning_rate=0.05, max_depth=5, min_data_in_leaf=5, n_estimators=2000, num_leaves=9, score=0.971385660948601, total= 4.5min\n",
      "[CV] drop_rate=0.3, feature_fraction=0.5, learning_rate=0.05, max_depth=5, min_data_in_leaf=5, n_estimators=3000, num_leaves=9 \n",
      "[CV]  drop_rate=0.3, feature_fraction=0.5, learning_rate=0.05, max_depth=5, min_data_in_leaf=5, n_estimators=2000, num_leaves=9, score=0.9711771964305023, total= 4.6min\n",
      "[CV] drop_rate=0.3, feature_fraction=0.5, learning_rate=0.05, max_depth=5, min_data_in_leaf=5, n_estimators=4000, num_leaves=9 \n",
      "[CV]  drop_rate=0.3, feature_fraction=0.5, learning_rate=0.05, max_depth=5, min_data_in_leaf=5, n_estimators=3000, num_leaves=9, score=0.9702257491047634, total= 7.4min\n",
      "[CV] drop_rate=0.3, feature_fraction=0.5, learning_rate=0.05, max_depth=5, min_data_in_leaf=5, n_estimators=4000, num_leaves=9 \n",
      "[CV]  drop_rate=0.3, feature_fraction=0.5, learning_rate=0.05, max_depth=5, min_data_in_leaf=5, n_estimators=3000, num_leaves=9, score=0.969945331730494, total= 6.9min\n",
      "[CV] drop_rate=0.3, feature_fraction=0.5, learning_rate=0.05, max_depth=5, min_data_in_leaf=5, n_estimators=4000, num_leaves=9 \n",
      "[CV]  drop_rate=0.3, feature_fraction=0.5, learning_rate=0.05, max_depth=5, min_data_in_leaf=5, n_estimators=3000, num_leaves=9, score=0.9707725113057417, total= 6.9min\n",
      "[CV] drop_rate=0.3, feature_fraction=0.5, learning_rate=0.05, max_depth=5, min_data_in_leaf=5, n_estimators=4500, num_leaves=9 \n",
      "[CV]  drop_rate=0.3, feature_fraction=0.5, learning_rate=0.05, max_depth=5, min_data_in_leaf=5, n_estimators=4000, num_leaves=9, score=0.9695157612532677, total= 9.3min\n",
      "[CV] drop_rate=0.3, feature_fraction=0.5, learning_rate=0.05, max_depth=5, min_data_in_leaf=5, n_estimators=4500, num_leaves=9 \n",
      "[CV]  drop_rate=0.3, feature_fraction=0.5, learning_rate=0.05, max_depth=5, min_data_in_leaf=5, n_estimators=4000, num_leaves=9, score=0.9688293866595429, total= 8.6min\n",
      "[CV] drop_rate=0.3, feature_fraction=0.5, learning_rate=0.05, max_depth=5, min_data_in_leaf=5, n_estimators=4500, num_leaves=9 \n",
      "[CV]  drop_rate=0.3, feature_fraction=0.5, learning_rate=0.05, max_depth=5, min_data_in_leaf=5, n_estimators=4000, num_leaves=9, score=0.9701337607571507, total= 8.5min\n",
      "[CV] drop_rate=0.3, feature_fraction=0.5, learning_rate=0.1, max_depth=5, min_data_in_leaf=5, n_estimators=2000, num_leaves=9 \n",
      "[CV]  drop_rate=0.3, feature_fraction=0.5, learning_rate=0.05, max_depth=5, min_data_in_leaf=5, n_estimators=4500, num_leaves=9, score=0.9681350614739761, total= 9.5min\n",
      "[CV] drop_rate=0.3, feature_fraction=0.5, learning_rate=0.1, max_depth=5, min_data_in_leaf=5, n_estimators=2000, num_leaves=9 \n",
      "[CV]  drop_rate=0.3, feature_fraction=0.5, learning_rate=0.1, max_depth=5, min_data_in_leaf=5, n_estimators=2000, num_leaves=9, score=0.9697630246595557, total= 3.1min\n",
      "[CV] drop_rate=0.3, feature_fraction=0.5, learning_rate=0.1, max_depth=5, min_data_in_leaf=5, n_estimators=2000, num_leaves=9 \n",
      "[CV]  drop_rate=0.3, feature_fraction=0.5, learning_rate=0.05, max_depth=5, min_data_in_leaf=5, n_estimators=4500, num_leaves=9, score=0.9683506020188142, total= 9.4min\n",
      "[CV] drop_rate=0.3, feature_fraction=0.5, learning_rate=0.1, max_depth=5, min_data_in_leaf=5, n_estimators=3000, num_leaves=9 \n",
      "[CV]  drop_rate=0.3, feature_fraction=0.5, learning_rate=0.1, max_depth=5, min_data_in_leaf=5, n_estimators=2000, num_leaves=9, score=0.9697553125854688, total= 2.9min\n",
      "[CV] drop_rate=0.3, feature_fraction=0.5, learning_rate=0.1, max_depth=5, min_data_in_leaf=5, n_estimators=3000, num_leaves=9 \n",
      "[CV]  drop_rate=0.3, feature_fraction=0.5, learning_rate=0.05, max_depth=5, min_data_in_leaf=5, n_estimators=4500, num_leaves=9, score=0.9697584928222057, total= 8.1min\n",
      "[CV] drop_rate=0.3, feature_fraction=0.5, learning_rate=0.1, max_depth=5, min_data_in_leaf=5, n_estimators=3000, num_leaves=9 \n",
      "[CV]  drop_rate=0.3, feature_fraction=0.5, learning_rate=0.1, max_depth=5, min_data_in_leaf=5, n_estimators=2000, num_leaves=9, score=0.9702318710604818, total= 2.9min\n",
      "[CV] drop_rate=0.3, feature_fraction=0.5, learning_rate=0.1, max_depth=5, min_data_in_leaf=5, n_estimators=4000, num_leaves=9 \n",
      "[CV]  drop_rate=0.3, feature_fraction=0.5, learning_rate=0.1, max_depth=5, min_data_in_leaf=5, n_estimators=3000, num_leaves=9, score=0.9686903308082253, total= 4.7min\n",
      "[CV] drop_rate=0.3, feature_fraction=0.5, learning_rate=0.1, max_depth=5, min_data_in_leaf=5, n_estimators=4000, num_leaves=9 \n",
      "[CV]  drop_rate=0.3, feature_fraction=0.5, learning_rate=0.1, max_depth=5, min_data_in_leaf=5, n_estimators=3000, num_leaves=9, score=0.9684390126000979, total= 4.7min\n",
      "[CV] drop_rate=0.3, feature_fraction=0.5, learning_rate=0.1, max_depth=5, min_data_in_leaf=5, n_estimators=4000, num_leaves=9 \n",
      "[CV]  drop_rate=0.3, feature_fraction=0.5, learning_rate=0.1, max_depth=5, min_data_in_leaf=5, n_estimators=3000, num_leaves=9, score=0.9683208668053249, total= 4.9min\n",
      "[CV] drop_rate=0.3, feature_fraction=0.5, learning_rate=0.1, max_depth=5, min_data_in_leaf=5, n_estimators=4500, num_leaves=9 \n",
      "[CV]  drop_rate=0.3, feature_fraction=0.5, learning_rate=0.1, max_depth=5, min_data_in_leaf=5, n_estimators=4000, num_leaves=9, score=0.9671738349202714, total= 6.5min\n",
      "[CV] drop_rate=0.3, feature_fraction=0.5, learning_rate=0.1, max_depth=5, min_data_in_leaf=5, n_estimators=4500, num_leaves=9 \n",
      "[CV]  drop_rate=0.3, feature_fraction=0.5, learning_rate=0.1, max_depth=5, min_data_in_leaf=5, n_estimators=4000, num_leaves=9, score=0.9671099916677798, total= 6.0min\n",
      "[CV] drop_rate=0.3, feature_fraction=0.5, learning_rate=0.1, max_depth=5, min_data_in_leaf=5, n_estimators=4500, num_leaves=9 \n",
      "[CV]  drop_rate=0.3, feature_fraction=0.5, learning_rate=0.1, max_depth=5, min_data_in_leaf=5, n_estimators=4000, num_leaves=9, score=0.9681232150921315, total= 6.2min\n",
      "[CV] drop_rate=0.3, feature_fraction=0.5, learning_rate=0.15, max_depth=5, min_data_in_leaf=5, n_estimators=2000, num_leaves=9 \n",
      "[CV]  drop_rate=0.3, feature_fraction=0.5, learning_rate=0.1, max_depth=5, min_data_in_leaf=5, n_estimators=4500, num_leaves=9, score=0.9663883164462762, total= 6.8min\n",
      "[CV] drop_rate=0.3, feature_fraction=0.5, learning_rate=0.15, max_depth=5, min_data_in_leaf=5, n_estimators=2000, num_leaves=9 \n",
      "[CV]  drop_rate=0.3, feature_fraction=0.5, learning_rate=0.15, max_depth=5, min_data_in_leaf=5, n_estimators=2000, num_leaves=9, score=0.9638318036394631, total= 3.1min\n",
      "[CV] drop_rate=0.3, feature_fraction=0.5, learning_rate=0.15, max_depth=5, min_data_in_leaf=5, n_estimators=2000, num_leaves=9 \n",
      "[CV]  drop_rate=0.3, feature_fraction=0.5, learning_rate=0.15, max_depth=5, min_data_in_leaf=5, n_estimators=2000, num_leaves=9, score=0.5615794009706082, total= 2.9min\n"
     ]
    },
    {
     "name": "stderr",
     "output_type": "stream",
     "text": [
      "[Parallel(n_jobs=-1)]: Done  24 tasks      | elapsed: 43.0min\n"
     ]
    },
    {
     "name": "stdout",
     "output_type": "stream",
     "text": [
      "[CV] drop_rate=0.3, feature_fraction=0.5, learning_rate=0.15, max_depth=5, min_data_in_leaf=5, n_estimators=3000, num_leaves=9 \n",
      "[CV]  drop_rate=0.3, feature_fraction=0.5, learning_rate=0.1, max_depth=5, min_data_in_leaf=5, n_estimators=4500, num_leaves=9, score=0.9666197581747986, total= 6.6min\n",
      "[CV] drop_rate=0.3, feature_fraction=0.5, learning_rate=0.15, max_depth=5, min_data_in_leaf=5, n_estimators=3000, num_leaves=9 \n",
      "[CV]  drop_rate=0.3, feature_fraction=0.5, learning_rate=0.15, max_depth=5, min_data_in_leaf=5, n_estimators=2000, num_leaves=9, score=0.6082015920265104, total= 2.4min\n",
      "[CV] drop_rate=0.3, feature_fraction=0.5, learning_rate=0.15, max_depth=5, min_data_in_leaf=5, n_estimators=3000, num_leaves=9 \n",
      "[CV]  drop_rate=0.3, feature_fraction=0.5, learning_rate=0.1, max_depth=5, min_data_in_leaf=5, n_estimators=4500, num_leaves=9, score=0.9670955215906273, total= 7.0min\n",
      "[CV] drop_rate=0.3, feature_fraction=0.5, learning_rate=0.15, max_depth=5, min_data_in_leaf=5, n_estimators=4000, num_leaves=9 \n",
      "[CV]  drop_rate=0.3, feature_fraction=0.5, learning_rate=0.15, max_depth=5, min_data_in_leaf=5, n_estimators=3000, num_leaves=9, score=0.6642375223411631, total= 3.2min\n",
      "[CV] drop_rate=0.3, feature_fraction=0.5, learning_rate=0.15, max_depth=5, min_data_in_leaf=5, n_estimators=4000, num_leaves=9 \n",
      "[CV]  drop_rate=0.3, feature_fraction=0.5, learning_rate=0.15, max_depth=5, min_data_in_leaf=5, n_estimators=3000, num_leaves=9, score=0.5777734844581831, total= 3.2min\n",
      "[CV] drop_rate=0.3, feature_fraction=0.5, learning_rate=0.15, max_depth=5, min_data_in_leaf=5, n_estimators=4000, num_leaves=9 \n",
      "[CV]  drop_rate=0.3, feature_fraction=0.5, learning_rate=0.15, max_depth=5, min_data_in_leaf=5, n_estimators=3000, num_leaves=9, score=0.9634423041451206, total= 5.4min\n",
      "[CV] drop_rate=0.3, feature_fraction=0.5, learning_rate=0.15, max_depth=5, min_data_in_leaf=5, n_estimators=4500, num_leaves=9 \n",
      "[CV]  drop_rate=0.3, feature_fraction=0.5, learning_rate=0.15, max_depth=5, min_data_in_leaf=5, n_estimators=4000, num_leaves=9, score=0.5477585691478873, total= 4.1min\n",
      "[CV] drop_rate=0.3, feature_fraction=0.5, learning_rate=0.15, max_depth=5, min_data_in_leaf=5, n_estimators=4500, num_leaves=9 \n",
      "[CV]  drop_rate=0.3, feature_fraction=0.5, learning_rate=0.15, max_depth=5, min_data_in_leaf=5, n_estimators=4000, num_leaves=9, score=0.5331587383364818, total= 4.0min\n",
      "[CV] drop_rate=0.3, feature_fraction=0.5, learning_rate=0.15, max_depth=5, min_data_in_leaf=5, n_estimators=4500, num_leaves=9 \n",
      "[CV]  drop_rate=0.3, feature_fraction=0.5, learning_rate=0.15, max_depth=5, min_data_in_leaf=5, n_estimators=4000, num_leaves=9, score=0.9602315371356245, total= 8.3min\n",
      "[CV] drop_rate=0.3, feature_fraction=0.5, learning_rate=0.2, max_depth=5, min_data_in_leaf=5, n_estimators=2000, num_leaves=9 \n",
      "[CV]  drop_rate=0.3, feature_fraction=0.5, learning_rate=0.15, max_depth=5, min_data_in_leaf=5, n_estimators=4500, num_leaves=9, score=0.5380044650523784, total= 5.2min\n",
      "[CV] drop_rate=0.3, feature_fraction=0.5, learning_rate=0.2, max_depth=5, min_data_in_leaf=5, n_estimators=2000, num_leaves=9 \n",
      "[CV]  drop_rate=0.3, feature_fraction=0.5, learning_rate=0.15, max_depth=5, min_data_in_leaf=5, n_estimators=4500, num_leaves=9, score=0.5948507196875735, total= 3.9min\n",
      "[CV] drop_rate=0.3, feature_fraction=0.5, learning_rate=0.2, max_depth=5, min_data_in_leaf=5, n_estimators=2000, num_leaves=9 \n",
      "[CV]  drop_rate=0.3, feature_fraction=0.5, learning_rate=0.2, max_depth=5, min_data_in_leaf=5, n_estimators=2000, num_leaves=9, score=0.5401121669497079, total= 1.8min\n",
      "[CV] drop_rate=0.3, feature_fraction=0.5, learning_rate=0.2, max_depth=5, min_data_in_leaf=5, n_estimators=3000, num_leaves=9 \n",
      "[CV]  drop_rate=0.3, feature_fraction=0.5, learning_rate=0.2, max_depth=5, min_data_in_leaf=5, n_estimators=2000, num_leaves=9, score=0.956829955921919, total= 3.1min\n",
      "[CV] drop_rate=0.3, feature_fraction=0.5, learning_rate=0.2, max_depth=5, min_data_in_leaf=5, n_estimators=3000, num_leaves=9 \n",
      "[CV]  drop_rate=0.3, feature_fraction=0.5, learning_rate=0.2, max_depth=5, min_data_in_leaf=5, n_estimators=2000, num_leaves=9, score=0.5679022681448407, total= 1.8min\n",
      "[CV] drop_rate=0.3, feature_fraction=0.5, learning_rate=0.2, max_depth=5, min_data_in_leaf=5, n_estimators=3000, num_leaves=9 \n",
      "[CV]  drop_rate=0.3, feature_fraction=0.5, learning_rate=0.15, max_depth=5, min_data_in_leaf=5, n_estimators=4500, num_leaves=9, score=0.9596371508895123, total= 9.0min\n",
      "[CV] drop_rate=0.3, feature_fraction=0.5, learning_rate=0.2, max_depth=5, min_data_in_leaf=5, n_estimators=4000, num_leaves=9 \n",
      "[CV]  drop_rate=0.3, feature_fraction=0.5, learning_rate=0.2, max_depth=5, min_data_in_leaf=5, n_estimators=3000, num_leaves=9, score=0.6137475273659371, total= 1.3min\n",
      "[CV] drop_rate=0.3, feature_fraction=0.5, learning_rate=0.2, max_depth=5, min_data_in_leaf=5, n_estimators=4000, num_leaves=9 \n",
      "[CV]  drop_rate=0.3, feature_fraction=0.5, learning_rate=0.2, max_depth=5, min_data_in_leaf=5, n_estimators=3000, num_leaves=9, score=0.6232611260582237, total= 1.6min\n",
      "[CV] drop_rate=0.3, feature_fraction=0.5, learning_rate=0.2, max_depth=5, min_data_in_leaf=5, n_estimators=4000, num_leaves=9 \n",
      "[CV]  drop_rate=0.3, feature_fraction=0.5, learning_rate=0.2, max_depth=5, min_data_in_leaf=5, n_estimators=3000, num_leaves=9, score=0.9543011906806342, total= 3.0min\n",
      "[CV] drop_rate=0.3, feature_fraction=0.5, learning_rate=0.2, max_depth=5, min_data_in_leaf=5, n_estimators=4500, num_leaves=9 \n",
      "[CV]  drop_rate=0.3, feature_fraction=0.5, learning_rate=0.2, max_depth=5, min_data_in_leaf=5, n_estimators=4000, num_leaves=9, score=0.5456865654079289, total= 1.7min\n",
      "[CV] drop_rate=0.3, feature_fraction=0.5, learning_rate=0.2, max_depth=5, min_data_in_leaf=5, n_estimators=4500, num_leaves=9 \n",
      "[CV]  drop_rate=0.3, feature_fraction=0.5, learning_rate=0.2, max_depth=5, min_data_in_leaf=5, n_estimators=4000, num_leaves=9, score=0.5839701757398821, total= 2.0min\n",
      "[CV] drop_rate=0.3, feature_fraction=0.5, learning_rate=0.2, max_depth=5, min_data_in_leaf=5, n_estimators=4500, num_leaves=9 \n",
      "[CV]  drop_rate=0.3, feature_fraction=0.5, learning_rate=0.2, max_depth=5, min_data_in_leaf=5, n_estimators=4000, num_leaves=9, score=0.9522284713874102, total= 4.2min\n",
      "[CV]  drop_rate=0.3, feature_fraction=0.5, learning_rate=0.2, max_depth=5, min_data_in_leaf=5, n_estimators=4500, num_leaves=9, score=0.5032486118266644, total= 1.9min\n",
      "[CV]  drop_rate=0.3, feature_fraction=0.5, learning_rate=0.2, max_depth=5, min_data_in_leaf=5, n_estimators=4500, num_leaves=9, score=0.5921969711425319, total= 2.1min\n",
      "[CV]  drop_rate=0.3, feature_fraction=0.5, learning_rate=0.2, max_depth=5, min_data_in_leaf=5, n_estimators=4500, num_leaves=9, score=0.9515062396244777, total= 4.7min\n"
     ]
    },
    {
     "name": "stderr",
     "output_type": "stream",
     "text": [
      "[Parallel(n_jobs=-1)]: Done  48 out of  48 | elapsed: 66.7min finished\n"
     ]
    },
    {
     "name": "stdout",
     "output_type": "stream",
     "text": [
      "CPU times: user 47.5 s, sys: 2.77 s, total: 50.3 s\n",
      "Wall time: 1h 8min 31s\n"
     ]
    }
   ],
   "source": [
    "%%time\n",
    "\n",
    "param_grid = {\n",
    "    'n_estimators': [2000, 3000, 4000, 4500],\n",
    "    'learning_rate': [0.05, 0.1, 0.15, 0.2],\n",
    "    'max_depth': [5],\n",
    "    'min_data_in_leaf' : [5],\n",
    "    'num_leaves': [9],\n",
    "    'feature_fraction': [0.5],\n",
    "    'drop_rate': [0.3]\n",
    "    \n",
    "}\n",
    "lgbm = LGB.LGBMClassifier(objective='binary', nthreads=-1, seed=27, verbosity=2, is_imbalance=True, metric='auc')\n",
    "\n",
    "clf = GridSearchCV(lgbm, param_grid=param_grid, cv=skf, n_jobs=-1, verbose=3, scoring='roc_auc').fit(X, Y)"
   ]
  },
  {
   "cell_type": "code",
   "execution_count": 10,
   "metadata": {},
   "outputs": [
    {
     "data": {
      "text/plain": [
       "0.9998777640674238"
      ]
     },
     "execution_count": 10,
     "metadata": {},
     "output_type": "execute_result"
    }
   ],
   "source": [
    "roc_auc_score( Y.values,clf.predict_proba((X))[:,1])"
   ]
  },
  {
   "cell_type": "code",
   "execution_count": 11,
   "metadata": {},
   "outputs": [
    {
     "data": {
      "text/plain": [
       "11"
      ]
     },
     "execution_count": 11,
     "metadata": {},
     "output_type": "execute_result"
    }
   ],
   "source": [
    "sum(clf.predict(test[features]))"
   ]
  },
  {
   "cell_type": "code",
   "execution_count": 13,
   "metadata": {},
   "outputs": [
    {
     "name": "stdout",
     "output_type": "stream",
     "text": [
      "best parameters: {'drop_rate': 0.3, 'feature_fraction': 0.5, 'learning_rate': 0.05, 'max_depth': 5, 'min_data_in_leaf': 5, 'n_estimators': 2000, 'num_leaves': 9}\n",
      "best score:      0.97129 (+/-0.00009)\n"
     ]
    },
    {
     "data": {
      "text/html": [
       "<div>\n",
       "<style scoped>\n",
       "    .dataframe tbody tr th:only-of-type {\n",
       "        vertical-align: middle;\n",
       "    }\n",
       "\n",
       "    .dataframe tbody tr th {\n",
       "        vertical-align: top;\n",
       "    }\n",
       "\n",
       "    .dataframe thead th {\n",
       "        text-align: right;\n",
       "    }\n",
       "</style>\n",
       "<table border=\"1\" class=\"dataframe\">\n",
       "  <thead>\n",
       "    <tr style=\"text-align: right;\">\n",
       "      <th></th>\n",
       "      <th>mean_fit_time</th>\n",
       "      <th>std_fit_time</th>\n",
       "      <th>mean_score_time</th>\n",
       "      <th>std_score_time</th>\n",
       "      <th>param_drop_rate</th>\n",
       "      <th>param_feature_fraction</th>\n",
       "      <th>param_learning_rate</th>\n",
       "      <th>param_max_depth</th>\n",
       "      <th>param_min_data_in_leaf</th>\n",
       "      <th>param_n_estimators</th>\n",
       "      <th>param_num_leaves</th>\n",
       "      <th>params</th>\n",
       "      <th>split0_test_score</th>\n",
       "      <th>split1_test_score</th>\n",
       "      <th>split2_test_score</th>\n",
       "      <th>mean_test_score</th>\n",
       "      <th>std_test_score</th>\n",
       "      <th>rank_test_score</th>\n",
       "      <th>split0_train_score</th>\n",
       "      <th>split1_train_score</th>\n",
       "      <th>split2_train_score</th>\n",
       "      <th>mean_train_score</th>\n",
       "      <th>std_train_score</th>\n",
       "    </tr>\n",
       "  </thead>\n",
       "  <tbody>\n",
       "    <tr>\n",
       "      <td>0</td>\n",
       "      <td>254.342099</td>\n",
       "      <td>5.626559</td>\n",
       "      <td>12.454894</td>\n",
       "      <td>2.321947</td>\n",
       "      <td>0.3</td>\n",
       "      <td>0.5</td>\n",
       "      <td>0.05</td>\n",
       "      <td>5</td>\n",
       "      <td>5</td>\n",
       "      <td>2000</td>\n",
       "      <td>9</td>\n",
       "      <td>{'drop_rate': 0.3, 'feature_fraction': 0.5, 'l...</td>\n",
       "      <td>0.971311</td>\n",
       "      <td>0.971386</td>\n",
       "      <td>0.971177</td>\n",
       "      <td>0.971291</td>\n",
       "      <td>0.000086</td>\n",
       "      <td>1</td>\n",
       "      <td>0.999996</td>\n",
       "      <td>0.999999</td>\n",
       "      <td>0.999989</td>\n",
       "      <td>0.999995</td>\n",
       "      <td>4.209071e-06</td>\n",
       "    </tr>\n",
       "    <tr>\n",
       "      <td>1</td>\n",
       "      <td>405.510742</td>\n",
       "      <td>14.828496</td>\n",
       "      <td>18.456440</td>\n",
       "      <td>0.929115</td>\n",
       "      <td>0.3</td>\n",
       "      <td>0.5</td>\n",
       "      <td>0.05</td>\n",
       "      <td>5</td>\n",
       "      <td>5</td>\n",
       "      <td>3000</td>\n",
       "      <td>9</td>\n",
       "      <td>{'drop_rate': 0.3, 'feature_fraction': 0.5, 'l...</td>\n",
       "      <td>0.970226</td>\n",
       "      <td>0.969945</td>\n",
       "      <td>0.970773</td>\n",
       "      <td>0.970315</td>\n",
       "      <td>0.000343</td>\n",
       "      <td>2</td>\n",
       "      <td>1.000000</td>\n",
       "      <td>1.000000</td>\n",
       "      <td>0.999999</td>\n",
       "      <td>1.000000</td>\n",
       "      <td>3.335197e-07</td>\n",
       "    </tr>\n",
       "    <tr>\n",
       "      <td>4</td>\n",
       "      <td>169.289162</td>\n",
       "      <td>5.702980</td>\n",
       "      <td>11.360146</td>\n",
       "      <td>2.395803</td>\n",
       "      <td>0.3</td>\n",
       "      <td>0.5</td>\n",
       "      <td>0.1</td>\n",
       "      <td>5</td>\n",
       "      <td>5</td>\n",
       "      <td>2000</td>\n",
       "      <td>9</td>\n",
       "      <td>{'drop_rate': 0.3, 'feature_fraction': 0.5, 'l...</td>\n",
       "      <td>0.969763</td>\n",
       "      <td>0.969755</td>\n",
       "      <td>0.970232</td>\n",
       "      <td>0.969917</td>\n",
       "      <td>0.000223</td>\n",
       "      <td>3</td>\n",
       "      <td>1.000000</td>\n",
       "      <td>1.000000</td>\n",
       "      <td>1.000000</td>\n",
       "      <td>1.000000</td>\n",
       "      <td>1.218082e-07</td>\n",
       "    </tr>\n",
       "    <tr>\n",
       "      <td>2</td>\n",
       "      <td>507.145255</td>\n",
       "      <td>19.532007</td>\n",
       "      <td>21.179213</td>\n",
       "      <td>1.923667</td>\n",
       "      <td>0.3</td>\n",
       "      <td>0.5</td>\n",
       "      <td>0.05</td>\n",
       "      <td>5</td>\n",
       "      <td>5</td>\n",
       "      <td>4000</td>\n",
       "      <td>9</td>\n",
       "      <td>{'drop_rate': 0.3, 'feature_fraction': 0.5, 'l...</td>\n",
       "      <td>0.969516</td>\n",
       "      <td>0.968829</td>\n",
       "      <td>0.970134</td>\n",
       "      <td>0.969493</td>\n",
       "      <td>0.000533</td>\n",
       "      <td>4</td>\n",
       "      <td>1.000000</td>\n",
       "      <td>1.000000</td>\n",
       "      <td>1.000000</td>\n",
       "      <td>1.000000</td>\n",
       "      <td>1.239516e-07</td>\n",
       "    </tr>\n",
       "    <tr>\n",
       "      <td>3</td>\n",
       "      <td>506.177430</td>\n",
       "      <td>44.891471</td>\n",
       "      <td>32.224789</td>\n",
       "      <td>7.947524</td>\n",
       "      <td>0.3</td>\n",
       "      <td>0.5</td>\n",
       "      <td>0.05</td>\n",
       "      <td>5</td>\n",
       "      <td>5</td>\n",
       "      <td>4500</td>\n",
       "      <td>9</td>\n",
       "      <td>{'drop_rate': 0.3, 'feature_fraction': 0.5, 'l...</td>\n",
       "      <td>0.968135</td>\n",
       "      <td>0.968351</td>\n",
       "      <td>0.969758</td>\n",
       "      <td>0.968748</td>\n",
       "      <td>0.000720</td>\n",
       "      <td>5</td>\n",
       "      <td>1.000000</td>\n",
       "      <td>1.000000</td>\n",
       "      <td>1.000000</td>\n",
       "      <td>1.000000</td>\n",
       "      <td>1.218082e-07</td>\n",
       "    </tr>\n",
       "    <tr>\n",
       "      <td>5</td>\n",
       "      <td>264.172724</td>\n",
       "      <td>4.756002</td>\n",
       "      <td>22.299942</td>\n",
       "      <td>4.283611</td>\n",
       "      <td>0.3</td>\n",
       "      <td>0.5</td>\n",
       "      <td>0.1</td>\n",
       "      <td>5</td>\n",
       "      <td>5</td>\n",
       "      <td>3000</td>\n",
       "      <td>9</td>\n",
       "      <td>{'drop_rate': 0.3, 'feature_fraction': 0.5, 'l...</td>\n",
       "      <td>0.968690</td>\n",
       "      <td>0.968439</td>\n",
       "      <td>0.968321</td>\n",
       "      <td>0.968483</td>\n",
       "      <td>0.000154</td>\n",
       "      <td>6</td>\n",
       "      <td>1.000000</td>\n",
       "      <td>1.000000</td>\n",
       "      <td>1.000000</td>\n",
       "      <td>1.000000</td>\n",
       "      <td>1.218082e-07</td>\n",
       "    </tr>\n",
       "    <tr>\n",
       "      <td>6</td>\n",
       "      <td>348.325463</td>\n",
       "      <td>12.118200</td>\n",
       "      <td>26.809844</td>\n",
       "      <td>3.610383</td>\n",
       "      <td>0.3</td>\n",
       "      <td>0.5</td>\n",
       "      <td>0.1</td>\n",
       "      <td>5</td>\n",
       "      <td>5</td>\n",
       "      <td>4000</td>\n",
       "      <td>9</td>\n",
       "      <td>{'drop_rate': 0.3, 'feature_fraction': 0.5, 'l...</td>\n",
       "      <td>0.967174</td>\n",
       "      <td>0.967110</td>\n",
       "      <td>0.968123</td>\n",
       "      <td>0.967469</td>\n",
       "      <td>0.000463</td>\n",
       "      <td>7</td>\n",
       "      <td>1.000000</td>\n",
       "      <td>1.000000</td>\n",
       "      <td>1.000000</td>\n",
       "      <td>1.000000</td>\n",
       "      <td>1.218082e-07</td>\n",
       "    </tr>\n",
       "    <tr>\n",
       "      <td>7</td>\n",
       "      <td>373.142511</td>\n",
       "      <td>7.229404</td>\n",
       "      <td>34.068625</td>\n",
       "      <td>1.929182</td>\n",
       "      <td>0.3</td>\n",
       "      <td>0.5</td>\n",
       "      <td>0.1</td>\n",
       "      <td>5</td>\n",
       "      <td>5</td>\n",
       "      <td>4500</td>\n",
       "      <td>9</td>\n",
       "      <td>{'drop_rate': 0.3, 'feature_fraction': 0.5, 'l...</td>\n",
       "      <td>0.966388</td>\n",
       "      <td>0.966620</td>\n",
       "      <td>0.967096</td>\n",
       "      <td>0.966701</td>\n",
       "      <td>0.000294</td>\n",
       "      <td>8</td>\n",
       "      <td>1.000000</td>\n",
       "      <td>1.000000</td>\n",
       "      <td>1.000000</td>\n",
       "      <td>1.000000</td>\n",
       "      <td>1.218082e-07</td>\n",
       "    </tr>\n",
       "    <tr>\n",
       "      <td>9</td>\n",
       "      <td>226.330256</td>\n",
       "      <td>56.272949</td>\n",
       "      <td>9.668303</td>\n",
       "      <td>5.454810</td>\n",
       "      <td>0.3</td>\n",
       "      <td>0.5</td>\n",
       "      <td>0.15</td>\n",
       "      <td>5</td>\n",
       "      <td>5</td>\n",
       "      <td>3000</td>\n",
       "      <td>9</td>\n",
       "      <td>{'drop_rate': 0.3, 'feature_fraction': 0.5, 'l...</td>\n",
       "      <td>0.963442</td>\n",
       "      <td>0.664238</td>\n",
       "      <td>0.577773</td>\n",
       "      <td>0.735151</td>\n",
       "      <td>0.165241</td>\n",
       "      <td>9</td>\n",
       "      <td>1.000000</td>\n",
       "      <td>0.674141</td>\n",
       "      <td>0.594220</td>\n",
       "      <td>0.756120</td>\n",
       "      <td>1.755082e-01</td>\n",
       "    </tr>\n",
       "    <tr>\n",
       "      <td>13</td>\n",
       "      <td>112.748074</td>\n",
       "      <td>42.249641</td>\n",
       "      <td>5.172790</td>\n",
       "      <td>4.011790</td>\n",
       "      <td>0.3</td>\n",
       "      <td>0.5</td>\n",
       "      <td>0.2</td>\n",
       "      <td>5</td>\n",
       "      <td>5</td>\n",
       "      <td>3000</td>\n",
       "      <td>9</td>\n",
       "      <td>{'drop_rate': 0.3, 'feature_fraction': 0.5, 'l...</td>\n",
       "      <td>0.954301</td>\n",
       "      <td>0.623261</td>\n",
       "      <td>0.613748</td>\n",
       "      <td>0.730437</td>\n",
       "      <td>0.158344</td>\n",
       "      <td>10</td>\n",
       "      <td>1.000000</td>\n",
       "      <td>0.625534</td>\n",
       "      <td>0.647687</td>\n",
       "      <td>0.757740</td>\n",
       "      <td>1.715419e-01</td>\n",
       "    </tr>\n",
       "    <tr>\n",
       "      <td>8</td>\n",
       "      <td>158.514652</td>\n",
       "      <td>17.586834</td>\n",
       "      <td>9.122397</td>\n",
       "      <td>2.190927</td>\n",
       "      <td>0.3</td>\n",
       "      <td>0.5</td>\n",
       "      <td>0.15</td>\n",
       "      <td>5</td>\n",
       "      <td>5</td>\n",
       "      <td>2000</td>\n",
       "      <td>9</td>\n",
       "      <td>{'drop_rate': 0.3, 'feature_fraction': 0.5, 'l...</td>\n",
       "      <td>0.963832</td>\n",
       "      <td>0.561579</td>\n",
       "      <td>0.608202</td>\n",
       "      <td>0.711204</td>\n",
       "      <td>0.179646</td>\n",
       "      <td>11</td>\n",
       "      <td>1.000000</td>\n",
       "      <td>0.584070</td>\n",
       "      <td>0.639467</td>\n",
       "      <td>0.741179</td>\n",
       "      <td>1.844063e-01</td>\n",
       "    </tr>\n",
       "    <tr>\n",
       "      <td>11</td>\n",
       "      <td>352.973507</td>\n",
       "      <td>121.949346</td>\n",
       "      <td>9.511441</td>\n",
       "      <td>8.049815</td>\n",
       "      <td>0.3</td>\n",
       "      <td>0.5</td>\n",
       "      <td>0.15</td>\n",
       "      <td>5</td>\n",
       "      <td>5</td>\n",
       "      <td>4500</td>\n",
       "      <td>9</td>\n",
       "      <td>{'drop_rate': 0.3, 'feature_fraction': 0.5, 'l...</td>\n",
       "      <td>0.959637</td>\n",
       "      <td>0.538004</td>\n",
       "      <td>0.594851</td>\n",
       "      <td>0.697497</td>\n",
       "      <td>0.186808</td>\n",
       "      <td>12</td>\n",
       "      <td>1.000000</td>\n",
       "      <td>0.544021</td>\n",
       "      <td>0.624206</td>\n",
       "      <td>0.722742</td>\n",
       "      <td>1.987648e-01</td>\n",
       "    </tr>\n",
       "    <tr>\n",
       "      <td>14</td>\n",
       "      <td>149.745153</td>\n",
       "      <td>60.497369</td>\n",
       "      <td>7.403498</td>\n",
       "      <td>6.742383</td>\n",
       "      <td>0.3</td>\n",
       "      <td>0.5</td>\n",
       "      <td>0.2</td>\n",
       "      <td>5</td>\n",
       "      <td>5</td>\n",
       "      <td>4000</td>\n",
       "      <td>9</td>\n",
       "      <td>{'drop_rate': 0.3, 'feature_fraction': 0.5, 'l...</td>\n",
       "      <td>0.952228</td>\n",
       "      <td>0.583970</td>\n",
       "      <td>0.545687</td>\n",
       "      <td>0.693962</td>\n",
       "      <td>0.183290</td>\n",
       "      <td>13</td>\n",
       "      <td>1.000000</td>\n",
       "      <td>0.601966</td>\n",
       "      <td>0.554334</td>\n",
       "      <td>0.718767</td>\n",
       "      <td>1.998104e-01</td>\n",
       "    </tr>\n",
       "    <tr>\n",
       "      <td>12</td>\n",
       "      <td>129.528633</td>\n",
       "      <td>35.454270</td>\n",
       "      <td>5.138349</td>\n",
       "      <td>2.914546</td>\n",
       "      <td>0.3</td>\n",
       "      <td>0.5</td>\n",
       "      <td>0.2</td>\n",
       "      <td>5</td>\n",
       "      <td>5</td>\n",
       "      <td>2000</td>\n",
       "      <td>9</td>\n",
       "      <td>{'drop_rate': 0.3, 'feature_fraction': 0.5, 'l...</td>\n",
       "      <td>0.956830</td>\n",
       "      <td>0.540112</td>\n",
       "      <td>0.567902</td>\n",
       "      <td>0.688281</td>\n",
       "      <td>0.190231</td>\n",
       "      <td>14</td>\n",
       "      <td>1.000000</td>\n",
       "      <td>0.531968</td>\n",
       "      <td>0.622061</td>\n",
       "      <td>0.718010</td>\n",
       "      <td>2.027608e-01</td>\n",
       "    </tr>\n",
       "    <tr>\n",
       "      <td>15</td>\n",
       "      <td>167.578910</td>\n",
       "      <td>72.138714</td>\n",
       "      <td>6.363868</td>\n",
       "      <td>5.921167</td>\n",
       "      <td>0.3</td>\n",
       "      <td>0.5</td>\n",
       "      <td>0.2</td>\n",
       "      <td>5</td>\n",
       "      <td>5</td>\n",
       "      <td>4500</td>\n",
       "      <td>9</td>\n",
       "      <td>{'drop_rate': 0.3, 'feature_fraction': 0.5, 'l...</td>\n",
       "      <td>0.951506</td>\n",
       "      <td>0.592197</td>\n",
       "      <td>0.503249</td>\n",
       "      <td>0.682317</td>\n",
       "      <td>0.193778</td>\n",
       "      <td>15</td>\n",
       "      <td>1.000000</td>\n",
       "      <td>0.589253</td>\n",
       "      <td>0.513674</td>\n",
       "      <td>0.700976</td>\n",
       "      <td>2.136814e-01</td>\n",
       "    </tr>\n",
       "  </tbody>\n",
       "</table>\n",
       "</div>"
      ],
      "text/plain": [
       "    mean_fit_time  std_fit_time  mean_score_time  std_score_time  \\\n",
       "0      254.342099      5.626559        12.454894        2.321947   \n",
       "1      405.510742     14.828496        18.456440        0.929115   \n",
       "4      169.289162      5.702980        11.360146        2.395803   \n",
       "2      507.145255     19.532007        21.179213        1.923667   \n",
       "3      506.177430     44.891471        32.224789        7.947524   \n",
       "5      264.172724      4.756002        22.299942        4.283611   \n",
       "6      348.325463     12.118200        26.809844        3.610383   \n",
       "7      373.142511      7.229404        34.068625        1.929182   \n",
       "9      226.330256     56.272949         9.668303        5.454810   \n",
       "13     112.748074     42.249641         5.172790        4.011790   \n",
       "8      158.514652     17.586834         9.122397        2.190927   \n",
       "11     352.973507    121.949346         9.511441        8.049815   \n",
       "14     149.745153     60.497369         7.403498        6.742383   \n",
       "12     129.528633     35.454270         5.138349        2.914546   \n",
       "15     167.578910     72.138714         6.363868        5.921167   \n",
       "\n",
       "   param_drop_rate param_feature_fraction param_learning_rate param_max_depth  \\\n",
       "0              0.3                    0.5                0.05               5   \n",
       "1              0.3                    0.5                0.05               5   \n",
       "4              0.3                    0.5                 0.1               5   \n",
       "2              0.3                    0.5                0.05               5   \n",
       "3              0.3                    0.5                0.05               5   \n",
       "5              0.3                    0.5                 0.1               5   \n",
       "6              0.3                    0.5                 0.1               5   \n",
       "7              0.3                    0.5                 0.1               5   \n",
       "9              0.3                    0.5                0.15               5   \n",
       "13             0.3                    0.5                 0.2               5   \n",
       "8              0.3                    0.5                0.15               5   \n",
       "11             0.3                    0.5                0.15               5   \n",
       "14             0.3                    0.5                 0.2               5   \n",
       "12             0.3                    0.5                 0.2               5   \n",
       "15             0.3                    0.5                 0.2               5   \n",
       "\n",
       "   param_min_data_in_leaf param_n_estimators param_num_leaves  \\\n",
       "0                       5               2000                9   \n",
       "1                       5               3000                9   \n",
       "4                       5               2000                9   \n",
       "2                       5               4000                9   \n",
       "3                       5               4500                9   \n",
       "5                       5               3000                9   \n",
       "6                       5               4000                9   \n",
       "7                       5               4500                9   \n",
       "9                       5               3000                9   \n",
       "13                      5               3000                9   \n",
       "8                       5               2000                9   \n",
       "11                      5               4500                9   \n",
       "14                      5               4000                9   \n",
       "12                      5               2000                9   \n",
       "15                      5               4500                9   \n",
       "\n",
       "                                               params  split0_test_score  \\\n",
       "0   {'drop_rate': 0.3, 'feature_fraction': 0.5, 'l...           0.971311   \n",
       "1   {'drop_rate': 0.3, 'feature_fraction': 0.5, 'l...           0.970226   \n",
       "4   {'drop_rate': 0.3, 'feature_fraction': 0.5, 'l...           0.969763   \n",
       "2   {'drop_rate': 0.3, 'feature_fraction': 0.5, 'l...           0.969516   \n",
       "3   {'drop_rate': 0.3, 'feature_fraction': 0.5, 'l...           0.968135   \n",
       "5   {'drop_rate': 0.3, 'feature_fraction': 0.5, 'l...           0.968690   \n",
       "6   {'drop_rate': 0.3, 'feature_fraction': 0.5, 'l...           0.967174   \n",
       "7   {'drop_rate': 0.3, 'feature_fraction': 0.5, 'l...           0.966388   \n",
       "9   {'drop_rate': 0.3, 'feature_fraction': 0.5, 'l...           0.963442   \n",
       "13  {'drop_rate': 0.3, 'feature_fraction': 0.5, 'l...           0.954301   \n",
       "8   {'drop_rate': 0.3, 'feature_fraction': 0.5, 'l...           0.963832   \n",
       "11  {'drop_rate': 0.3, 'feature_fraction': 0.5, 'l...           0.959637   \n",
       "14  {'drop_rate': 0.3, 'feature_fraction': 0.5, 'l...           0.952228   \n",
       "12  {'drop_rate': 0.3, 'feature_fraction': 0.5, 'l...           0.956830   \n",
       "15  {'drop_rate': 0.3, 'feature_fraction': 0.5, 'l...           0.951506   \n",
       "\n",
       "    split1_test_score  split2_test_score  mean_test_score  std_test_score  \\\n",
       "0            0.971386           0.971177         0.971291        0.000086   \n",
       "1            0.969945           0.970773         0.970315        0.000343   \n",
       "4            0.969755           0.970232         0.969917        0.000223   \n",
       "2            0.968829           0.970134         0.969493        0.000533   \n",
       "3            0.968351           0.969758         0.968748        0.000720   \n",
       "5            0.968439           0.968321         0.968483        0.000154   \n",
       "6            0.967110           0.968123         0.967469        0.000463   \n",
       "7            0.966620           0.967096         0.966701        0.000294   \n",
       "9            0.664238           0.577773         0.735151        0.165241   \n",
       "13           0.623261           0.613748         0.730437        0.158344   \n",
       "8            0.561579           0.608202         0.711204        0.179646   \n",
       "11           0.538004           0.594851         0.697497        0.186808   \n",
       "14           0.583970           0.545687         0.693962        0.183290   \n",
       "12           0.540112           0.567902         0.688281        0.190231   \n",
       "15           0.592197           0.503249         0.682317        0.193778   \n",
       "\n",
       "    rank_test_score  split0_train_score  split1_train_score  \\\n",
       "0                 1            0.999996            0.999999   \n",
       "1                 2            1.000000            1.000000   \n",
       "4                 3            1.000000            1.000000   \n",
       "2                 4            1.000000            1.000000   \n",
       "3                 5            1.000000            1.000000   \n",
       "5                 6            1.000000            1.000000   \n",
       "6                 7            1.000000            1.000000   \n",
       "7                 8            1.000000            1.000000   \n",
       "9                 9            1.000000            0.674141   \n",
       "13               10            1.000000            0.625534   \n",
       "8                11            1.000000            0.584070   \n",
       "11               12            1.000000            0.544021   \n",
       "14               13            1.000000            0.601966   \n",
       "12               14            1.000000            0.531968   \n",
       "15               15            1.000000            0.589253   \n",
       "\n",
       "    split2_train_score  mean_train_score  std_train_score  \n",
       "0             0.999989          0.999995     4.209071e-06  \n",
       "1             0.999999          1.000000     3.335197e-07  \n",
       "4             1.000000          1.000000     1.218082e-07  \n",
       "2             1.000000          1.000000     1.239516e-07  \n",
       "3             1.000000          1.000000     1.218082e-07  \n",
       "5             1.000000          1.000000     1.218082e-07  \n",
       "6             1.000000          1.000000     1.218082e-07  \n",
       "7             1.000000          1.000000     1.218082e-07  \n",
       "9             0.594220          0.756120     1.755082e-01  \n",
       "13            0.647687          0.757740     1.715419e-01  \n",
       "8             0.639467          0.741179     1.844063e-01  \n",
       "11            0.624206          0.722742     1.987648e-01  \n",
       "14            0.554334          0.718767     1.998104e-01  \n",
       "12            0.622061          0.718010     2.027608e-01  \n",
       "15            0.513674          0.700976     2.136814e-01  "
      ]
     },
     "metadata": {},
     "output_type": "display_data"
    },
    {
     "data": {
      "image/png": "[encoded data removed]",
      "text/plain": [
       "<matplotlib.figure.Figure at 0x1a24501828>"
      ]
     },
     "metadata": {},
     "output_type": "display_data"
    }
   ],
   "source": [
    "GridSearch_table_plot(clf, \"n_estimators\", display_all_params=False, negative=False)"
   ]
  },
  {
   "cell_type": "markdown",
   "metadata": {},
   "source": [
    "# Training the final Model"
   ]
  },
  {
   "cell_type": "code",
   "execution_count": 24,
   "metadata": {},
   "outputs": [
    {
     "name": "stdout",
     "output_type": "stream",
     "text": [
      "Fitting 3 folds for each of 1 candidates, totalling 3 fits\n",
      "[CV] drop_rate=0.2, feature_fraction=0.3, learning_rate=0.2, max_depth=5, min_data_in_leaf=5, n_estimators=4000, num_leaves=30 \n",
      "[CV] drop_rate=0.2, feature_fraction=0.3, learning_rate=0.2, max_depth=5, min_data_in_leaf=5, n_estimators=4000, num_leaves=30 \n",
      "[CV] drop_rate=0.2, feature_fraction=0.3, learning_rate=0.2, max_depth=5, min_data_in_leaf=5, n_estimators=4000, num_leaves=30 \n",
      "[CV]  drop_rate=0.2, feature_fraction=0.3, learning_rate=0.2, max_depth=5, min_data_in_leaf=5, n_estimators=4000, num_leaves=30, score=0.957988834188817, total= 3.8min\n",
      "[CV]  drop_rate=0.2, feature_fraction=0.3, learning_rate=0.2, max_depth=5, min_data_in_leaf=5, n_estimators=4000, num_leaves=30, score=0.9657913065048562, total= 3.8min\n",
      "[CV]  drop_rate=0.2, feature_fraction=0.3, learning_rate=0.2, max_depth=5, min_data_in_leaf=5, n_estimators=4000, num_leaves=30, score=0.9650720959668238, total= 3.9min\n"
     ]
    },
    {
     "name": "stderr",
     "output_type": "stream",
     "text": [
      "[Parallel(n_jobs=-1)]: Done   3 out of   3 | elapsed:  5.1min finished\n"
     ]
    },
    {
     "name": "stdout",
     "output_type": "stream",
     "text": [
      "CPU times: user 1min 26s, sys: 5.33 s, total: 1min 32s\n",
      "Wall time: 7min\n"
     ]
    }
   ],
   "source": [
    "%%time\n",
    "\n",
    "\n",
    "param_grid = {\n",
    "    'n_estimators': [4000],\n",
    "    'learning_rate': [0.2],\n",
    "    'max_depth': [5],\n",
    "    'min_data_in_leaf' : [5],\n",
    "    'num_leaves': [30],\n",
    "    'feature_fraction': [0.3],\n",
    "    'drop_rate': [0.2]\n",
    "    \n",
    "}\n",
    "lgbm = LGB.LGBMClassifier(objective='binary', nthreads=-1, seed=27, verbosity=2, is_imbalance=True, metric='auc')\n",
    "\n",
    "clf = GridSearchCV(lgbm, param_grid=param_grid, cv=skf, n_jobs=-1, verbose=3, scoring='roc_auc').fit(X, Y)"
   ]
  },
  {
   "cell_type": "code",
   "execution_count": 25,
   "metadata": {},
   "outputs": [
    {
     "data": {
      "text/plain": [
       "0.9999997791502266"
      ]
     },
     "execution_count": 25,
     "metadata": {},
     "output_type": "execute_result"
    }
   ],
   "source": [
    "roc_auc_score( Y.values,clf.predict_proba((X))[:,1])"
   ]
  },
  {
   "cell_type": "code",
   "execution_count": 26,
   "metadata": {},
   "outputs": [
    {
     "data": {
      "text/plain": [
       "92"
      ]
     },
     "execution_count": 26,
     "metadata": {},
     "output_type": "execute_result"
    }
   ],
   "source": [
    "sum(clf.predict(test[features]))"
   ]
  },
  {
   "cell_type": "code",
   "execution_count": null,
   "metadata": {
    "collapsed": true
   },
   "outputs": [],
   "source": []
  },
  {
   "cell_type": "code",
   "execution_count": null,
   "metadata": {
    "collapsed": true
   },
   "outputs": [],
   "source": []
  },
  {
   "cell_type": "code",
   "execution_count": null,
   "metadata": {
    "collapsed": true
   },
   "outputs": [],
   "source": []
  },
  {
   "cell_type": "code",
   "execution_count": null,
   "metadata": {
    "collapsed": true
   },
   "outputs": [],
   "source": []
  },
  {
   "cell_type": "code",
   "execution_count": null,
   "metadata": {
    "collapsed": true
   },
   "outputs": [],
   "source": []
  },
  {
   "cell_type": "markdown",
   "metadata": {},
   "source": [
    "## Plotting Feature Importances"
   ]
  },
  {
   "cell_type": "code",
   "execution_count": 27,
   "metadata": {},
   "outputs": [
    {
     "data": {
      "image/png": "[encoded data removed]",
      "text/plain": [
       "<matplotlib.figure.Figure at 0x1a24498908>"
      ]
     },
     "metadata": {},
     "output_type": "display_data"
    },
    {
     "name": "stdout",
     "output_type": "stream",
     "text": [
      "Top 20 features in descending order of importance\n"
     ]
    },
    {
     "data": {
      "text/html": [
       "<div>\n",
       "<style scoped>\n",
       "    .dataframe tbody tr th:only-of-type {\n",
       "        vertical-align: middle;\n",
       "    }\n",
       "\n",
       "    .dataframe tbody tr th {\n",
       "        vertical-align: top;\n",
       "    }\n",
       "\n",
       "    .dataframe thead th {\n",
       "        text-align: right;\n",
       "    }\n",
       "</style>\n",
       "<table border=\"1\" class=\"dataframe\">\n",
       "  <thead>\n",
       "    <tr style=\"text-align: right;\">\n",
       "      <th></th>\n",
       "      <th>importance</th>\n",
       "    </tr>\n",
       "    <tr>\n",
       "      <th>feature</th>\n",
       "      <th></th>\n",
       "    </tr>\n",
       "  </thead>\n",
       "  <tbody>\n",
       "    <tr>\n",
       "      <td>no_of_items_coupon_is_available_for</td>\n",
       "      <td>5502</td>\n",
       "    </tr>\n",
       "    <tr>\n",
       "      <td>total_spends_of_customer</td>\n",
       "      <td>4837</td>\n",
       "    </tr>\n",
       "    <tr>\n",
       "      <td>no_of_times_customer_bought_category1</td>\n",
       "      <td>4381</td>\n",
       "    </tr>\n",
       "    <tr>\n",
       "      <td>total_coupon_discount_claimed_by_customer</td>\n",
       "      <td>4208</td>\n",
       "    </tr>\n",
       "    <tr>\n",
       "      <td>average_transaction_amount_for_customer_per_item_of_category1</td>\n",
       "      <td>4143</td>\n",
       "    </tr>\n",
       "    <tr>\n",
       "      <td>no_of_times_customer_bought_brand1</td>\n",
       "      <td>3914</td>\n",
       "    </tr>\n",
       "    <tr>\n",
       "      <td>no_of_times_customer_bought_category1_in_discount</td>\n",
       "      <td>3750</td>\n",
       "    </tr>\n",
       "    <tr>\n",
       "      <td>mean_discount_on_brand1</td>\n",
       "      <td>3344</td>\n",
       "    </tr>\n",
       "    <tr>\n",
       "      <td>no_of_times_customer_bought_brand1_in_discount</td>\n",
       "      <td>3311</td>\n",
       "    </tr>\n",
       "    <tr>\n",
       "      <td>popularity_of_brand1</td>\n",
       "      <td>3120</td>\n",
       "    </tr>\n",
       "    <tr>\n",
       "      <td>average_selling_price_per_unit_of_category1_brand1_combination</td>\n",
       "      <td>2628</td>\n",
       "    </tr>\n",
       "    <tr>\n",
       "      <td>coupon_available_on_brand_1</td>\n",
       "      <td>2552</td>\n",
       "    </tr>\n",
       "    <tr>\n",
       "      <td>campaign_id</td>\n",
       "      <td>2296</td>\n",
       "    </tr>\n",
       "    <tr>\n",
       "      <td>campaign_duration_in_days</td>\n",
       "      <td>2009</td>\n",
       "    </tr>\n",
       "    <tr>\n",
       "      <td>customer_income_bracket</td>\n",
       "      <td>1956</td>\n",
       "    </tr>\n",
       "    <tr>\n",
       "      <td>customer_age_range</td>\n",
       "      <td>1646</td>\n",
       "    </tr>\n",
       "    <tr>\n",
       "      <td>customer_family_size</td>\n",
       "      <td>1025</td>\n",
       "    </tr>\n",
       "    <tr>\n",
       "      <td>average_transaction_amount_for_customer_per_item_of_category2</td>\n",
       "      <td>931</td>\n",
       "    </tr>\n",
       "    <tr>\n",
       "      <td>no_of_times_customer_bought_brand2</td>\n",
       "      <td>841</td>\n",
       "    </tr>\n",
       "    <tr>\n",
       "      <td>coupon_available_on_brand_2</td>\n",
       "      <td>824</td>\n",
       "    </tr>\n",
       "  </tbody>\n",
       "</table>\n",
       "</div>"
      ],
      "text/plain": [
       "                                                    importance\n",
       "feature                                                       \n",
       "no_of_items_coupon_is_available_for                       5502\n",
       "total_spends_of_customer                                  4837\n",
       "no_of_times_customer_bought_category1                     4381\n",
       "total_coupon_discount_claimed_by_customer                 4208\n",
       "average_transaction_amount_for_customer_per_ite...        4143\n",
       "no_of_times_customer_bought_brand1                        3914\n",
       "no_of_times_customer_bought_category1_in_discount         3750\n",
       "mean_discount_on_brand1                                   3344\n",
       "no_of_times_customer_bought_brand1_in_discount            3311\n",
       "popularity_of_brand1                                      3120\n",
       "average_selling_price_per_unit_of_category1_bra...        2628\n",
       "coupon_available_on_brand_1                               2552\n",
       "campaign_id                                               2296\n",
       "campaign_duration_in_days                                 2009\n",
       "customer_income_bracket                                   1956\n",
       "customer_age_range                                        1646\n",
       "customer_family_size                                      1025\n",
       "average_transaction_amount_for_customer_per_ite...         931\n",
       "no_of_times_customer_bought_brand2                         841\n",
       "coupon_available_on_brand_2                                824"
      ]
     },
     "metadata": {},
     "output_type": "display_data"
    }
   ],
   "source": [
    "def plot_importance(clf, top_n, title=\"Feature Importances\", figsize=(30,30) ):\n",
    "    feat_imp = pd.DataFrame({'importance':clf.feature_importances_})    \n",
    "    feat_imp['feature'] = train[features].columns\n",
    "    feat_imp.sort_values(by='importance', ascending=False, inplace=True)\n",
    "    feat_imp = feat_imp.iloc[:top_n]\n",
    "\n",
    "    feat_imp.sort_values(by='importance', inplace=True)\n",
    "    feat_imp = feat_imp.set_index('feature', drop=True)\n",
    "    feat_imp.plot.barh(title=title, figsize=figsize)\n",
    "    plt.xlabel('Feature Importance Score')\n",
    "    plt.show()\n",
    "    \n",
    "    print(\"Top {} features in descending order of importance\".format(top_n))\n",
    "    display(feat_imp.sort_values(by='importance', ascending=False))\n",
    "    \n",
    "plot_importance(clf.best_estimator_, 20)"
   ]
  },
  {
   "cell_type": "markdown",
   "metadata": {},
   "source": [
    "## Saving submissions"
   ]
  },
  {
   "cell_type": "code",
   "execution_count": 28,
   "metadata": {},
   "outputs": [
    {
     "name": "stdout",
     "output_type": "stream",
     "text": [
      "File saved!\n"
     ]
    },
    {
     "data": {
      "text/plain": [
       "0        2.599883e-06\n",
       "1        1.382858e-13\n",
       "2        8.187779e-13\n",
       "3        4.457943e-19\n",
       "4        8.839125e-17\n",
       "             ...     \n",
       "50221    5.654780e-13\n",
       "50222    6.369129e-09\n",
       "50223    1.684187e-13\n",
       "50224    2.174521e-09\n",
       "50225    7.299851e-90\n",
       "Name: redemption_status, Length: 50226, dtype: float64"
      ]
     },
     "execution_count": 28,
     "metadata": {},
     "output_type": "execute_result"
    }
   ],
   "source": [
    "c='final'\n",
    "test['redemption_status'] =clf.predict_proba(test[features])[:,1]\n",
    "submission = test.loc[:,['id', 'redemption_status']]\n",
    "name = \"../data/submissions/submission_after_modeling_lgb_\"+str(c)+\".csv\"\n",
    "submission.to_csv( name,index=False)\n",
    "print(\"File saved!\")\n",
    "test['redemption_status']"
   ]
  },
  {
   "cell_type": "code",
   "execution_count": 29,
   "metadata": {},
   "outputs": [
    {
     "data": {
      "text/plain": [
       "array([2.59988274e-06, 1.38285788e-13, 8.18777946e-13, ...,\n",
       "       1.68418728e-13, 2.17452067e-09, 7.29985149e-90])"
      ]
     },
     "execution_count": 29,
     "metadata": {},
     "output_type": "execute_result"
    }
   ],
   "source": [
    "clf.predict_proba(test[features])[:,1]"
   ]
  },
  {
   "cell_type": "code",
   "execution_count": 62,
   "metadata": {},
   "outputs": [
    {
     "data": {
      "text/plain": [
       "array([[9.99999584e-01, 4.15599085e-07],\n",
       "       [1.00000000e+00, 4.10959787e-14],\n",
       "       [1.00000000e+00, 9.71798548e-11],\n",
       "       ...,\n",
       "       [1.00000000e+00, 8.32453308e-11],\n",
       "       [9.99999999e-01, 5.24984757e-10],\n",
       "       [1.00000000e+00, 2.31476635e-18]])"
      ]
     },
     "execution_count": 62,
     "metadata": {},
     "output_type": "execute_result"
    }
   ],
   "source": [
    "clf.predict_proba(test[features])"
   ]
  },
  {
   "cell_type": "code",
   "execution_count": null,
   "metadata": {},
   "outputs": [],
   "source": []
  },
  {
   "cell_type": "code",
   "execution_count": null,
   "metadata": {
    "collapsed": true
   },
   "outputs": [],
   "source": []
  },
  {
   "cell_type": "code",
   "execution_count": null,
   "metadata": {
    "collapsed": true
   },
   "outputs": [],
   "source": []
  }
 ],
 "metadata": {
  "kernelspec": {
   "display_name": "Python 3",
   "language": "python",
   "name": "python3"
  },
  "language_info": {
   "codemirror_mode": {
    "name": "ipython",
    "version": 3
   },
   "file_extension": ".py",
   "mimetype": "text/x-python",
   "name": "python",
   "nbconvert_exporter": "python",
   "pygments_lexer": "ipython3",
   "version": "3.6.3"
  }
 },
 "nbformat": 4,
 "nbformat_minor": 2
}
