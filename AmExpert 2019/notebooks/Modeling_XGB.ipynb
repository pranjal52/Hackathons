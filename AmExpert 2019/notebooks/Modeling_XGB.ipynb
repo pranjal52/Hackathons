{
 "cells": [
  {
   "cell_type": "code",
   "execution_count": 1,
   "metadata": {},
   "outputs": [],
   "source": [
    "%matplotlib inline\n",
    "\n",
    "import os\n",
    "import pandas as pd \n",
    "import numpy as np\n",
    "import seaborn as sns\n",
    "import datetime as dt\n",
    "import matplotlib as mpl\n",
    "from matplotlib import pyplot as plt\n",
    "from xgboost import plot_importance\n",
    "from sklearn.metrics import roc_auc_score\n",
    "from collections import Counter\n",
    "from sklearn.preprocessing import LabelEncoder\n",
    "from sklearn.model_selection import StratifiedKFold\n",
    "from sklearn.model_selection import GridSearchCV\n",
    "from sklearn.model_selection import train_test_split\n",
    "from sklearn.metrics import roc_auc_score\n",
    "from xgboost import XGBClassifier\n",
    "from IPython.display import display\n",
    "import warnings\n",
    "warnings.filterwarnings('ignore')\n",
    "\n",
    "\n",
    "mpl.rc(\"figure\", figsize=(100, 70))\n",
    "mpl.rcParams.update({'font.size':25})\n",
    "\n",
    "pd.set_option('display.max_columns', 500)"
   ]
  },
  {
   "cell_type": "markdown",
   "metadata": {},
   "source": [
    "## Loading data with all features"
   ]
  },
  {
   "cell_type": "code",
   "execution_count": 2,
   "metadata": {
    "collapsed": true
   },
   "outputs": [],
   "source": [
    "merged_data = pd.read_csv(\"../data/train/merged_data_after_feature_engineering.csv\")"
   ]
  },
  {
   "cell_type": "markdown",
   "metadata": {},
   "source": [
    "## Separating the train test features"
   ]
  },
  {
   "cell_type": "code",
   "execution_count": 3,
   "metadata": {},
   "outputs": [
    {
     "data": {
      "text/plain": [
       "(78369, 72)"
      ]
     },
     "execution_count": 3,
     "metadata": {},
     "output_type": "execute_result"
    }
   ],
   "source": [
    "train = merged_data[merged_data.is_test ==0]\n",
    "test = merged_data[merged_data.is_test ==1]\n",
    "\n",
    "train['redemption_status'] =train['redemption_status'].astype('int64')\n",
    "train.shape"
   ]
  },
  {
   "cell_type": "code",
   "execution_count": 4,
   "metadata": {},
   "outputs": [
    {
     "data": {
      "text/plain": [
       "Index(['campaign_id', 'coupon_id', 'customer_id', 'id', 'is_test',\n",
       "       'redemption_status', 'campaign_type', 'customer_age_range',\n",
       "       'customer_marital_status', 'is_customer_rented', 'customer_family_size',\n",
       "       'customer_no_of_children', 'customer_income_bracket',\n",
       "       'is_common_demographic_info_available_for_customer',\n",
       "       'no_of_items_coupon_is_available_for',\n",
       "       'is_coupon_available_for_multiple_item_ids',\n",
       "       'no_of_categories_of_items_available_under_coupon',\n",
       "       'coupon_available_on_category_1', 'coupon_available_on_category_2',\n",
       "       'coupon_available_on_brand_1', 'coupon_available_on_brand_2',\n",
       "       'coupon_more_focussed_on_brand_type', 'popularity_of_category1',\n",
       "       'popularity_of_category2', 'popularity_of_brand1',\n",
       "       'popularity_of_brand2', 'mean_discount_on_category1',\n",
       "       'mean_discount_on_category2', 'mean_discount_on_brand1',\n",
       "       'mean_discount_on_brand2', 'no_of_times_customer_bought_category1',\n",
       "       'no_of_times_customer_bought_category2',\n",
       "       'no_of_times_customer_bought_brand1',\n",
       "       'no_of_times_customer_bought_brand2',\n",
       "       'no_of_times_customer_bought_category1_in_discount',\n",
       "       'no_of_times_customer_bought_category2_in_discount',\n",
       "       'no_of_times_customer_bought_brand1_in_discount',\n",
       "       'no_of_times_customer_bought_brand2_in_discount',\n",
       "       'has_customer_ever_bought_category1',\n",
       "       'has_customer_ever_bought_category2', 'has_customer_ever_bought_brand1',\n",
       "       'has_customer_ever_bought_brand2',\n",
       "       'has_customer_ever_bought_category1_in_discount',\n",
       "       'has_customer_ever_bought_category2_in_discount',\n",
       "       'has_customer_ever_bought_brand1_in_discount',\n",
       "       'has_customer_ever_bought_brand2_in_discount',\n",
       "       'average_selling_price_per_unit_of_category1_brand1_combination',\n",
       "       'average_selling_price_per_unit_of_category2_brand2_combination',\n",
       "       'average_transaction_amount_for_customer_per_item_of_category1',\n",
       "       'average_transaction_amount_for_customer_per_item_of_category2',\n",
       "       'is_customers_spending_habit_on_category1_in_favour_of_category1_brand1_combo',\n",
       "       'is_customers_spending_habit_on_category1_in_favour_of_category2_brand2_combo',\n",
       "       'campaign_duration_in_days', 'was_user_active_during_campaign_period',\n",
       "       'does_user_significantly_prefer_focussed_brand_type',\n",
       "       'does_user_prefer_category1_from_brand1',\n",
       "       'does_user_prefer_category1_from_brand2',\n",
       "       'does_user_prefer_any_of_brand1_brand2_for_category1',\n",
       "       'total_spends_of_customer', 'total_spends_category_of_customer',\n",
       "       'total_coupon_discount_claimed_by_customer',\n",
       "       'coupon_claiming_category_of_customer', 'most_bought_category_of_user',\n",
       "       'is_coupon_category1_same_as_customer_most_bought_category',\n",
       "       'is_brand1_same_as_most_favourite_brand_of_user_in_category1',\n",
       "       'is_brand2_same_as_second_most_favourite_brand_of_user_in_category1',\n",
       "       'is_brand2_same_as_most_favourite_brand_of_user_in_category1',\n",
       "       'is_brand1_same_as_second_most_favourite_brand_of_user_in_category1',\n",
       "       'are_the_brands_customers_favourite_brands_for_category1'],\n",
       "      dtype='object')"
      ]
     },
     "execution_count": 4,
     "metadata": {},
     "output_type": "execute_result"
    }
   ],
   "source": [
    "columns_with_other_dtype = merged_data.select_dtypes(include=['object', 'datetime64[ns]']).columns\n",
    "columns_with_numeric_dtype = merged_data.select_dtypes(exclude='object').columns\n",
    "columns_with_numeric_dtype\n"
   ]
  },
  {
   "cell_type": "code",
   "execution_count": 5,
   "metadata": {},
   "outputs": [
    {
     "data": {
      "text/plain": [
       "Index(['campaign_id', 'is_test', 'redemption_status', 'campaign_type',\n",
       "       'customer_age_range', 'customer_marital_status', 'is_customer_rented',\n",
       "       'customer_family_size', 'customer_no_of_children',\n",
       "       'customer_income_bracket',\n",
       "       'is_common_demographic_info_available_for_customer',\n",
       "       'no_of_items_coupon_is_available_for',\n",
       "       'is_coupon_available_for_multiple_item_ids',\n",
       "       'no_of_categories_of_items_available_under_coupon',\n",
       "       'coupon_available_on_category_1', 'coupon_available_on_category_2',\n",
       "       'coupon_available_on_brand_1', 'coupon_available_on_brand_2',\n",
       "       'coupon_more_focussed_on_brand_type', 'popularity_of_category1',\n",
       "       'popularity_of_category2', 'popularity_of_brand1',\n",
       "       'popularity_of_brand2', 'mean_discount_on_category1',\n",
       "       'mean_discount_on_category2', 'mean_discount_on_brand1',\n",
       "       'mean_discount_on_brand2', 'no_of_times_customer_bought_category1',\n",
       "       'no_of_times_customer_bought_category2',\n",
       "       'no_of_times_customer_bought_brand1',\n",
       "       'no_of_times_customer_bought_brand2',\n",
       "       'no_of_times_customer_bought_category1_in_discount',\n",
       "       'no_of_times_customer_bought_category2_in_discount',\n",
       "       'no_of_times_customer_bought_brand1_in_discount',\n",
       "       'no_of_times_customer_bought_brand2_in_discount',\n",
       "       'has_customer_ever_bought_category1',\n",
       "       'has_customer_ever_bought_category2', 'has_customer_ever_bought_brand1',\n",
       "       'has_customer_ever_bought_brand2',\n",
       "       'has_customer_ever_bought_category1_in_discount',\n",
       "       'has_customer_ever_bought_category2_in_discount',\n",
       "       'has_customer_ever_bought_brand1_in_discount',\n",
       "       'has_customer_ever_bought_brand2_in_discount',\n",
       "       'average_selling_price_per_unit_of_category1_brand1_combination',\n",
       "       'average_selling_price_per_unit_of_category2_brand2_combination',\n",
       "       'average_transaction_amount_for_customer_per_item_of_category1',\n",
       "       'average_transaction_amount_for_customer_per_item_of_category2',\n",
       "       'is_customers_spending_habit_on_category1_in_favour_of_category1_brand1_combo',\n",
       "       'is_customers_spending_habit_on_category1_in_favour_of_category2_brand2_combo',\n",
       "       'campaign_duration_in_days', 'was_user_active_during_campaign_period',\n",
       "       'does_user_significantly_prefer_focussed_brand_type',\n",
       "       'does_user_prefer_category1_from_brand1',\n",
       "       'does_user_prefer_category1_from_brand2',\n",
       "       'does_user_prefer_any_of_brand1_brand2_for_category1',\n",
       "       'total_spends_of_customer', 'total_spends_category_of_customer',\n",
       "       'total_coupon_discount_claimed_by_customer',\n",
       "       'coupon_claiming_category_of_customer', 'most_bought_category_of_user',\n",
       "       'is_coupon_category1_same_as_customer_most_bought_category',\n",
       "       'is_brand1_same_as_most_favourite_brand_of_user_in_category1',\n",
       "       'is_brand2_same_as_second_most_favourite_brand_of_user_in_category1',\n",
       "       'is_brand2_same_as_most_favourite_brand_of_user_in_category1',\n",
       "       'is_brand1_same_as_second_most_favourite_brand_of_user_in_category1',\n",
       "       'are_the_brands_customers_favourite_brands_for_category1'],\n",
       "      dtype='object')"
      ]
     },
     "execution_count": 5,
     "metadata": {},
     "output_type": "execute_result"
    }
   ],
   "source": [
    "categorical_columns = columns_with_other_dtype.drop(labels=['campaign_start_date', 'campaign_end_date', 'coupon_available_on_item_ids'])\n",
    "numerical_columns = columns_with_numeric_dtype.drop(labels=['coupon_id', 'customer_id', 'id'])\n",
    "features = numerical_columns.append(categorical_columns)\n",
    "features"
   ]
  },
  {
   "cell_type": "code",
   "execution_count": 6,
   "metadata": {},
   "outputs": [],
   "source": [
    "features = features.drop(labels=['is_test', 'redemption_status'])"
   ]
  },
  {
   "cell_type": "markdown",
   "metadata": {},
   "source": [
    "## Generating a baseline model"
   ]
  },
  {
   "cell_type": "code",
   "execution_count": 10,
   "metadata": {},
   "outputs": [
    {
     "name": "stdout",
     "output_type": "stream",
     "text": [
      "XGBClassifier(base_score=0.5, booster='gbtree', colsample_bylevel=1,\n",
      "       colsample_bytree=1, gamma=0, learning_rate=0.5, max_delta_step=0,\n",
      "       max_depth=5, min_child_weight=1, missing=None, n_estimators=1500,\n",
      "       n_jobs=1, nthread=None, objective='binary:logistic', random_state=7,\n",
      "       reg_alpha=0, reg_lambda=1, scale_pos_weight=1, seed=None,\n",
      "       silent=True, subsample=1)\n"
     ]
    }
   ],
   "source": [
    "seed = 7\n",
    "test_size = 0.33\n",
    "\n",
    "# Create XGB Classifier object\n",
    "model = XGBClassifier(objective = \"binary:logistic\", n_estimators=1500, learning_rate=0.5,\n",
    "                      max_depth=5, random_state=seed)\n",
    "\n",
    "X = train[features].values\n",
    "Y = train['redemption_status'].values\n",
    "\n",
    "\n",
    "X_train, X_valid, Y_train, Y_valid = train_test_split(X, Y, test_size=test_size, random_state=seed)\n",
    "\n",
    "\n",
    "# Fit model\n",
    "model.fit(X_train, Y_train)\n",
    "\n",
    "print(model)\n",
    "\n"
   ]
  },
  {
   "cell_type": "code",
   "execution_count": 11,
   "metadata": {},
   "outputs": [
    {
     "name": "stderr",
     "output_type": "stream",
     "text": [
      "/anaconda3/lib/python3.6/site-packages/sklearn/preprocessing/label.py:151: DeprecationWarning: The truth value of an empty array is ambiguous. Returning False, but in future this will result in an error. Use `array.size > 0` to check that an array is not empty.\n",
      "  if diff:\n"
     ]
    },
    {
     "data": {
      "text/plain": [
       "0.6008306824310706"
      ]
     },
     "execution_count": 11,
     "metadata": {},
     "output_type": "execute_result"
    }
   ],
   "source": [
    "roc_auc_score( Y_valid, model.predict(X_valid))"
   ]
  },
  {
   "cell_type": "markdown",
   "metadata": {},
   "source": [
    "## Defining a method for parameter comparision"
   ]
  },
  {
   "cell_type": "code",
   "execution_count": 7,
   "metadata": {
    "collapsed": true
   },
   "outputs": [],
   "source": [
    "def GridSearch_table_plot(grid_clf, param_name,\n",
    "                          num_results=15,\n",
    "                          negative=True,\n",
    "                          graph=True,\n",
    "                          display_all_params=True):\n",
    "\n",
    "    '''Display grid search results\n",
    "\n",
    "    Arguments\n",
    "    ---------\n",
    "\n",
    "    grid_clf           the estimator resulting from a grid search\n",
    "                       for example: grid_clf = GridSearchCV( ...\n",
    "\n",
    "    param_name         a string with the name of the parameter being tested\n",
    "\n",
    "    num_results        an integer indicating the number of results to display\n",
    "                       Default: 15\n",
    "\n",
    "    negative           boolean: should the sign of the score be reversed?\n",
    "                       scoring = 'neg_log_loss', for instance\n",
    "                       Default: True\n",
    "\n",
    "    graph              boolean: should a graph be produced?\n",
    "                       non-numeric parameters (True/False, None) don't graph well\n",
    "                       Default: True\n",
    "\n",
    "    display_all_params boolean: should we print out all of the parameters, not just the ones searched for?\n",
    "                       Default: True\n",
    "\n",
    "    Usage\n",
    "    -----\n",
    "\n",
    "    GridSearch_table_plot(grid_clf, \"min_samples_leaf\")\n",
    "\n",
    "                          '''\n",
    "\n",
    "    clf = grid_clf.best_estimator_\n",
    "    clf_params = grid_clf.best_params_\n",
    "    if negative:\n",
    "        clf_score = -grid_clf.best_score_\n",
    "    else:\n",
    "        clf_score = grid_clf.best_score_\n",
    "    clf_stdev = grid_clf.cv_results_['std_test_score'][grid_clf.best_index_]\n",
    "    cv_results = grid_clf.cv_results_\n",
    "\n",
    "    print(\"best parameters: {}\".format(clf_params))\n",
    "    print(\"best score:      {:0.5f} (+/-{:0.5f})\".format(clf_score, clf_stdev))\n",
    "    if display_all_params:\n",
    "        import pprint\n",
    "        pprint.pprint(clf.get_params())\n",
    "\n",
    "    # pick out the best results\n",
    "    # =========================\n",
    "    scores_df = pd.DataFrame(cv_results).sort_values(by='rank_test_score')\n",
    "\n",
    "    best_row = scores_df.iloc[0, :]\n",
    "    if negative:\n",
    "        best_mean = -best_row['mean_test_score']\n",
    "    else:\n",
    "        best_mean = best_row['mean_test_score']\n",
    "    best_stdev = best_row['std_test_score']\n",
    "    best_param = best_row['param_' + param_name]\n",
    "\n",
    "    # display the top 'num_results' results\n",
    "    # =====================================\n",
    "    display(pd.DataFrame(cv_results) \\\n",
    "            .sort_values(by='rank_test_score').head(num_results))\n",
    "\n",
    "    # plot the results\n",
    "    # ================\n",
    "    scores_df = scores_df.sort_values(by='param_' + param_name)\n",
    "\n",
    "    if negative:\n",
    "        means = -scores_df['mean_test_score']\n",
    "    else:\n",
    "        means = scores_df['mean_test_score']\n",
    "    stds = scores_df['std_test_score']\n",
    "    params = scores_df['param_' + param_name]\n",
    "\n",
    "    # plot\n",
    "    if graph:\n",
    "        plt.figure(figsize=(8, 8))\n",
    "        plt.errorbar(params, means, yerr=stds)\n",
    "\n",
    "        plt.axhline(y=best_mean + best_stdev, color='red')\n",
    "        plt.axhline(y=best_mean - best_stdev, color='red')\n",
    "        plt.plot(best_param, best_mean, 'or')\n",
    "\n",
    "        plt.title(param_name + \" vs Score\\nBest Score {:0.5f}\".format(clf_score))\n",
    "        plt.xlabel(param_name)\n",
    "        plt.ylabel('Score')\n",
    "        plt.show()"
   ]
  },
  {
   "cell_type": "markdown",
   "metadata": {},
   "source": [
    "## Creating a Stratified k-fold split"
   ]
  },
  {
   "cell_type": "code",
   "execution_count": 8,
   "metadata": {
    "collapsed": true
   },
   "outputs": [],
   "source": [
    "X = train[features]\n",
    "Y = train['redemption_status']\n",
    "\n",
    "skf = StratifiedKFold(n_splits=3)"
   ]
  },
  {
   "cell_type": "code",
   "execution_count": null,
   "metadata": {
    "collapsed": true
   },
   "outputs": [],
   "source": []
  },
  {
   "cell_type": "code",
   "execution_count": 70,
   "metadata": {},
   "outputs": [],
   "source": [
    "from sklearn.metrics import make_scorer\n",
    "from sklearn.metrics import roc_curve, auc\n",
    "\n",
    "# define scoring function \n",
    "def custom_auc(ground_truth, predictions):\n",
    "     # I need only one column of predictions[\"0\" and \"1\"]. You can get an error here\n",
    "     # while trying to return both columns at once\n",
    "     fpr, tpr, _ = roc_curve(ground_truth, predictions[:, 1], pos_label=1)    \n",
    "     return auc(fpr, tpr)\n",
    "    \n",
    "# to be standart sklearn's scorer        \n",
    "my_auc = make_scorer(custom_auc, greater_is_better=True, needs_proba=True)"
   ]
  },
  {
   "cell_type": "markdown",
   "metadata": {},
   "source": [
    "## Tuning an intuition based model"
   ]
  },
  {
   "cell_type": "code",
   "execution_count": 72,
   "metadata": {},
   "outputs": [
    {
     "name": "stdout",
     "output_type": "stream",
     "text": [
      "Fitting 5 folds for each of 1 candidates, totalling 5 fits\n",
      "[CV] colsample_bytree=0.8, learning_rate=0.2, max_depth=8, n_estimators=1500, subsample=0.8 \n",
      "[CV] colsample_bytree=0.8, learning_rate=0.2, max_depth=8, n_estimators=1500, subsample=0.8 \n",
      "[CV] colsample_bytree=0.8, learning_rate=0.2, max_depth=8, n_estimators=1500, subsample=0.8 \n",
      "[CV] colsample_bytree=0.8, learning_rate=0.2, max_depth=8, n_estimators=1500, subsample=0.8 \n",
      "[CV]  colsample_bytree=0.8, learning_rate=0.2, max_depth=8, n_estimators=1500, subsample=0.8, score=0.9442963837310242, total=10.1min\n",
      "[CV] colsample_bytree=0.8, learning_rate=0.2, max_depth=8, n_estimators=1500, subsample=0.8 \n",
      "[CV]  colsample_bytree=0.8, learning_rate=0.2, max_depth=8, n_estimators=1500, subsample=0.8, score=0.9547234161179452, total=10.5min\n"
     ]
    },
    {
     "name": "stderr",
     "output_type": "stream",
     "text": [
      "[Parallel(n_jobs=-1)]: Done   2 out of   5 | elapsed: 10.9min remaining: 16.3min\n"
     ]
    },
    {
     "name": "stdout",
     "output_type": "stream",
     "text": [
      "[CV]  colsample_bytree=0.8, learning_rate=0.2, max_depth=8, n_estimators=1500, subsample=0.8, score=0.956143299245552, total=10.5min\n",
      "[CV]  colsample_bytree=0.8, learning_rate=0.2, max_depth=8, n_estimators=1500, subsample=0.8, score=0.9527671621039855, total=10.5min\n",
      "[CV]  colsample_bytree=0.8, learning_rate=0.2, max_depth=8, n_estimators=1500, subsample=0.8, score=0.9518578230204835, total= 6.0min\n"
     ]
    },
    {
     "name": "stderr",
     "output_type": "stream",
     "text": [
      "[Parallel(n_jobs=-1)]: Done   5 out of   5 | elapsed: 16.6min finished\n"
     ]
    },
    {
     "name": "stdout",
     "output_type": "stream",
     "text": [
      "CPU times: user 7min 33s, sys: 3.95 s, total: 7min 37s\n",
      "Wall time: 24min 21s\n"
     ]
    }
   ],
   "source": [
    "%%time\n",
    "\n",
    "param_grid = {\n",
    "    'n_estimators': [1500],\n",
    "    'learning_rate': [0.2],\n",
    "    'max_depth' : [8],\n",
    "    'subsample': [0.8],\n",
    "    'colsample_bytree': [0.8]\n",
    "    \n",
    "}\n",
    "xgb = XGBClassifier(objective='binary:logistic', nthreads= -1, seed=27, verbosity=2)\n",
    "\n",
    "clf = GridSearchCV(xgb, param_grid=param_grid, cv=skf, n_jobs=-1, verbose=3, scoring=my_auc).fit(X, Y)"
   ]
  },
  {
   "cell_type": "code",
   "execution_count": 75,
   "metadata": {},
   "outputs": [
    {
     "data": {
      "text/plain": [
       "0.9965940054495912"
      ]
     },
     "execution_count": 75,
     "metadata": {},
     "output_type": "execute_result"
    }
   ],
   "source": [
    "roc_auc_score(clf.predict(X), Y).ipynb_checkpoints/"
   ]
  },
  {
   "cell_type": "code",
   "execution_count": 76,
   "metadata": {},
   "outputs": [
    {
     "data": {
      "text/plain": [
       "95"
      ]
     },
     "execution_count": 76,
     "metadata": {},
     "output_type": "execute_result"
    }
   ],
   "source": [
    "sum(clf.predict(test[features]))"
   ]
  },
  {
   "cell_type": "code",
   "execution_count": 36,
   "metadata": {},
   "outputs": [
    {
     "name": "stdout",
     "output_type": "stream",
     "text": [
      "best parameters: {'colsample_bytree': 0.8, 'learning_rate': 0.2, 'max_depth': 8, 'n_estimators': 1500, 'subsample': 0.8}\n",
      "best score:      0.95196 (+/-0.00411)\n"
     ]
    },
    {
     "data": {
      "text/html": [
       "<div>\n",
       "<style scoped>\n",
       "    .dataframe tbody tr th:only-of-type {\n",
       "        vertical-align: middle;\n",
       "    }\n",
       "\n",
       "    .dataframe tbody tr th {\n",
       "        vertical-align: top;\n",
       "    }\n",
       "\n",
       "    .dataframe thead th {\n",
       "        text-align: right;\n",
       "    }\n",
       "</style>\n",
       "<table border=\"1\" class=\"dataframe\">\n",
       "  <thead>\n",
       "    <tr style=\"text-align: right;\">\n",
       "      <th></th>\n",
       "      <th>mean_fit_time</th>\n",
       "      <th>std_fit_time</th>\n",
       "      <th>mean_score_time</th>\n",
       "      <th>std_score_time</th>\n",
       "      <th>param_colsample_bytree</th>\n",
       "      <th>param_learning_rate</th>\n",
       "      <th>param_max_depth</th>\n",
       "      <th>param_n_estimators</th>\n",
       "      <th>param_subsample</th>\n",
       "      <th>params</th>\n",
       "      <th>split0_test_score</th>\n",
       "      <th>split1_test_score</th>\n",
       "      <th>split2_test_score</th>\n",
       "      <th>split3_test_score</th>\n",
       "      <th>split4_test_score</th>\n",
       "      <th>mean_test_score</th>\n",
       "      <th>std_test_score</th>\n",
       "      <th>rank_test_score</th>\n",
       "      <th>split0_train_score</th>\n",
       "      <th>split1_train_score</th>\n",
       "      <th>split2_train_score</th>\n",
       "      <th>split3_train_score</th>\n",
       "      <th>split4_train_score</th>\n",
       "      <th>mean_train_score</th>\n",
       "      <th>std_train_score</th>\n",
       "    </tr>\n",
       "  </thead>\n",
       "  <tbody>\n",
       "    <tr>\n",
       "      <td>0</td>\n",
       "      <td>521.973318</td>\n",
       "      <td>87.251714</td>\n",
       "      <td>4.909776</td>\n",
       "      <td>1.50241</td>\n",
       "      <td>0.8</td>\n",
       "      <td>0.2</td>\n",
       "      <td>8</td>\n",
       "      <td>1500</td>\n",
       "      <td>0.8</td>\n",
       "      <td>{'colsample_bytree': 0.8, 'learning_rate': 0.2...</td>\n",
       "      <td>0.952767</td>\n",
       "      <td>0.954723</td>\n",
       "      <td>0.944296</td>\n",
       "      <td>0.956143</td>\n",
       "      <td>0.951858</td>\n",
       "      <td>0.951958</td>\n",
       "      <td>0.004112</td>\n",
       "      <td>1</td>\n",
       "      <td>1.0</td>\n",
       "      <td>1.0</td>\n",
       "      <td>1.0</td>\n",
       "      <td>1.0</td>\n",
       "      <td>1.0</td>\n",
       "      <td>1.0</td>\n",
       "      <td>9.219355e-08</td>\n",
       "    </tr>\n",
       "  </tbody>\n",
       "</table>\n",
       "</div>"
      ],
      "text/plain": [
       "   mean_fit_time  std_fit_time  mean_score_time  std_score_time  \\\n",
       "0     521.973318     87.251714         4.909776         1.50241   \n",
       "\n",
       "  param_colsample_bytree param_learning_rate param_max_depth  \\\n",
       "0                    0.8                 0.2               8   \n",
       "\n",
       "  param_n_estimators param_subsample  \\\n",
       "0               1500             0.8   \n",
       "\n",
       "                                              params  split0_test_score  \\\n",
       "0  {'colsample_bytree': 0.8, 'learning_rate': 0.2...           0.952767   \n",
       "\n",
       "   split1_test_score  split2_test_score  split3_test_score  split4_test_score  \\\n",
       "0           0.954723           0.944296           0.956143           0.951858   \n",
       "\n",
       "   mean_test_score  std_test_score  rank_test_score  split0_train_score  \\\n",
       "0         0.951958        0.004112                1                 1.0   \n",
       "\n",
       "   split1_train_score  split2_train_score  split3_train_score  \\\n",
       "0                 1.0                 1.0                 1.0   \n",
       "\n",
       "   split4_train_score  mean_train_score  std_train_score  \n",
       "0                 1.0               1.0     9.219355e-08  "
      ]
     },
     "metadata": {},
     "output_type": "display_data"
    },
    {
     "data": {
      "image/png": "[encoded data removed]",
      "text/plain": [
       "<matplotlib.figure.Figure at 0x1a193176d8>"
      ]
     },
     "metadata": {},
     "output_type": "display_data"
    }
   ],
   "source": [
    "GridSearch_table_plot(clf, \"learning_rate\", display_all_params=False, negative=False)"
   ]
  },
  {
   "cell_type": "markdown",
   "metadata": {},
   "source": [
    "## Tuning n_estimators and learning_rate"
   ]
  },
  {
   "cell_type": "code",
   "execution_count": 62,
   "metadata": {},
   "outputs": [
    {
     "name": "stdout",
     "output_type": "stream",
     "text": [
      "Fitting 5 folds for each of 5 candidates, totalling 25 fits\n",
      "[CV] colsample_bytree=0.8, learning_rate=0.2, max_depth=8, n_estimators=1500, subsample=0.8 \n",
      "[CV] colsample_bytree=0.8, learning_rate=0.2, max_depth=8, n_estimators=1500, subsample=0.8 \n",
      "[CV] colsample_bytree=0.8, learning_rate=0.2, max_depth=8, n_estimators=1500, subsample=0.8 \n",
      "[CV] colsample_bytree=0.8, learning_rate=0.2, max_depth=8, n_estimators=1500, subsample=0.8 \n",
      "[CV]  colsample_bytree=0.8, learning_rate=0.2, max_depth=8, n_estimators=1500, subsample=0.8, score=0.9442963837310242, total=10.3min\n",
      "[CV] colsample_bytree=0.8, learning_rate=0.2, max_depth=8, n_estimators=1500, subsample=0.8 \n",
      "[CV]  colsample_bytree=0.8, learning_rate=0.2, max_depth=8, n_estimators=1500, subsample=0.8, score=0.9547234161179452, total=10.6min\n",
      "[CV] colsample_bytree=0.8, learning_rate=0.2, max_depth=8, n_estimators=2000, subsample=0.8 \n",
      "[CV]  colsample_bytree=0.8, learning_rate=0.2, max_depth=8, n_estimators=1500, subsample=0.8, score=0.956143299245552, total=10.6min\n",
      "[CV] colsample_bytree=0.8, learning_rate=0.2, max_depth=8, n_estimators=2000, subsample=0.8 \n",
      "[CV]  colsample_bytree=0.8, learning_rate=0.2, max_depth=8, n_estimators=1500, subsample=0.8, score=0.9527671621039855, total=10.7min\n",
      "[CV] colsample_bytree=0.8, learning_rate=0.2, max_depth=8, n_estimators=2000, subsample=0.8 \n",
      "[CV]  colsample_bytree=0.8, learning_rate=0.2, max_depth=8, n_estimators=1500, subsample=0.8, score=0.9518578230204835, total=10.3min\n",
      "[CV] colsample_bytree=0.8, learning_rate=0.2, max_depth=8, n_estimators=2000, subsample=0.8 \n",
      "[CV]  colsample_bytree=0.8, learning_rate=0.2, max_depth=8, n_estimators=2000, subsample=0.8, score=0.9423388064336277, total=12.3min\n",
      "[CV] colsample_bytree=0.8, learning_rate=0.2, max_depth=8, n_estimators=2000, subsample=0.8 \n",
      "[CV]  colsample_bytree=0.8, learning_rate=0.2, max_depth=8, n_estimators=2000, subsample=0.8, score=0.954192779459818, total=12.7min\n",
      "[CV] colsample_bytree=0.8, learning_rate=0.2, max_depth=8, n_estimators=2500, subsample=0.8 \n",
      "[CV]  colsample_bytree=0.8, learning_rate=0.2, max_depth=8, n_estimators=2000, subsample=0.8, score=0.9516948614257585, total=12.9min\n",
      "[CV] colsample_bytree=0.8, learning_rate=0.2, max_depth=8, n_estimators=2500, subsample=0.8 \n",
      "[CV]  colsample_bytree=0.8, learning_rate=0.2, max_depth=8, n_estimators=2000, subsample=0.8, score=0.9560541981608125, total=11.7min\n",
      "[CV] colsample_bytree=0.8, learning_rate=0.2, max_depth=8, n_estimators=2500, subsample=0.8 \n",
      "[CV]  colsample_bytree=0.8, learning_rate=0.2, max_depth=8, n_estimators=2000, subsample=0.8, score=0.9499435946632555, total=11.9min\n",
      "[CV] colsample_bytree=0.8, learning_rate=0.2, max_depth=8, n_estimators=2500, subsample=0.8 \n",
      "[CV]  colsample_bytree=0.8, learning_rate=0.2, max_depth=8, n_estimators=2500, subsample=0.8, score=0.9502017566146528, total=14.6min\n",
      "[CV] colsample_bytree=0.8, learning_rate=0.2, max_depth=8, n_estimators=2500, subsample=0.8 \n",
      "[CV]  colsample_bytree=0.8, learning_rate=0.2, max_depth=8, n_estimators=2500, subsample=0.8, score=0.9535845101734031, total=14.5min\n",
      "[CV] colsample_bytree=0.8, learning_rate=0.2, max_depth=8, n_estimators=3000, subsample=0.8 \n",
      "[CV]  colsample_bytree=0.8, learning_rate=0.2, max_depth=8, n_estimators=2500, subsample=0.8, score=0.9394403746127191, total=15.0min\n",
      "[CV] colsample_bytree=0.8, learning_rate=0.2, max_depth=8, n_estimators=3000, subsample=0.8 \n",
      "[CV]  colsample_bytree=0.8, learning_rate=0.2, max_depth=8, n_estimators=2500, subsample=0.8, score=0.9557520484427602, total=15.5min\n",
      "[CV] colsample_bytree=0.8, learning_rate=0.2, max_depth=8, n_estimators=3000, subsample=0.8 \n",
      "[CV]  colsample_bytree=0.8, learning_rate=0.2, max_depth=8, n_estimators=2500, subsample=0.8, score=0.950258931585212, total=15.2min\n",
      "[CV] colsample_bytree=0.8, learning_rate=0.2, max_depth=8, n_estimators=3000, subsample=0.8 \n",
      "[CV]  colsample_bytree=0.8, learning_rate=0.2, max_depth=8, n_estimators=3000, subsample=0.8, score=0.9491232806137212, total=17.6min\n",
      "[CV] colsample_bytree=0.8, learning_rate=0.2, max_depth=8, n_estimators=3000, subsample=0.8 \n",
      "[CV]  colsample_bytree=0.8, learning_rate=0.2, max_depth=8, n_estimators=3000, subsample=0.8, score=0.9530697529165167, total=17.8min\n",
      "[CV] colsample_bytree=0.8, learning_rate=0.2, max_depth=8, n_estimators=4000, subsample=0.8 \n",
      "[CV]  colsample_bytree=0.8, learning_rate=0.2, max_depth=8, n_estimators=3000, subsample=0.8, score=0.9373535566330023, total=17.4min\n",
      "[CV] colsample_bytree=0.8, learning_rate=0.2, max_depth=8, n_estimators=4000, subsample=0.8 \n",
      "[CV]  colsample_bytree=0.8, learning_rate=0.2, max_depth=8, n_estimators=3000, subsample=0.8, score=0.9541729302082672, total=18.3min\n",
      "[CV] colsample_bytree=0.8, learning_rate=0.2, max_depth=8, n_estimators=4000, subsample=0.8 \n",
      "[CV]  colsample_bytree=0.8, learning_rate=0.2, max_depth=8, n_estimators=3000, subsample=0.8, score=0.9486516015562543, total=18.4min\n",
      "[CV] colsample_bytree=0.8, learning_rate=0.2, max_depth=8, n_estimators=4000, subsample=0.8 \n",
      "[CV]  colsample_bytree=0.8, learning_rate=0.2, max_depth=8, n_estimators=4000, subsample=0.8, score=0.9491025491732125, total=21.9min\n",
      "[CV] colsample_bytree=0.8, learning_rate=0.2, max_depth=8, n_estimators=4000, subsample=0.8 \n",
      "[CV]  colsample_bytree=0.8, learning_rate=0.2, max_depth=8, n_estimators=4000, subsample=0.8, score=0.9528200934414544, total=21.8min\n",
      "[CV]  colsample_bytree=0.8, learning_rate=0.2, max_depth=8, n_estimators=4000, subsample=0.8, score=0.9350664817598611, total=20.9min\n",
      "[CV]  colsample_bytree=0.8, learning_rate=0.2, max_depth=8, n_estimators=4000, subsample=0.8, score=0.9536590551403386, total=20.8min\n",
      "[CV]  colsample_bytree=0.8, learning_rate=0.2, max_depth=8, n_estimators=4000, subsample=0.8, score=0.9448955390928955, total=15.6min\n"
     ]
    },
    {
     "name": "stderr",
     "output_type": "stream",
     "text": [
      "[Parallel(n_jobs=-1)]: Done  25 out of  25 | elapsed: 106.7min finished\n"
     ]
    },
    {
     "name": "stdout",
     "output_type": "stream",
     "text": [
      "CPU times: user 7min 41s, sys: 4.73 s, total: 7min 45s\n",
      "Wall time: 1h 54min 30s\n"
     ]
    }
   ],
   "source": [
    "%%time\n",
    "\n",
    "param_grid = {\n",
    "    'n_estimators': [1500, 2000, 2500, 3000, 4000],\n",
    "    'learning_rate': [0.2],\n",
    "    'max_depth' : [8],\n",
    "    'subsample': [0.8],\n",
    "    'colsample_bytree': [0.8]\n",
    "    \n",
    "}\n",
    "xgb = XGBClassifier(objective='binary:logistic', nthreads= -1, seed=27, verbosity=2)\n",
    "\n",
    "clf = GridSearchCV(xgb, param_grid=param_grid, cv=skf, n_jobs=-1, verbose=3, scoring='roc_auc').fit(X, Y)"
   ]
  },
  {
   "cell_type": "code",
   "execution_count": 61,
   "metadata": {},
   "outputs": [
    {
     "data": {
      "text/plain": [
       "0.9965940054495912"
      ]
     },
     "execution_count": 61,
     "metadata": {},
     "output_type": "execute_result"
    }
   ],
   "source": [
    "roc_auc_score(clf.predict(X), Y.values)"
   ]
  },
  {
   "cell_type": "code",
   "execution_count": 58,
   "metadata": {},
   "outputs": [
    {
     "data": {
      "text/plain": [
       "95"
      ]
     },
     "execution_count": 58,
     "metadata": {},
     "output_type": "execute_result"
    }
   ],
   "source": [
    "sum(clf.predict(test[features]))"
   ]
  },
  {
   "cell_type": "code",
   "execution_count": 52,
   "metadata": {},
   "outputs": [
    {
     "name": "stdout",
     "output_type": "stream",
     "text": [
      "best parameters: {'colsample_bytree': 0.8, 'learning_rate': 0.2, 'max_depth': 8, 'n_estimators': 1500, 'subsample': 0.8}\n",
      "best score:      0.95196 (+/-0.00411)\n"
     ]
    },
    {
     "data": {
      "text/html": [
       "<div>\n",
       "<style scoped>\n",
       "    .dataframe tbody tr th:only-of-type {\n",
       "        vertical-align: middle;\n",
       "    }\n",
       "\n",
       "    .dataframe tbody tr th {\n",
       "        vertical-align: top;\n",
       "    }\n",
       "\n",
       "    .dataframe thead th {\n",
       "        text-align: right;\n",
       "    }\n",
       "</style>\n",
       "<table border=\"1\" class=\"dataframe\">\n",
       "  <thead>\n",
       "    <tr style=\"text-align: right;\">\n",
       "      <th></th>\n",
       "      <th>mean_fit_time</th>\n",
       "      <th>std_fit_time</th>\n",
       "      <th>mean_score_time</th>\n",
       "      <th>std_score_time</th>\n",
       "      <th>param_colsample_bytree</th>\n",
       "      <th>param_learning_rate</th>\n",
       "      <th>param_max_depth</th>\n",
       "      <th>param_n_estimators</th>\n",
       "      <th>param_subsample</th>\n",
       "      <th>params</th>\n",
       "      <th>split0_test_score</th>\n",
       "      <th>split1_test_score</th>\n",
       "      <th>split2_test_score</th>\n",
       "      <th>split3_test_score</th>\n",
       "      <th>split4_test_score</th>\n",
       "      <th>mean_test_score</th>\n",
       "      <th>std_test_score</th>\n",
       "      <th>rank_test_score</th>\n",
       "      <th>split0_train_score</th>\n",
       "      <th>split1_train_score</th>\n",
       "      <th>split2_train_score</th>\n",
       "      <th>split3_train_score</th>\n",
       "      <th>split4_train_score</th>\n",
       "      <th>mean_train_score</th>\n",
       "      <th>std_train_score</th>\n",
       "    </tr>\n",
       "  </thead>\n",
       "  <tbody>\n",
       "    <tr>\n",
       "      <td>0</td>\n",
       "      <td>558.636234</td>\n",
       "      <td>7.683212</td>\n",
       "      <td>5.266151</td>\n",
       "      <td>0.657964</td>\n",
       "      <td>0.8</td>\n",
       "      <td>0.2</td>\n",
       "      <td>8</td>\n",
       "      <td>1500</td>\n",
       "      <td>0.8</td>\n",
       "      <td>{'colsample_bytree': 0.8, 'learning_rate': 0.2...</td>\n",
       "      <td>0.952767</td>\n",
       "      <td>0.954723</td>\n",
       "      <td>0.944296</td>\n",
       "      <td>0.956143</td>\n",
       "      <td>0.951858</td>\n",
       "      <td>0.951958</td>\n",
       "      <td>0.004112</td>\n",
       "      <td>1</td>\n",
       "      <td>1.0</td>\n",
       "      <td>1.0</td>\n",
       "      <td>1.0</td>\n",
       "      <td>1.0</td>\n",
       "      <td>1.0</td>\n",
       "      <td>1.0</td>\n",
       "      <td>9.219355e-08</td>\n",
       "    </tr>\n",
       "    <tr>\n",
       "      <td>1</td>\n",
       "      <td>779.087669</td>\n",
       "      <td>94.845417</td>\n",
       "      <td>8.419978</td>\n",
       "      <td>1.330454</td>\n",
       "      <td>0.8</td>\n",
       "      <td>0.2</td>\n",
       "      <td>8</td>\n",
       "      <td>2000</td>\n",
       "      <td>0.8</td>\n",
       "      <td>{'colsample_bytree': 0.8, 'learning_rate': 0.2...</td>\n",
       "      <td>0.951695</td>\n",
       "      <td>0.954193</td>\n",
       "      <td>0.942339</td>\n",
       "      <td>0.956054</td>\n",
       "      <td>0.949944</td>\n",
       "      <td>0.950845</td>\n",
       "      <td>0.004738</td>\n",
       "      <td>2</td>\n",
       "      <td>1.0</td>\n",
       "      <td>1.0</td>\n",
       "      <td>1.0</td>\n",
       "      <td>1.0</td>\n",
       "      <td>1.0</td>\n",
       "      <td>1.0</td>\n",
       "      <td>9.219355e-08</td>\n",
       "    </tr>\n",
       "    <tr>\n",
       "      <td>2</td>\n",
       "      <td>1240.339425</td>\n",
       "      <td>130.136209</td>\n",
       "      <td>15.127651</td>\n",
       "      <td>1.658172</td>\n",
       "      <td>0.8</td>\n",
       "      <td>0.2</td>\n",
       "      <td>8</td>\n",
       "      <td>2500</td>\n",
       "      <td>0.8</td>\n",
       "      <td>{'colsample_bytree': 0.8, 'learning_rate': 0.2...</td>\n",
       "      <td>0.950202</td>\n",
       "      <td>0.953585</td>\n",
       "      <td>0.939440</td>\n",
       "      <td>0.955752</td>\n",
       "      <td>0.950259</td>\n",
       "      <td>0.949848</td>\n",
       "      <td>0.005611</td>\n",
       "      <td>3</td>\n",
       "      <td>1.0</td>\n",
       "      <td>1.0</td>\n",
       "      <td>1.0</td>\n",
       "      <td>1.0</td>\n",
       "      <td>1.0</td>\n",
       "      <td>1.0</td>\n",
       "      <td>9.219355e-08</td>\n",
       "    </tr>\n",
       "    <tr>\n",
       "      <td>3</td>\n",
       "      <td>1586.794959</td>\n",
       "      <td>61.306332</td>\n",
       "      <td>16.326444</td>\n",
       "      <td>2.098159</td>\n",
       "      <td>0.8</td>\n",
       "      <td>0.2</td>\n",
       "      <td>8</td>\n",
       "      <td>3000</td>\n",
       "      <td>0.8</td>\n",
       "      <td>{'colsample_bytree': 0.8, 'learning_rate': 0.2...</td>\n",
       "      <td>0.949123</td>\n",
       "      <td>0.953070</td>\n",
       "      <td>0.937354</td>\n",
       "      <td>0.954173</td>\n",
       "      <td>0.948652</td>\n",
       "      <td>0.948474</td>\n",
       "      <td>0.005962</td>\n",
       "      <td>4</td>\n",
       "      <td>1.0</td>\n",
       "      <td>1.0</td>\n",
       "      <td>1.0</td>\n",
       "      <td>1.0</td>\n",
       "      <td>1.0</td>\n",
       "      <td>1.0</td>\n",
       "      <td>9.219355e-08</td>\n",
       "    </tr>\n",
       "    <tr>\n",
       "      <td>4</td>\n",
       "      <td>1380.685388</td>\n",
       "      <td>220.230725</td>\n",
       "      <td>13.149048</td>\n",
       "      <td>3.561868</td>\n",
       "      <td>0.8</td>\n",
       "      <td>0.2</td>\n",
       "      <td>8</td>\n",
       "      <td>4000</td>\n",
       "      <td>0.8</td>\n",
       "      <td>{'colsample_bytree': 0.8, 'learning_rate': 0.2...</td>\n",
       "      <td>0.949103</td>\n",
       "      <td>0.952820</td>\n",
       "      <td>0.935066</td>\n",
       "      <td>0.953659</td>\n",
       "      <td>0.944896</td>\n",
       "      <td>0.947109</td>\n",
       "      <td>0.006774</td>\n",
       "      <td>5</td>\n",
       "      <td>1.0</td>\n",
       "      <td>1.0</td>\n",
       "      <td>1.0</td>\n",
       "      <td>1.0</td>\n",
       "      <td>1.0</td>\n",
       "      <td>1.0</td>\n",
       "      <td>9.219355e-08</td>\n",
       "    </tr>\n",
       "  </tbody>\n",
       "</table>\n",
       "</div>"
      ],
      "text/plain": [
       "   mean_fit_time  std_fit_time  mean_score_time  std_score_time  \\\n",
       "0     558.636234      7.683212         5.266151        0.657964   \n",
       "1     779.087669     94.845417         8.419978        1.330454   \n",
       "2    1240.339425    130.136209        15.127651        1.658172   \n",
       "3    1586.794959     61.306332        16.326444        2.098159   \n",
       "4    1380.685388    220.230725        13.149048        3.561868   \n",
       "\n",
       "  param_colsample_bytree param_learning_rate param_max_depth  \\\n",
       "0                    0.8                 0.2               8   \n",
       "1                    0.8                 0.2               8   \n",
       "2                    0.8                 0.2               8   \n",
       "3                    0.8                 0.2               8   \n",
       "4                    0.8                 0.2               8   \n",
       "\n",
       "  param_n_estimators param_subsample  \\\n",
       "0               1500             0.8   \n",
       "1               2000             0.8   \n",
       "2               2500             0.8   \n",
       "3               3000             0.8   \n",
       "4               4000             0.8   \n",
       "\n",
       "                                              params  split0_test_score  \\\n",
       "0  {'colsample_bytree': 0.8, 'learning_rate': 0.2...           0.952767   \n",
       "1  {'colsample_bytree': 0.8, 'learning_rate': 0.2...           0.951695   \n",
       "2  {'colsample_bytree': 0.8, 'learning_rate': 0.2...           0.950202   \n",
       "3  {'colsample_bytree': 0.8, 'learning_rate': 0.2...           0.949123   \n",
       "4  {'colsample_bytree': 0.8, 'learning_rate': 0.2...           0.949103   \n",
       "\n",
       "   split1_test_score  split2_test_score  split3_test_score  split4_test_score  \\\n",
       "0           0.954723           0.944296           0.956143           0.951858   \n",
       "1           0.954193           0.942339           0.956054           0.949944   \n",
       "2           0.953585           0.939440           0.955752           0.950259   \n",
       "3           0.953070           0.937354           0.954173           0.948652   \n",
       "4           0.952820           0.935066           0.953659           0.944896   \n",
       "\n",
       "   mean_test_score  std_test_score  rank_test_score  split0_train_score  \\\n",
       "0         0.951958        0.004112                1                 1.0   \n",
       "1         0.950845        0.004738                2                 1.0   \n",
       "2         0.949848        0.005611                3                 1.0   \n",
       "3         0.948474        0.005962                4                 1.0   \n",
       "4         0.947109        0.006774                5                 1.0   \n",
       "\n",
       "   split1_train_score  split2_train_score  split3_train_score  \\\n",
       "0                 1.0                 1.0                 1.0   \n",
       "1                 1.0                 1.0                 1.0   \n",
       "2                 1.0                 1.0                 1.0   \n",
       "3                 1.0                 1.0                 1.0   \n",
       "4                 1.0                 1.0                 1.0   \n",
       "\n",
       "   split4_train_score  mean_train_score  std_train_score  \n",
       "0                 1.0               1.0     9.219355e-08  \n",
       "1                 1.0               1.0     9.219355e-08  \n",
       "2                 1.0               1.0     9.219355e-08  \n",
       "3                 1.0               1.0     9.219355e-08  \n",
       "4                 1.0               1.0     9.219355e-08  "
      ]
     },
     "metadata": {},
     "output_type": "display_data"
    },
    {
     "data": {
      "image/png": "[encoded data removed]",
      "text/plain": [
       "<matplotlib.figure.Figure at 0x1a1dfe2470>"
      ]
     },
     "metadata": {},
     "output_type": "display_data"
    }
   ],
   "source": [
    "GridSearch_table_plot(clf, \"n_estimators\", display_all_params=False, negative=False)"
   ]
  },
  {
   "cell_type": "markdown",
   "metadata": {},
   "source": [
    "The n_estimators need to be tuned alongwith learning_rate also there is a lot of overfitting"
   ]
  },
  {
   "cell_type": "code",
   "execution_count": 63,
   "metadata": {},
   "outputs": [
    {
     "name": "stdout",
     "output_type": "stream",
     "text": [
      "Fitting 5 folds for each of 9 candidates, totalling 45 fits\n",
      "[CV] colsample_bytree=0.8, learning_rate=0.2, max_depth=8, n_estimators=1500, subsample=0.8 \n",
      "[CV] colsample_bytree=0.8, learning_rate=0.2, max_depth=8, n_estimators=1500, subsample=0.8 \n",
      "[CV] colsample_bytree=0.8, learning_rate=0.2, max_depth=8, n_estimators=1500, subsample=0.8 \n",
      "[CV] colsample_bytree=0.8, learning_rate=0.2, max_depth=8, n_estimators=1500, subsample=0.8 \n",
      "[CV]  colsample_bytree=0.8, learning_rate=0.2, max_depth=8, n_estimators=1500, subsample=0.8, score=0.9442963837310242, total=10.9min\n",
      "[CV] colsample_bytree=0.8, learning_rate=0.2, max_depth=8, n_estimators=1500, subsample=0.8 \n",
      "[CV]  colsample_bytree=0.8, learning_rate=0.2, max_depth=8, n_estimators=1500, subsample=0.8, score=0.9547234161179452, total=11.1min\n",
      "[CV] colsample_bytree=0.8, learning_rate=0.2, max_depth=8, n_estimators=2000, subsample=0.8 \n",
      "[CV]  colsample_bytree=0.8, learning_rate=0.2, max_depth=8, n_estimators=1500, subsample=0.8, score=0.956143299245552, total=11.2min\n",
      "[CV] colsample_bytree=0.8, learning_rate=0.2, max_depth=8, n_estimators=2000, subsample=0.8 \n",
      "[CV]  colsample_bytree=0.8, learning_rate=0.2, max_depth=8, n_estimators=1500, subsample=0.8, score=0.9527671621039855, total=11.3min\n",
      "[CV] colsample_bytree=0.8, learning_rate=0.2, max_depth=8, n_estimators=2000, subsample=0.8 \n",
      "[CV]  colsample_bytree=0.8, learning_rate=0.2, max_depth=8, n_estimators=1500, subsample=0.8, score=0.9518578230204835, total= 9.1min\n",
      "[CV] colsample_bytree=0.8, learning_rate=0.2, max_depth=8, n_estimators=2000, subsample=0.8 \n",
      "[CV]  colsample_bytree=0.8, learning_rate=0.2, max_depth=8, n_estimators=2000, subsample=0.8, score=0.9423388064336277, total=11.4min\n",
      "[CV] colsample_bytree=0.8, learning_rate=0.2, max_depth=8, n_estimators=2000, subsample=0.8 \n",
      "[CV]  colsample_bytree=0.8, learning_rate=0.2, max_depth=8, n_estimators=2000, subsample=0.8, score=0.9516948614257585, total=11.9min\n",
      "[CV]  colsample_bytree=0.8, learning_rate=0.2, max_depth=8, n_estimators=2000, subsample=0.8, score=0.954192779459818, total=11.9min\n",
      "[CV] colsample_bytree=0.8, learning_rate=0.2, max_depth=8, n_estimators=2500, subsample=0.8 \n",
      "[CV] colsample_bytree=0.8, learning_rate=0.2, max_depth=8, n_estimators=2500, subsample=0.8 \n",
      "[CV]  colsample_bytree=0.8, learning_rate=0.2, max_depth=8, n_estimators=2000, subsample=0.8, score=0.9560541981608125, total=25.1min\n",
      "[CV] colsample_bytree=0.8, learning_rate=0.2, max_depth=8, n_estimators=2500, subsample=0.8 \n",
      "[CV]  colsample_bytree=0.8, learning_rate=0.2, max_depth=8, n_estimators=2000, subsample=0.8, score=0.9499435946632555, total=25.5min\n",
      "[CV] colsample_bytree=0.8, learning_rate=0.2, max_depth=8, n_estimators=2500, subsample=0.8 \n",
      "[CV]  colsample_bytree=0.8, learning_rate=0.2, max_depth=8, n_estimators=2500, subsample=0.8, score=0.9535845101734031, total=28.6min\n",
      "[CV] colsample_bytree=0.8, learning_rate=0.2, max_depth=8, n_estimators=2500, subsample=0.8 \n",
      "[CV]  colsample_bytree=0.8, learning_rate=0.2, max_depth=8, n_estimators=2500, subsample=0.8, score=0.9502017566146528, total=28.8min\n",
      "[CV] colsample_bytree=0.8, learning_rate=0.15, max_depth=8, n_estimators=1500, subsample=0.8 \n",
      "[CV]  colsample_bytree=0.8, learning_rate=0.2, max_depth=8, n_estimators=2500, subsample=0.8, score=0.9394403746127191, total=17.3min\n",
      "[CV] colsample_bytree=0.8, learning_rate=0.15, max_depth=8, n_estimators=1500, subsample=0.8 \n",
      "[CV]  colsample_bytree=0.8, learning_rate=0.15, max_depth=8, n_estimators=1500, subsample=0.8, score=0.9545681508613693, total=11.6min\n",
      "[CV] colsample_bytree=0.8, learning_rate=0.15, max_depth=8, n_estimators=1500, subsample=0.8 \n",
      "[CV]  colsample_bytree=0.8, learning_rate=0.2, max_depth=8, n_estimators=2500, subsample=0.8, score=0.9557520484427602, total=17.4min\n",
      "[CV] colsample_bytree=0.8, learning_rate=0.15, max_depth=8, n_estimators=1500, subsample=0.8 \n",
      "[CV]  colsample_bytree=0.8, learning_rate=0.2, max_depth=8, n_estimators=2500, subsample=0.8, score=0.950258931585212, total=16.9min\n",
      "[CV] colsample_bytree=0.8, learning_rate=0.15, max_depth=8, n_estimators=1500, subsample=0.8 \n",
      "[CV]  colsample_bytree=0.8, learning_rate=0.15, max_depth=8, n_estimators=1500, subsample=0.8, score=0.953338379454172, total=10.6min\n",
      "[CV] colsample_bytree=0.8, learning_rate=0.15, max_depth=8, n_estimators=2000, subsample=0.8 \n",
      "[CV]  colsample_bytree=0.8, learning_rate=0.15, max_depth=8, n_estimators=1500, subsample=0.8, score=0.9436276845009987, total=10.4min\n",
      "[CV] colsample_bytree=0.8, learning_rate=0.15, max_depth=8, n_estimators=2000, subsample=0.8 \n",
      "[CV]  colsample_bytree=0.8, learning_rate=0.15, max_depth=8, n_estimators=1500, subsample=0.8, score=0.9585397655494625, total=10.8min\n",
      "[CV] colsample_bytree=0.8, learning_rate=0.15, max_depth=8, n_estimators=2000, subsample=0.8 \n",
      "[CV]  colsample_bytree=0.8, learning_rate=0.15, max_depth=8, n_estimators=1500, subsample=0.8, score=0.9560171614347386, total=10.7min\n",
      "[CV] colsample_bytree=0.8, learning_rate=0.15, max_depth=8, n_estimators=2000, subsample=0.8 \n",
      "[CV]  colsample_bytree=0.8, learning_rate=0.15, max_depth=8, n_estimators=2000, subsample=0.8, score=0.9534680612309712, total=14.2min\n",
      "[CV] colsample_bytree=0.8, learning_rate=0.15, max_depth=8, n_estimators=2000, subsample=0.8 \n",
      "[CV]  colsample_bytree=0.8, learning_rate=0.15, max_depth=8, n_estimators=2000, subsample=0.8, score=0.9524111988595061, total=14.1min\n",
      "[CV] colsample_bytree=0.8, learning_rate=0.15, max_depth=8, n_estimators=2500, subsample=0.8 \n",
      "[CV]  colsample_bytree=0.8, learning_rate=0.15, max_depth=8, n_estimators=2000, subsample=0.8, score=0.9421301687451038, total=13.4min\n",
      "[CV] colsample_bytree=0.8, learning_rate=0.15, max_depth=8, n_estimators=2500, subsample=0.8 \n",
      "[CV]  colsample_bytree=0.8, learning_rate=0.15, max_depth=8, n_estimators=2000, subsample=0.8, score=0.9582054159344497, total=13.5min\n",
      "[CV] colsample_bytree=0.8, learning_rate=0.15, max_depth=8, n_estimators=2500, subsample=0.8 \n"
     ]
    },
    {
     "name": "stderr",
     "output_type": "stream",
     "text": [
      "[Parallel(n_jobs=-1)]: Done  24 tasks      | elapsed: 96.3min\n"
     ]
    },
    {
     "name": "stdout",
     "output_type": "stream",
     "text": [
      "[CV]  colsample_bytree=0.8, learning_rate=0.15, max_depth=8, n_estimators=2000, subsample=0.8, score=0.9539301639751994, total=13.6min\n",
      "[CV] colsample_bytree=0.8, learning_rate=0.15, max_depth=8, n_estimators=2500, subsample=0.8 \n",
      "[CV]  colsample_bytree=0.8, learning_rate=0.15, max_depth=8, n_estimators=2500, subsample=0.8, score=0.9522753417600021, total=16.9min\n",
      "[CV] colsample_bytree=0.8, learning_rate=0.15, max_depth=8, n_estimators=2500, subsample=0.8 \n",
      "[CV]  colsample_bytree=0.8, learning_rate=0.15, max_depth=8, n_estimators=2500, subsample=0.8, score=0.9513869774794803, total=16.8min\n",
      "[CV] colsample_bytree=0.8, learning_rate=0.1, max_depth=8, n_estimators=1500, subsample=0.8 \n",
      "[CV]  colsample_bytree=0.8, learning_rate=0.15, max_depth=8, n_estimators=2500, subsample=0.8, score=0.940362262073638, total=17.0min\n",
      "[CV] colsample_bytree=0.8, learning_rate=0.1, max_depth=8, n_estimators=1500, subsample=0.8 \n",
      "[CV]  colsample_bytree=0.8, learning_rate=0.15, max_depth=8, n_estimators=2500, subsample=0.8, score=0.9579711947661493, total=17.7min\n",
      "[CV] colsample_bytree=0.8, learning_rate=0.1, max_depth=8, n_estimators=1500, subsample=0.8 \n",
      "[CV]  colsample_bytree=0.8, learning_rate=0.1, max_depth=8, n_estimators=1500, subsample=0.8, score=0.954762673526568, total=12.0min\n",
      "[CV] colsample_bytree=0.8, learning_rate=0.1, max_depth=8, n_estimators=1500, subsample=0.8 \n",
      "[CV]  colsample_bytree=0.8, learning_rate=0.1, max_depth=8, n_estimators=1500, subsample=0.8, score=0.9587034116011377, total=11.2min\n",
      "[CV] colsample_bytree=0.8, learning_rate=0.1, max_depth=8, n_estimators=1500, subsample=0.8 \n",
      "[CV]  colsample_bytree=0.8, learning_rate=0.15, max_depth=8, n_estimators=2500, subsample=0.8, score=0.9527816269608627, total=17.4min\n",
      "[CV] colsample_bytree=0.8, learning_rate=0.1, max_depth=8, n_estimators=2000, subsample=0.8 \n",
      "[CV]  colsample_bytree=0.8, learning_rate=0.1, max_depth=8, n_estimators=1500, subsample=0.8, score=0.945730822976435, total=10.6min\n",
      "[CV] colsample_bytree=0.8, learning_rate=0.1, max_depth=8, n_estimators=2000, subsample=0.8 \n",
      "[CV]  colsample_bytree=0.8, learning_rate=0.1, max_depth=8, n_estimators=1500, subsample=0.8, score=0.9639546413725448, total=10.8min\n",
      "[CV] colsample_bytree=0.8, learning_rate=0.1, max_depth=8, n_estimators=2000, subsample=0.8 \n",
      "[CV]  colsample_bytree=0.8, learning_rate=0.1, max_depth=8, n_estimators=1500, subsample=0.8, score=0.9572634084812308, total=10.5min\n",
      "[CV] colsample_bytree=0.8, learning_rate=0.1, max_depth=8, n_estimators=2000, subsample=0.8 \n",
      "[CV]  colsample_bytree=0.8, learning_rate=0.1, max_depth=8, n_estimators=2000, subsample=0.8, score=0.9534054258149661, total=14.1min\n",
      "[CV] colsample_bytree=0.8, learning_rate=0.1, max_depth=8, n_estimators=2000, subsample=0.8 \n",
      "[CV]  colsample_bytree=0.8, learning_rate=0.1, max_depth=8, n_estimators=2000, subsample=0.8, score=0.9579853097894744, total=14.8min\n",
      "[CV] colsample_bytree=0.8, learning_rate=0.1, max_depth=8, n_estimators=2500, subsample=0.8 \n",
      "[CV]  colsample_bytree=0.8, learning_rate=0.1, max_depth=8, n_estimators=2000, subsample=0.8, score=0.9441093596719669, total=14.7min\n",
      "[CV] colsample_bytree=0.8, learning_rate=0.1, max_depth=8, n_estimators=2500, subsample=0.8 \n",
      "[CV]  colsample_bytree=0.8, learning_rate=0.1, max_depth=8, n_estimators=2000, subsample=0.8, score=0.9624125750742802, total=15.1min\n",
      "[CV] colsample_bytree=0.8, learning_rate=0.1, max_depth=8, n_estimators=2500, subsample=0.8 \n",
      "[CV]  colsample_bytree=0.8, learning_rate=0.1, max_depth=8, n_estimators=2000, subsample=0.8, score=0.9558834763452895, total=15.0min\n",
      "[CV] colsample_bytree=0.8, learning_rate=0.1, max_depth=8, n_estimators=2500, subsample=0.8 \n",
      "[CV]  colsample_bytree=0.8, learning_rate=0.1, max_depth=8, n_estimators=2500, subsample=0.8, score=0.9575949411756404, total=17.4min\n",
      "[CV] colsample_bytree=0.8, learning_rate=0.1, max_depth=8, n_estimators=2500, subsample=0.8 \n",
      "[CV]  colsample_bytree=0.8, learning_rate=0.1, max_depth=8, n_estimators=2500, subsample=0.8, score=0.9512903777885993, total=17.6min\n",
      "[CV]  colsample_bytree=0.8, learning_rate=0.1, max_depth=8, n_estimators=2500, subsample=0.8, score=0.9423864446373498, total=16.8min\n",
      "[CV]  colsample_bytree=0.8, learning_rate=0.1, max_depth=8, n_estimators=2500, subsample=0.8, score=0.9615087724869965, total=15.4min\n",
      "[CV]  colsample_bytree=0.8, learning_rate=0.1, max_depth=8, n_estimators=2500, subsample=0.8, score=0.9552008385297305, total=10.6min\n"
     ]
    },
    {
     "name": "stderr",
     "output_type": "stream",
     "text": [
      "[Parallel(n_jobs=-1)]: Done  45 out of  45 | elapsed: 178.8min finished\n"
     ]
    },
    {
     "name": "stdout",
     "output_type": "stream",
     "text": [
      "CPU times: user 7min 55s, sys: 4.24 s, total: 7min 59s\n",
      "Wall time: 3h 6min 40s\n"
     ]
    }
   ],
   "source": [
    "%%time\n",
    "\n",
    "param_grid = {\n",
    "    'n_estimators': [1500, 2000, 2500],\n",
    "    'learning_rate': [0.2, 0.15, 0.1],\n",
    "    'max_depth' : [8],\n",
    "    'subsample': [0.8],\n",
    "    'colsample_bytree': [0.8]\n",
    "    \n",
    "}\n",
    "xgb = XGBClassifier(objective='binary:logistic', nthreads= -1, seed=27, verbosity=2)\n",
    "\n",
    "clf = GridSearchCV(xgb, param_grid=param_grid, cv=skf, n_jobs=-1, verbose=3, scoring='roc_auc').fit(X, Y)"
   ]
  },
  {
   "cell_type": "code",
   "execution_count": 64,
   "metadata": {},
   "outputs": [
    {
     "data": {
      "text/plain": [
       "0.9979323253547724"
      ]
     },
     "execution_count": 64,
     "metadata": {},
     "output_type": "execute_result"
    }
   ],
   "source": [
    "roc_auc_score(clf.predict(X), Y.values)"
   ]
  },
  {
   "cell_type": "code",
   "execution_count": 65,
   "metadata": {},
   "outputs": [
    {
     "data": {
      "text/plain": [
       "73"
      ]
     },
     "execution_count": 65,
     "metadata": {},
     "output_type": "execute_result"
    }
   ],
   "source": [
    "sum(clf.predict(test[features]))"
   ]
  },
  {
   "cell_type": "code",
   "execution_count": 66,
   "metadata": {},
   "outputs": [
    {
     "name": "stdout",
     "output_type": "stream",
     "text": [
      "best parameters: {'colsample_bytree': 0.8, 'learning_rate': 0.1, 'max_depth': 8, 'n_estimators': 1500, 'subsample': 0.8}\n",
      "best score:      0.95608 (+/-0.00599)\n"
     ]
    },
    {
     "data": {
      "text/html": [
       "<div>\n",
       "<style scoped>\n",
       "    .dataframe tbody tr th:only-of-type {\n",
       "        vertical-align: middle;\n",
       "    }\n",
       "\n",
       "    .dataframe tbody tr th {\n",
       "        vertical-align: top;\n",
       "    }\n",
       "\n",
       "    .dataframe thead th {\n",
       "        text-align: right;\n",
       "    }\n",
       "</style>\n",
       "<table border=\"1\" class=\"dataframe\">\n",
       "  <thead>\n",
       "    <tr style=\"text-align: right;\">\n",
       "      <th></th>\n",
       "      <th>mean_fit_time</th>\n",
       "      <th>std_fit_time</th>\n",
       "      <th>mean_score_time</th>\n",
       "      <th>std_score_time</th>\n",
       "      <th>param_colsample_bytree</th>\n",
       "      <th>param_learning_rate</th>\n",
       "      <th>param_max_depth</th>\n",
       "      <th>param_n_estimators</th>\n",
       "      <th>param_subsample</th>\n",
       "      <th>params</th>\n",
       "      <th>split0_test_score</th>\n",
       "      <th>split1_test_score</th>\n",
       "      <th>split2_test_score</th>\n",
       "      <th>split3_test_score</th>\n",
       "      <th>split4_test_score</th>\n",
       "      <th>mean_test_score</th>\n",
       "      <th>std_test_score</th>\n",
       "      <th>rank_test_score</th>\n",
       "      <th>split0_train_score</th>\n",
       "      <th>split1_train_score</th>\n",
       "      <th>split2_train_score</th>\n",
       "      <th>split3_train_score</th>\n",
       "      <th>split4_train_score</th>\n",
       "      <th>mean_train_score</th>\n",
       "      <th>std_train_score</th>\n",
       "    </tr>\n",
       "  </thead>\n",
       "  <tbody>\n",
       "    <tr>\n",
       "      <td>6</td>\n",
       "      <td>654.079521</td>\n",
       "      <td>32.476460</td>\n",
       "      <td>6.540653</td>\n",
       "      <td>0.326823</td>\n",
       "      <td>0.8</td>\n",
       "      <td>0.1</td>\n",
       "      <td>8</td>\n",
       "      <td>1500</td>\n",
       "      <td>0.8</td>\n",
       "      <td>{'colsample_bytree': 0.8, 'learning_rate': 0.1...</td>\n",
       "      <td>0.954763</td>\n",
       "      <td>0.958703</td>\n",
       "      <td>0.945731</td>\n",
       "      <td>0.963955</td>\n",
       "      <td>0.957263</td>\n",
       "      <td>0.956083</td>\n",
       "      <td>0.005986</td>\n",
       "      <td>1</td>\n",
       "      <td>1.0</td>\n",
       "      <td>1.0</td>\n",
       "      <td>1.0</td>\n",
       "      <td>1.0</td>\n",
       "      <td>1.0</td>\n",
       "      <td>1.0</td>\n",
       "      <td>9.219355e-08</td>\n",
       "    </tr>\n",
       "    <tr>\n",
       "      <td>7</td>\n",
       "      <td>873.811878</td>\n",
       "      <td>21.027547</td>\n",
       "      <td>11.252513</td>\n",
       "      <td>1.265353</td>\n",
       "      <td>0.8</td>\n",
       "      <td>0.1</td>\n",
       "      <td>8</td>\n",
       "      <td>2000</td>\n",
       "      <td>0.8</td>\n",
       "      <td>{'colsample_bytree': 0.8, 'learning_rate': 0.1...</td>\n",
       "      <td>0.953405</td>\n",
       "      <td>0.957985</td>\n",
       "      <td>0.944109</td>\n",
       "      <td>0.962413</td>\n",
       "      <td>0.955883</td>\n",
       "      <td>0.954759</td>\n",
       "      <td>0.006091</td>\n",
       "      <td>2</td>\n",
       "      <td>1.0</td>\n",
       "      <td>1.0</td>\n",
       "      <td>1.0</td>\n",
       "      <td>1.0</td>\n",
       "      <td>1.0</td>\n",
       "      <td>1.0</td>\n",
       "      <td>9.219355e-08</td>\n",
       "    </tr>\n",
       "    <tr>\n",
       "      <td>8</td>\n",
       "      <td>921.822817</td>\n",
       "      <td>153.252507</td>\n",
       "      <td>11.096949</td>\n",
       "      <td>4.824278</td>\n",
       "      <td>0.8</td>\n",
       "      <td>0.1</td>\n",
       "      <td>8</td>\n",
       "      <td>2500</td>\n",
       "      <td>0.8</td>\n",
       "      <td>{'colsample_bytree': 0.8, 'learning_rate': 0.1...</td>\n",
       "      <td>0.951290</td>\n",
       "      <td>0.957595</td>\n",
       "      <td>0.942386</td>\n",
       "      <td>0.961509</td>\n",
       "      <td>0.955201</td>\n",
       "      <td>0.953596</td>\n",
       "      <td>0.006514</td>\n",
       "      <td>3</td>\n",
       "      <td>1.0</td>\n",
       "      <td>1.0</td>\n",
       "      <td>1.0</td>\n",
       "      <td>1.0</td>\n",
       "      <td>1.0</td>\n",
       "      <td>1.0</td>\n",
       "      <td>9.219355e-08</td>\n",
       "    </tr>\n",
       "    <tr>\n",
       "      <td>3</td>\n",
       "      <td>643.314793</td>\n",
       "      <td>25.074147</td>\n",
       "      <td>6.321009</td>\n",
       "      <td>0.464944</td>\n",
       "      <td>0.8</td>\n",
       "      <td>0.15</td>\n",
       "      <td>8</td>\n",
       "      <td>1500</td>\n",
       "      <td>0.8</td>\n",
       "      <td>{'colsample_bytree': 0.8, 'learning_rate': 0.1...</td>\n",
       "      <td>0.954568</td>\n",
       "      <td>0.953338</td>\n",
       "      <td>0.943628</td>\n",
       "      <td>0.958540</td>\n",
       "      <td>0.956017</td>\n",
       "      <td>0.953218</td>\n",
       "      <td>0.005098</td>\n",
       "      <td>4</td>\n",
       "      <td>1.0</td>\n",
       "      <td>1.0</td>\n",
       "      <td>1.0</td>\n",
       "      <td>1.0</td>\n",
       "      <td>1.0</td>\n",
       "      <td>1.0</td>\n",
       "      <td>9.219355e-08</td>\n",
       "    </tr>\n",
       "    <tr>\n",
       "      <td>4</td>\n",
       "      <td>818.824265</td>\n",
       "      <td>19.332675</td>\n",
       "      <td>8.351795</td>\n",
       "      <td>0.427283</td>\n",
       "      <td>0.8</td>\n",
       "      <td>0.15</td>\n",
       "      <td>8</td>\n",
       "      <td>2000</td>\n",
       "      <td>0.8</td>\n",
       "      <td>{'colsample_bytree': 0.8, 'learning_rate': 0.1...</td>\n",
       "      <td>0.953468</td>\n",
       "      <td>0.952411</td>\n",
       "      <td>0.942130</td>\n",
       "      <td>0.958205</td>\n",
       "      <td>0.953930</td>\n",
       "      <td>0.952029</td>\n",
       "      <td>0.005329</td>\n",
       "      <td>5</td>\n",
       "      <td>1.0</td>\n",
       "      <td>1.0</td>\n",
       "      <td>1.0</td>\n",
       "      <td>1.0</td>\n",
       "      <td>1.0</td>\n",
       "      <td>1.0</td>\n",
       "      <td>9.219355e-08</td>\n",
       "    </tr>\n",
       "    <tr>\n",
       "      <td>0</td>\n",
       "      <td>637.244949</td>\n",
       "      <td>48.954857</td>\n",
       "      <td>5.330829</td>\n",
       "      <td>0.749935</td>\n",
       "      <td>0.8</td>\n",
       "      <td>0.2</td>\n",
       "      <td>8</td>\n",
       "      <td>1500</td>\n",
       "      <td>0.8</td>\n",
       "      <td>{'colsample_bytree': 0.8, 'learning_rate': 0.2...</td>\n",
       "      <td>0.952767</td>\n",
       "      <td>0.954723</td>\n",
       "      <td>0.944296</td>\n",
       "      <td>0.956143</td>\n",
       "      <td>0.951858</td>\n",
       "      <td>0.951958</td>\n",
       "      <td>0.004112</td>\n",
       "      <td>6</td>\n",
       "      <td>1.0</td>\n",
       "      <td>1.0</td>\n",
       "      <td>1.0</td>\n",
       "      <td>1.0</td>\n",
       "      <td>1.0</td>\n",
       "      <td>1.0</td>\n",
       "      <td>9.219355e-08</td>\n",
       "    </tr>\n",
       "    <tr>\n",
       "      <td>5</td>\n",
       "      <td>1017.218904</td>\n",
       "      <td>18.326026</td>\n",
       "      <td>11.499066</td>\n",
       "      <td>1.159012</td>\n",
       "      <td>0.8</td>\n",
       "      <td>0.15</td>\n",
       "      <td>8</td>\n",
       "      <td>2500</td>\n",
       "      <td>0.8</td>\n",
       "      <td>{'colsample_bytree': 0.8, 'learning_rate': 0.1...</td>\n",
       "      <td>0.952275</td>\n",
       "      <td>0.951387</td>\n",
       "      <td>0.940362</td>\n",
       "      <td>0.957971</td>\n",
       "      <td>0.952782</td>\n",
       "      <td>0.950955</td>\n",
       "      <td>0.005774</td>\n",
       "      <td>7</td>\n",
       "      <td>1.0</td>\n",
       "      <td>1.0</td>\n",
       "      <td>1.0</td>\n",
       "      <td>1.0</td>\n",
       "      <td>1.0</td>\n",
       "      <td>1.0</td>\n",
       "      <td>9.219355e-08</td>\n",
       "    </tr>\n",
       "    <tr>\n",
       "      <td>1</td>\n",
       "      <td>1020.274570</td>\n",
       "      <td>397.637454</td>\n",
       "      <td>8.860659</td>\n",
       "      <td>1.328250</td>\n",
       "      <td>0.8</td>\n",
       "      <td>0.2</td>\n",
       "      <td>8</td>\n",
       "      <td>2000</td>\n",
       "      <td>0.8</td>\n",
       "      <td>{'colsample_bytree': 0.8, 'learning_rate': 0.2...</td>\n",
       "      <td>0.951695</td>\n",
       "      <td>0.954193</td>\n",
       "      <td>0.942339</td>\n",
       "      <td>0.956054</td>\n",
       "      <td>0.949944</td>\n",
       "      <td>0.950845</td>\n",
       "      <td>0.004738</td>\n",
       "      <td>8</td>\n",
       "      <td>1.0</td>\n",
       "      <td>1.0</td>\n",
       "      <td>1.0</td>\n",
       "      <td>1.0</td>\n",
       "      <td>1.0</td>\n",
       "      <td>1.0</td>\n",
       "      <td>9.219355e-08</td>\n",
       "    </tr>\n",
       "    <tr>\n",
       "      <td>2</td>\n",
       "      <td>1296.080747</td>\n",
       "      <td>337.302307</td>\n",
       "      <td>11.337296</td>\n",
       "      <td>1.538397</td>\n",
       "      <td>0.8</td>\n",
       "      <td>0.2</td>\n",
       "      <td>8</td>\n",
       "      <td>2500</td>\n",
       "      <td>0.8</td>\n",
       "      <td>{'colsample_bytree': 0.8, 'learning_rate': 0.2...</td>\n",
       "      <td>0.950202</td>\n",
       "      <td>0.953585</td>\n",
       "      <td>0.939440</td>\n",
       "      <td>0.955752</td>\n",
       "      <td>0.950259</td>\n",
       "      <td>0.949848</td>\n",
       "      <td>0.005611</td>\n",
       "      <td>9</td>\n",
       "      <td>1.0</td>\n",
       "      <td>1.0</td>\n",
       "      <td>1.0</td>\n",
       "      <td>1.0</td>\n",
       "      <td>1.0</td>\n",
       "      <td>1.0</td>\n",
       "      <td>9.219355e-08</td>\n",
       "    </tr>\n",
       "  </tbody>\n",
       "</table>\n",
       "</div>"
      ],
      "text/plain": [
       "   mean_fit_time  std_fit_time  mean_score_time  std_score_time  \\\n",
       "6     654.079521     32.476460         6.540653        0.326823   \n",
       "7     873.811878     21.027547        11.252513        1.265353   \n",
       "8     921.822817    153.252507        11.096949        4.824278   \n",
       "3     643.314793     25.074147         6.321009        0.464944   \n",
       "4     818.824265     19.332675         8.351795        0.427283   \n",
       "0     637.244949     48.954857         5.330829        0.749935   \n",
       "5    1017.218904     18.326026        11.499066        1.159012   \n",
       "1    1020.274570    397.637454         8.860659        1.328250   \n",
       "2    1296.080747    337.302307        11.337296        1.538397   \n",
       "\n",
       "  param_colsample_bytree param_learning_rate param_max_depth  \\\n",
       "6                    0.8                 0.1               8   \n",
       "7                    0.8                 0.1               8   \n",
       "8                    0.8                 0.1               8   \n",
       "3                    0.8                0.15               8   \n",
       "4                    0.8                0.15               8   \n",
       "0                    0.8                 0.2               8   \n",
       "5                    0.8                0.15               8   \n",
       "1                    0.8                 0.2               8   \n",
       "2                    0.8                 0.2               8   \n",
       "\n",
       "  param_n_estimators param_subsample  \\\n",
       "6               1500             0.8   \n",
       "7               2000             0.8   \n",
       "8               2500             0.8   \n",
       "3               1500             0.8   \n",
       "4               2000             0.8   \n",
       "0               1500             0.8   \n",
       "5               2500             0.8   \n",
       "1               2000             0.8   \n",
       "2               2500             0.8   \n",
       "\n",
       "                                              params  split0_test_score  \\\n",
       "6  {'colsample_bytree': 0.8, 'learning_rate': 0.1...           0.954763   \n",
       "7  {'colsample_bytree': 0.8, 'learning_rate': 0.1...           0.953405   \n",
       "8  {'colsample_bytree': 0.8, 'learning_rate': 0.1...           0.951290   \n",
       "3  {'colsample_bytree': 0.8, 'learning_rate': 0.1...           0.954568   \n",
       "4  {'colsample_bytree': 0.8, 'learning_rate': 0.1...           0.953468   \n",
       "0  {'colsample_bytree': 0.8, 'learning_rate': 0.2...           0.952767   \n",
       "5  {'colsample_bytree': 0.8, 'learning_rate': 0.1...           0.952275   \n",
       "1  {'colsample_bytree': 0.8, 'learning_rate': 0.2...           0.951695   \n",
       "2  {'colsample_bytree': 0.8, 'learning_rate': 0.2...           0.950202   \n",
       "\n",
       "   split1_test_score  split2_test_score  split3_test_score  split4_test_score  \\\n",
       "6           0.958703           0.945731           0.963955           0.957263   \n",
       "7           0.957985           0.944109           0.962413           0.955883   \n",
       "8           0.957595           0.942386           0.961509           0.955201   \n",
       "3           0.953338           0.943628           0.958540           0.956017   \n",
       "4           0.952411           0.942130           0.958205           0.953930   \n",
       "0           0.954723           0.944296           0.956143           0.951858   \n",
       "5           0.951387           0.940362           0.957971           0.952782   \n",
       "1           0.954193           0.942339           0.956054           0.949944   \n",
       "2           0.953585           0.939440           0.955752           0.950259   \n",
       "\n",
       "   mean_test_score  std_test_score  rank_test_score  split0_train_score  \\\n",
       "6         0.956083        0.005986                1                 1.0   \n",
       "7         0.954759        0.006091                2                 1.0   \n",
       "8         0.953596        0.006514                3                 1.0   \n",
       "3         0.953218        0.005098                4                 1.0   \n",
       "4         0.952029        0.005329                5                 1.0   \n",
       "0         0.951958        0.004112                6                 1.0   \n",
       "5         0.950955        0.005774                7                 1.0   \n",
       "1         0.950845        0.004738                8                 1.0   \n",
       "2         0.949848        0.005611                9                 1.0   \n",
       "\n",
       "   split1_train_score  split2_train_score  split3_train_score  \\\n",
       "6                 1.0                 1.0                 1.0   \n",
       "7                 1.0                 1.0                 1.0   \n",
       "8                 1.0                 1.0                 1.0   \n",
       "3                 1.0                 1.0                 1.0   \n",
       "4                 1.0                 1.0                 1.0   \n",
       "0                 1.0                 1.0                 1.0   \n",
       "5                 1.0                 1.0                 1.0   \n",
       "1                 1.0                 1.0                 1.0   \n",
       "2                 1.0                 1.0                 1.0   \n",
       "\n",
       "   split4_train_score  mean_train_score  std_train_score  \n",
       "6                 1.0               1.0     9.219355e-08  \n",
       "7                 1.0               1.0     9.219355e-08  \n",
       "8                 1.0               1.0     9.219355e-08  \n",
       "3                 1.0               1.0     9.219355e-08  \n",
       "4                 1.0               1.0     9.219355e-08  \n",
       "0                 1.0               1.0     9.219355e-08  \n",
       "5                 1.0               1.0     9.219355e-08  \n",
       "1                 1.0               1.0     9.219355e-08  \n",
       "2                 1.0               1.0     9.219355e-08  "
      ]
     },
     "metadata": {},
     "output_type": "display_data"
    },
    {
     "data": {
      "image/png": "[encoded data removed]",
      "text/plain": [
       "<matplotlib.figure.Figure at 0x1a1de80da0>"
      ]
     },
     "metadata": {},
     "output_type": "display_data"
    }
   ],
   "source": [
    "GridSearch_table_plot(clf, \"n_estimators\", display_all_params=False, negative=False)"
   ]
  },
  {
   "cell_type": "markdown",
   "metadata": {},
   "source": [
    "## Tuning n_estimators"
   ]
  },
  {
   "cell_type": "code",
   "execution_count": 87,
   "metadata": {
    "collapsed": true
   },
   "outputs": [],
   "source": [
    "roc_auc_scorer = make_scorer(roc_auc_score, greater_is_better=True,\n",
    "                             needs_threshold=True)"
   ]
  },
  {
   "cell_type": "code",
   "execution_count": 100,
   "metadata": {},
   "outputs": [
    {
     "name": "stdout",
     "output_type": "stream",
     "text": [
      "Fitting 3 folds for each of 1 candidates, totalling 3 fits\n",
      "[CV] colsample_bytree=0.8, learning_rate=0.3, max_depth=8, n_estimators=2000, subsample=0.8 \n",
      "[CV] colsample_bytree=0.8, learning_rate=0.3, max_depth=8, n_estimators=2000, subsample=0.8 \n",
      "[CV] colsample_bytree=0.8, learning_rate=0.3, max_depth=8, n_estimators=2000, subsample=0.8 \n",
      "[CV]  colsample_bytree=0.8, learning_rate=0.3, max_depth=8, n_estimators=2000, subsample=0.8, score=0.9413573091380922, total=22.6min\n",
      "[CV]  colsample_bytree=0.8, learning_rate=0.3, max_depth=8, n_estimators=2000, subsample=0.8, score=0.9426575489279423, total=23.5min\n",
      "[CV]  colsample_bytree=0.8, learning_rate=0.3, max_depth=8, n_estimators=2000, subsample=0.8, score=0.9422365650899053, total=23.5min\n"
     ]
    },
    {
     "name": "stderr",
     "output_type": "stream",
     "text": [
      "[Parallel(n_jobs=-1)]: Done   3 out of   3 | elapsed: 24.3min finished\n"
     ]
    },
    {
     "name": "stdout",
     "output_type": "stream",
     "text": [
      "CPU times: user 13min 52s, sys: 3.59 s, total: 13min 55s\n",
      "Wall time: 50min 5s\n"
     ]
    }
   ],
   "source": [
    "%%time\n",
    "\n",
    "param_grid = {\n",
    "    'n_estimators': [2000],\n",
    "    'learning_rate': [0.3],\n",
    "    'max_depth' : [8],\n",
    "    'subsample': [0.8],\n",
    "    'colsample_bytree': [0.8]\n",
    "    \n",
    "}\n",
    "xgb = XGBClassifier(objective='binary:logistic', nthreads= -1, seed=27, verbosity=2)\n",
    "\n",
    "clf = GridSearchCV(xgb, param_grid=param_grid, cv=skf, n_jobs=-1, verbose=3, scoring=roc_auc_scorer).fit(X, Y)"
   ]
  },
  {
   "cell_type": "code",
   "execution_count": 101,
   "metadata": {},
   "outputs": [
    {
     "data": {
      "text/plain": [
       "0.9986070539370343"
      ]
     },
     "execution_count": 101,
     "metadata": {},
     "output_type": "execute_result"
    }
   ],
   "source": [
    "roc_auc_score(clf.predict(X), Y.values)"
   ]
  },
  {
   "cell_type": "code",
   "execution_count": 102,
   "metadata": {},
   "outputs": [
    {
     "data": {
      "text/plain": [
       "111"
      ]
     },
     "execution_count": 102,
     "metadata": {},
     "output_type": "execute_result"
    }
   ],
   "source": [
    "sum(clf.predict(test[features]))"
   ]
  },
  {
   "cell_type": "code",
   "execution_count": 103,
   "metadata": {},
   "outputs": [
    {
     "name": "stdout",
     "output_type": "stream",
     "text": [
      "best parameters: {'colsample_bytree': 0.8, 'learning_rate': 0.3, 'max_depth': 8, 'n_estimators': 2000, 'subsample': 0.8}\n",
      "best score:      0.94208 (+/-0.00054)\n"
     ]
    },
    {
     "data": {
      "text/html": [
       "<div>\n",
       "<style scoped>\n",
       "    .dataframe tbody tr th:only-of-type {\n",
       "        vertical-align: middle;\n",
       "    }\n",
       "\n",
       "    .dataframe tbody tr th {\n",
       "        vertical-align: top;\n",
       "    }\n",
       "\n",
       "    .dataframe thead th {\n",
       "        text-align: right;\n",
       "    }\n",
       "</style>\n",
       "<table border=\"1\" class=\"dataframe\">\n",
       "  <thead>\n",
       "    <tr style=\"text-align: right;\">\n",
       "      <th></th>\n",
       "      <th>mean_fit_time</th>\n",
       "      <th>std_fit_time</th>\n",
       "      <th>mean_score_time</th>\n",
       "      <th>std_score_time</th>\n",
       "      <th>param_colsample_bytree</th>\n",
       "      <th>param_learning_rate</th>\n",
       "      <th>param_max_depth</th>\n",
       "      <th>param_n_estimators</th>\n",
       "      <th>param_subsample</th>\n",
       "      <th>params</th>\n",
       "      <th>split0_test_score</th>\n",
       "      <th>split1_test_score</th>\n",
       "      <th>split2_test_score</th>\n",
       "      <th>mean_test_score</th>\n",
       "      <th>std_test_score</th>\n",
       "      <th>rank_test_score</th>\n",
       "      <th>split0_train_score</th>\n",
       "      <th>split1_train_score</th>\n",
       "      <th>split2_train_score</th>\n",
       "      <th>mean_train_score</th>\n",
       "      <th>std_train_score</th>\n",
       "    </tr>\n",
       "  </thead>\n",
       "  <tbody>\n",
       "    <tr>\n",
       "      <td>0</td>\n",
       "      <td>1366.948339</td>\n",
       "      <td>24.20627</td>\n",
       "      <td>24.673584</td>\n",
       "      <td>1.735867</td>\n",
       "      <td>0.8</td>\n",
       "      <td>0.3</td>\n",
       "      <td>8</td>\n",
       "      <td>2000</td>\n",
       "      <td>0.8</td>\n",
       "      <td>{'colsample_bytree': 0.8, 'learning_rate': 0.3...</td>\n",
       "      <td>0.942658</td>\n",
       "      <td>0.941357</td>\n",
       "      <td>0.942237</td>\n",
       "      <td>0.942084</td>\n",
       "      <td>0.000542</td>\n",
       "      <td>1</td>\n",
       "      <td>1.0</td>\n",
       "      <td>1.0</td>\n",
       "      <td>1.0</td>\n",
       "      <td>1.0</td>\n",
       "      <td>1.218082e-07</td>\n",
       "    </tr>\n",
       "  </tbody>\n",
       "</table>\n",
       "</div>"
      ],
      "text/plain": [
       "   mean_fit_time  std_fit_time  mean_score_time  std_score_time  \\\n",
       "0    1366.948339      24.20627        24.673584        1.735867   \n",
       "\n",
       "  param_colsample_bytree param_learning_rate param_max_depth  \\\n",
       "0                    0.8                 0.3               8   \n",
       "\n",
       "  param_n_estimators param_subsample  \\\n",
       "0               2000             0.8   \n",
       "\n",
       "                                              params  split0_test_score  \\\n",
       "0  {'colsample_bytree': 0.8, 'learning_rate': 0.3...           0.942658   \n",
       "\n",
       "   split1_test_score  split2_test_score  mean_test_score  std_test_score  \\\n",
       "0           0.941357           0.942237         0.942084        0.000542   \n",
       "\n",
       "   rank_test_score  split0_train_score  split1_train_score  \\\n",
       "0                1                 1.0                 1.0   \n",
       "\n",
       "   split2_train_score  mean_train_score  std_train_score  \n",
       "0                 1.0               1.0     1.218082e-07  "
      ]
     },
     "metadata": {},
     "output_type": "display_data"
    },
    {
     "data": {
      "image/png": "[encoded data removed]",
      "text/plain": [
       "<matplotlib.figure.Figure at 0x1a1dfe2400>"
      ]
     },
     "metadata": {},
     "output_type": "display_data"
    }
   ],
   "source": [
    "GridSearch_table_plot(clf, \"n_estimators\", display_all_params=False, negative=False)"
   ]
  },
  {
   "cell_type": "markdown",
   "metadata": {},
   "source": [
    "## Tuning max_depth"
   ]
  },
  {
   "cell_type": "code",
   "execution_count": null,
   "metadata": {},
   "outputs": [],
   "source": []
  },
  {
   "cell_type": "code",
   "execution_count": 11,
   "metadata": {},
   "outputs": [
    {
     "name": "stdout",
     "output_type": "stream",
     "text": [
      "Fitting 3 folds for each of 3 candidates, totalling 9 fits\n",
      "[CV] learning_rate=0.3, max_depth=3, n_estimators=2000 ...............\n",
      "[CV] learning_rate=0.3, max_depth=3, n_estimators=2000 ...............\n",
      "[CV] learning_rate=0.3, max_depth=3, n_estimators=2000 ...............\n",
      "[CV] learning_rate=0.3, max_depth=5, n_estimators=2000 ...............\n",
      "[CV]  learning_rate=0.3, max_depth=3, n_estimators=2000, score=0.9670320758677275, total=21.2min\n",
      "[CV] learning_rate=0.3, max_depth=5, n_estimators=2000 ...............\n",
      "[CV]  learning_rate=0.3, max_depth=3, n_estimators=2000, score=0.9669106703302993, total=21.3min\n",
      "[CV] learning_rate=0.3, max_depth=5, n_estimators=2000 ...............\n",
      "[CV]  learning_rate=0.3, max_depth=3, n_estimators=2000, score=0.9674442345488198, total=21.3min\n",
      "[CV] learning_rate=0.3, max_depth=10, n_estimators=2000 ..............\n",
      "[CV]  learning_rate=0.3, max_depth=5, n_estimators=2000, score=0.9598185833953479, total=29.0min\n",
      "[CV] learning_rate=0.3, max_depth=10, n_estimators=2000 ..............\n",
      "[CV]  learning_rate=0.3, max_depth=5, n_estimators=2000, score=0.9633304393179027, total=25.7min\n",
      "[CV] learning_rate=0.3, max_depth=10, n_estimators=2000 ..............\n",
      "[CV]  learning_rate=0.3, max_depth=5, n_estimators=2000, score=0.9617375382423468, total=25.8min\n"
     ]
    },
    {
     "name": "stderr",
     "output_type": "stream",
     "text": [
      "[Parallel(n_jobs=-1)]: Done   6 out of   9 | elapsed: 47.7min remaining: 23.8min\n"
     ]
    },
    {
     "name": "stdout",
     "output_type": "stream",
     "text": [
      "[CV]  learning_rate=0.3, max_depth=10, n_estimators=2000, score=0.957565385667309, total=29.5min\n",
      "[CV]  learning_rate=0.3, max_depth=10, n_estimators=2000, score=0.959723891846509, total=32.5min\n",
      "[CV]  learning_rate=0.3, max_depth=10, n_estimators=2000, score=0.9625379243230866, total=24.1min\n"
     ]
    },
    {
     "name": "stderr",
     "output_type": "stream",
     "text": [
      "[Parallel(n_jobs=-1)]: Done   9 out of   9 | elapsed: 71.9min finished\n"
     ]
    },
    {
     "name": "stdout",
     "output_type": "stream",
     "text": [
      "CPU times: user 9min 48s, sys: 3.9 s, total: 9min 52s\n",
      "Wall time: 1h 33min 45s\n"
     ]
    }
   ],
   "source": [
    "%%time\n",
    "\n",
    "param_grid = {\n",
    "    'n_estimators': [2000],\n",
    "    'learning_rate': [0.3],\n",
    "    'max_depth' : [3,5,10],\n",
    "    #'min_child_weight' : [0.5, 0.75, 0.9]\n",
    "    #'subsample': [0.8],\n",
    "    #'colsample_bytree': [0.8]\n",
    "    \n",
    "}\n",
    "xgb = XGBClassifier(objective='binary:logistic', nthreads= -1, seed=27, verbosity=2)\n",
    "\n",
    "clf = GridSearchCV(xgb, param_grid=param_grid, cv=skf, n_jobs=-1, verbose=3, scoring='roc_auc').fit(X, Y)"
   ]
  },
  {
   "cell_type": "code",
   "execution_count": 12,
   "metadata": {},
   "outputs": [
    {
     "data": {
      "text/plain": [
       "0.9992781465894738"
      ]
     },
     "execution_count": 12,
     "metadata": {},
     "output_type": "execute_result"
    }
   ],
   "source": [
    "roc_auc_score(clf.predict(X), Y.values)"
   ]
  },
  {
   "cell_type": "code",
   "execution_count": 13,
   "metadata": {},
   "outputs": [
    {
     "data": {
      "text/plain": [
       "154"
      ]
     },
     "execution_count": 13,
     "metadata": {},
     "output_type": "execute_result"
    }
   ],
   "source": [
    "sum(clf.predict(test[features]))"
   ]
  },
  {
   "cell_type": "code",
   "execution_count": 14,
   "metadata": {},
   "outputs": [
    {
     "name": "stdout",
     "output_type": "stream",
     "text": [
      "best parameters: {'learning_rate': 0.3, 'max_depth': 3, 'n_estimators': 2000}\n",
      "best score:      0.96713 (+/-0.00023)\n"
     ]
    },
    {
     "data": {
      "text/html": [
       "<div>\n",
       "<style scoped>\n",
       "    .dataframe tbody tr th:only-of-type {\n",
       "        vertical-align: middle;\n",
       "    }\n",
       "\n",
       "    .dataframe tbody tr th {\n",
       "        vertical-align: top;\n",
       "    }\n",
       "\n",
       "    .dataframe thead th {\n",
       "        text-align: right;\n",
       "    }\n",
       "</style>\n",
       "<table border=\"1\" class=\"dataframe\">\n",
       "  <thead>\n",
       "    <tr style=\"text-align: right;\">\n",
       "      <th></th>\n",
       "      <th>mean_fit_time</th>\n",
       "      <th>std_fit_time</th>\n",
       "      <th>mean_score_time</th>\n",
       "      <th>std_score_time</th>\n",
       "      <th>param_learning_rate</th>\n",
       "      <th>param_max_depth</th>\n",
       "      <th>param_n_estimators</th>\n",
       "      <th>params</th>\n",
       "      <th>split0_test_score</th>\n",
       "      <th>split1_test_score</th>\n",
       "      <th>split2_test_score</th>\n",
       "      <th>mean_test_score</th>\n",
       "      <th>std_test_score</th>\n",
       "      <th>rank_test_score</th>\n",
       "      <th>split0_train_score</th>\n",
       "      <th>split1_train_score</th>\n",
       "      <th>split2_train_score</th>\n",
       "      <th>mean_train_score</th>\n",
       "      <th>std_train_score</th>\n",
       "    </tr>\n",
       "  </thead>\n",
       "  <tbody>\n",
       "    <tr>\n",
       "      <td>0</td>\n",
       "      <td>1265.962605</td>\n",
       "      <td>3.247172</td>\n",
       "      <td>9.259781</td>\n",
       "      <td>0.810412</td>\n",
       "      <td>0.3</td>\n",
       "      <td>3</td>\n",
       "      <td>2000</td>\n",
       "      <td>{'learning_rate': 0.3, 'max_depth': 3, 'n_esti...</td>\n",
       "      <td>0.966911</td>\n",
       "      <td>0.967032</td>\n",
       "      <td>0.967444</td>\n",
       "      <td>0.967129</td>\n",
       "      <td>0.000228</td>\n",
       "      <td>1</td>\n",
       "      <td>1.0</td>\n",
       "      <td>1.0</td>\n",
       "      <td>1.0</td>\n",
       "      <td>1.0</td>\n",
       "      <td>1.218082e-07</td>\n",
       "    </tr>\n",
       "    <tr>\n",
       "      <td>1</td>\n",
       "      <td>1596.029844</td>\n",
       "      <td>94.108316</td>\n",
       "      <td>12.546019</td>\n",
       "      <td>1.586550</td>\n",
       "      <td>0.3</td>\n",
       "      <td>5</td>\n",
       "      <td>2000</td>\n",
       "      <td>{'learning_rate': 0.3, 'max_depth': 5, 'n_esti...</td>\n",
       "      <td>0.959819</td>\n",
       "      <td>0.961738</td>\n",
       "      <td>0.963330</td>\n",
       "      <td>0.961629</td>\n",
       "      <td>0.001436</td>\n",
       "      <td>2</td>\n",
       "      <td>1.0</td>\n",
       "      <td>1.0</td>\n",
       "      <td>1.0</td>\n",
       "      <td>1.0</td>\n",
       "      <td>1.218082e-07</td>\n",
       "    </tr>\n",
       "    <tr>\n",
       "      <td>2</td>\n",
       "      <td>1704.582967</td>\n",
       "      <td>195.152938</td>\n",
       "      <td>17.702062</td>\n",
       "      <td>14.308637</td>\n",
       "      <td>0.3</td>\n",
       "      <td>10</td>\n",
       "      <td>2000</td>\n",
       "      <td>{'learning_rate': 0.3, 'max_depth': 10, 'n_est...</td>\n",
       "      <td>0.957565</td>\n",
       "      <td>0.959724</td>\n",
       "      <td>0.962538</td>\n",
       "      <td>0.959942</td>\n",
       "      <td>0.002036</td>\n",
       "      <td>3</td>\n",
       "      <td>1.0</td>\n",
       "      <td>1.0</td>\n",
       "      <td>1.0</td>\n",
       "      <td>1.0</td>\n",
       "      <td>1.218082e-07</td>\n",
       "    </tr>\n",
       "  </tbody>\n",
       "</table>\n",
       "</div>"
      ],
      "text/plain": [
       "   mean_fit_time  std_fit_time  mean_score_time  std_score_time  \\\n",
       "0    1265.962605      3.247172         9.259781        0.810412   \n",
       "1    1596.029844     94.108316        12.546019        1.586550   \n",
       "2    1704.582967    195.152938        17.702062       14.308637   \n",
       "\n",
       "  param_learning_rate param_max_depth param_n_estimators  \\\n",
       "0                 0.3               3               2000   \n",
       "1                 0.3               5               2000   \n",
       "2                 0.3              10               2000   \n",
       "\n",
       "                                              params  split0_test_score  \\\n",
       "0  {'learning_rate': 0.3, 'max_depth': 3, 'n_esti...           0.966911   \n",
       "1  {'learning_rate': 0.3, 'max_depth': 5, 'n_esti...           0.959819   \n",
       "2  {'learning_rate': 0.3, 'max_depth': 10, 'n_est...           0.957565   \n",
       "\n",
       "   split1_test_score  split2_test_score  mean_test_score  std_test_score  \\\n",
       "0           0.967032           0.967444         0.967129        0.000228   \n",
       "1           0.961738           0.963330         0.961629        0.001436   \n",
       "2           0.959724           0.962538         0.959942        0.002036   \n",
       "\n",
       "   rank_test_score  split0_train_score  split1_train_score  \\\n",
       "0                1                 1.0                 1.0   \n",
       "1                2                 1.0                 1.0   \n",
       "2                3                 1.0                 1.0   \n",
       "\n",
       "   split2_train_score  mean_train_score  std_train_score  \n",
       "0                 1.0               1.0     1.218082e-07  \n",
       "1                 1.0               1.0     1.218082e-07  \n",
       "2                 1.0               1.0     1.218082e-07  "
      ]
     },
     "metadata": {},
     "output_type": "display_data"
    },
    {
     "data": {
      "image/png": "[encoded data removed]",
      "text/plain": [
       "<matplotlib.figure.Figure at 0x1a1161c908>"
      ]
     },
     "metadata": {},
     "output_type": "display_data"
    }
   ],
   "source": [
    "GridSearch_table_plot(clf, \"max_depth\", display_all_params=False, negative=False)"
   ]
  },
  {
   "cell_type": "code",
   "execution_count": null,
   "metadata": {
    "collapsed": true
   },
   "outputs": [],
   "source": []
  },
  {
   "cell_type": "markdown",
   "metadata": {},
   "source": [
    "## Tuning min_child_weight"
   ]
  },
  {
   "cell_type": "code",
   "execution_count": null,
   "metadata": {},
   "outputs": [],
   "source": []
  },
  {
   "cell_type": "code",
   "execution_count": 10,
   "metadata": {},
   "outputs": [
    {
     "name": "stdout",
     "output_type": "stream",
     "text": [
      "Fitting 3 folds for each of 3 candidates, totalling 9 fits\n",
      "[CV] learning_rate=0.3, max_depth=3, min_child_weight=0.5, n_estimators=2000 \n",
      "[CV] learning_rate=0.3, max_depth=3, min_child_weight=0.5, n_estimators=2000 \n",
      "[CV] learning_rate=0.3, max_depth=3, min_child_weight=0.5, n_estimators=2000 \n",
      "[CV] learning_rate=0.3, max_depth=3, min_child_weight=0.75, n_estimators=2000 \n",
      "[CV]  learning_rate=0.3, max_depth=3, min_child_weight=0.5, n_estimators=2000, score=0.9685485717556815, total=17.5min\n",
      "[CV] learning_rate=0.3, max_depth=3, min_child_weight=0.75, n_estimators=2000 \n",
      "[CV]  learning_rate=0.3, max_depth=3, min_child_weight=0.75, n_estimators=2000, score=0.9661493216555039, total=17.5min\n",
      "[CV] learning_rate=0.3, max_depth=3, min_child_weight=0.75, n_estimators=2000 \n",
      "[CV]  learning_rate=0.3, max_depth=3, min_child_weight=0.5, n_estimators=2000, score=0.9674386691345304, total=17.5min\n",
      "[CV] learning_rate=0.3, max_depth=3, min_child_weight=0.9, n_estimators=2000 \n",
      "[CV]  learning_rate=0.3, max_depth=3, min_child_weight=0.5, n_estimators=2000, score=0.9675351098135745, total=17.5min\n",
      "[CV] learning_rate=0.3, max_depth=3, min_child_weight=0.9, n_estimators=2000 \n",
      "[CV]  learning_rate=0.3, max_depth=3, min_child_weight=0.75, n_estimators=2000, score=0.9681260773051946, total=13.2min\n",
      "[CV] learning_rate=0.3, max_depth=3, min_child_weight=0.9, n_estimators=2000 \n",
      "[CV]  learning_rate=0.3, max_depth=3, min_child_weight=0.75, n_estimators=2000, score=0.9676250310073082, total=13.3min\n"
     ]
    },
    {
     "name": "stderr",
     "output_type": "stream",
     "text": [
      "[Parallel(n_jobs=-1)]: Done   6 out of   9 | elapsed: 31.6min remaining: 15.8min\n"
     ]
    },
    {
     "name": "stdout",
     "output_type": "stream",
     "text": [
      "[CV]  learning_rate=0.3, max_depth=3, min_child_weight=0.9, n_estimators=2000, score=0.9676705083926447, total=13.2min\n",
      "[CV]  learning_rate=0.3, max_depth=3, min_child_weight=0.9, n_estimators=2000, score=0.9659193905394317, total=13.3min\n",
      "[CV]  learning_rate=0.3, max_depth=3, min_child_weight=0.9, n_estimators=2000, score=0.9671709727072084, total= 6.2min\n"
     ]
    },
    {
     "name": "stderr",
     "output_type": "stream",
     "text": [
      "[Parallel(n_jobs=-1)]: Done   9 out of   9 | elapsed: 37.8min finished\n"
     ]
    },
    {
     "name": "stdout",
     "output_type": "stream",
     "text": [
      "CPU times: user 9min 32s, sys: 3.48 s, total: 9min 36s\n",
      "Wall time: 54min 21s\n"
     ]
    }
   ],
   "source": [
    "%%time\n",
    "\n",
    "param_grid = {\n",
    "    'n_estimators': [2000],\n",
    "    'learning_rate': [0.3],\n",
    "    'max_depth' : [3],\n",
    "    'min_child_weight' : [0.5, 0.75, 0.9]\n",
    "    \n",
    "}\n",
    "xgb = XGBClassifier(objective='binary:logistic', nthreads= -1, seed=27, verbosity=2)\n",
    "\n",
    "clf = GridSearchCV(xgb, param_grid=param_grid, cv=skf, n_jobs=-1, verbose=3, scoring='roc_auc').fit(X, Y)"
   ]
  },
  {
   "cell_type": "code",
   "execution_count": 14,
   "metadata": {},
   "outputs": [
    {
     "data": {
      "text/plain": [
       "0.9999997791502265"
      ]
     },
     "execution_count": 14,
     "metadata": {},
     "output_type": "execute_result"
    }
   ],
   "source": [
    "roc_auc_score( Y.values,clf.predict_proba((X))[:,1])"
   ]
  },
  {
   "cell_type": "code",
   "execution_count": 15,
   "metadata": {},
   "outputs": [
    {
     "data": {
      "text/plain": [
       "119"
      ]
     },
     "execution_count": 15,
     "metadata": {},
     "output_type": "execute_result"
    }
   ],
   "source": [
    "sum(clf.predict(test[features]))"
   ]
  },
  {
   "cell_type": "code",
   "execution_count": 16,
   "metadata": {},
   "outputs": [
    {
     "name": "stdout",
     "output_type": "stream",
     "text": [
      "best parameters: {'learning_rate': 0.3, 'max_depth': 3, 'min_child_weight': 0.5, 'n_estimators': 2000}\n",
      "best score:      0.96784 (+/-0.00050)\n"
     ]
    },
    {
     "data": {
      "text/html": [
       "<div>\n",
       "<style scoped>\n",
       "    .dataframe tbody tr th:only-of-type {\n",
       "        vertical-align: middle;\n",
       "    }\n",
       "\n",
       "    .dataframe tbody tr th {\n",
       "        vertical-align: top;\n",
       "    }\n",
       "\n",
       "    .dataframe thead th {\n",
       "        text-align: right;\n",
       "    }\n",
       "</style>\n",
       "<table border=\"1\" class=\"dataframe\">\n",
       "  <thead>\n",
       "    <tr style=\"text-align: right;\">\n",
       "      <th></th>\n",
       "      <th>mean_fit_time</th>\n",
       "      <th>std_fit_time</th>\n",
       "      <th>mean_score_time</th>\n",
       "      <th>std_score_time</th>\n",
       "      <th>param_learning_rate</th>\n",
       "      <th>param_max_depth</th>\n",
       "      <th>param_min_child_weight</th>\n",
       "      <th>param_n_estimators</th>\n",
       "      <th>params</th>\n",
       "      <th>split0_test_score</th>\n",
       "      <th>split1_test_score</th>\n",
       "      <th>split2_test_score</th>\n",
       "      <th>mean_test_score</th>\n",
       "      <th>std_test_score</th>\n",
       "      <th>rank_test_score</th>\n",
       "      <th>split0_train_score</th>\n",
       "      <th>split1_train_score</th>\n",
       "      <th>split2_train_score</th>\n",
       "      <th>mean_train_score</th>\n",
       "      <th>std_train_score</th>\n",
       "    </tr>\n",
       "  </thead>\n",
       "  <tbody>\n",
       "    <tr>\n",
       "      <td>0</td>\n",
       "      <td>1033.044009</td>\n",
       "      <td>2.616247</td>\n",
       "      <td>18.067978</td>\n",
       "      <td>0.327035</td>\n",
       "      <td>0.3</td>\n",
       "      <td>3</td>\n",
       "      <td>0.5</td>\n",
       "      <td>2000</td>\n",
       "      <td>{'learning_rate': 0.3, 'max_depth': 3, 'min_ch...</td>\n",
       "      <td>0.967535</td>\n",
       "      <td>0.967439</td>\n",
       "      <td>0.968549</td>\n",
       "      <td>0.967841</td>\n",
       "      <td>0.000502</td>\n",
       "      <td>1</td>\n",
       "      <td>1.0</td>\n",
       "      <td>1.0</td>\n",
       "      <td>1.0</td>\n",
       "      <td>1.0</td>\n",
       "      <td>1.218082e-07</td>\n",
       "    </tr>\n",
       "    <tr>\n",
       "      <td>1</td>\n",
       "      <td>868.094207</td>\n",
       "      <td>114.278829</td>\n",
       "      <td>10.516132</td>\n",
       "      <td>5.582369</td>\n",
       "      <td>0.3</td>\n",
       "      <td>3</td>\n",
       "      <td>0.75</td>\n",
       "      <td>2000</td>\n",
       "      <td>{'learning_rate': 0.3, 'max_depth': 3, 'min_ch...</td>\n",
       "      <td>0.966149</td>\n",
       "      <td>0.967625</td>\n",
       "      <td>0.968126</td>\n",
       "      <td>0.967300</td>\n",
       "      <td>0.000839</td>\n",
       "      <td>2</td>\n",
       "      <td>1.0</td>\n",
       "      <td>1.0</td>\n",
       "      <td>1.0</td>\n",
       "      <td>1.0</td>\n",
       "      <td>1.218082e-07</td>\n",
       "    </tr>\n",
       "    <tr>\n",
       "      <td>2</td>\n",
       "      <td>647.282320</td>\n",
       "      <td>197.255963</td>\n",
       "      <td>6.003750</td>\n",
       "      <td>2.349109</td>\n",
       "      <td>0.3</td>\n",
       "      <td>3</td>\n",
       "      <td>0.9</td>\n",
       "      <td>2000</td>\n",
       "      <td>{'learning_rate': 0.3, 'max_depth': 3, 'min_ch...</td>\n",
       "      <td>0.965919</td>\n",
       "      <td>0.967671</td>\n",
       "      <td>0.967171</td>\n",
       "      <td>0.966920</td>\n",
       "      <td>0.000737</td>\n",
       "      <td>3</td>\n",
       "      <td>1.0</td>\n",
       "      <td>1.0</td>\n",
       "      <td>1.0</td>\n",
       "      <td>1.0</td>\n",
       "      <td>1.218082e-07</td>\n",
       "    </tr>\n",
       "  </tbody>\n",
       "</table>\n",
       "</div>"
      ],
      "text/plain": [
       "   mean_fit_time  std_fit_time  mean_score_time  std_score_time  \\\n",
       "0    1033.044009      2.616247        18.067978        0.327035   \n",
       "1     868.094207    114.278829        10.516132        5.582369   \n",
       "2     647.282320    197.255963         6.003750        2.349109   \n",
       "\n",
       "  param_learning_rate param_max_depth param_min_child_weight  \\\n",
       "0                 0.3               3                    0.5   \n",
       "1                 0.3               3                   0.75   \n",
       "2                 0.3               3                    0.9   \n",
       "\n",
       "  param_n_estimators                                             params  \\\n",
       "0               2000  {'learning_rate': 0.3, 'max_depth': 3, 'min_ch...   \n",
       "1               2000  {'learning_rate': 0.3, 'max_depth': 3, 'min_ch...   \n",
       "2               2000  {'learning_rate': 0.3, 'max_depth': 3, 'min_ch...   \n",
       "\n",
       "   split0_test_score  split1_test_score  split2_test_score  mean_test_score  \\\n",
       "0           0.967535           0.967439           0.968549         0.967841   \n",
       "1           0.966149           0.967625           0.968126         0.967300   \n",
       "2           0.965919           0.967671           0.967171         0.966920   \n",
       "\n",
       "   std_test_score  rank_test_score  split0_train_score  split1_train_score  \\\n",
       "0        0.000502                1                 1.0                 1.0   \n",
       "1        0.000839                2                 1.0                 1.0   \n",
       "2        0.000737                3                 1.0                 1.0   \n",
       "\n",
       "   split2_train_score  mean_train_score  std_train_score  \n",
       "0                 1.0               1.0     1.218082e-07  \n",
       "1                 1.0               1.0     1.218082e-07  \n",
       "2                 1.0               1.0     1.218082e-07  "
      ]
     },
     "metadata": {},
     "output_type": "display_data"
    },
    {
     "data": {
      "image/png": "[encoded data removed]",
      "text/plain": [
       "<matplotlib.figure.Figure at 0x1a0fc7efd0>"
      ]
     },
     "metadata": {},
     "output_type": "display_data"
    }
   ],
   "source": [
    "GridSearch_table_plot(clf, \"min_child_weight\", display_all_params=False, negative=False)"
   ]
  },
  {
   "cell_type": "markdown",
   "metadata": {},
   "source": [
    "## Final XGB"
   ]
  },
  {
   "cell_type": "code",
   "execution_count": 87,
   "metadata": {
    "collapsed": true
   },
   "outputs": [],
   "source": []
  },
  {
   "cell_type": "code",
   "execution_count": 11,
   "metadata": {},
   "outputs": [
    {
     "name": "stdout",
     "output_type": "stream",
     "text": [
      "Fitting 3 folds for each of 1 candidates, totalling 3 fits\n",
      "[CV] learning_rate=0.3, max_depth=3, min_child_weight=0.5, n_estimators=2000 \n",
      "[CV] learning_rate=0.3, max_depth=3, min_child_weight=0.5, n_estimators=2000 \n",
      "[CV] learning_rate=0.3, max_depth=3, min_child_weight=0.5, n_estimators=2000 \n",
      "[CV]  learning_rate=0.3, max_depth=3, min_child_weight=0.5, n_estimators=2000, score=0.9675351098135745, total=23.8min\n",
      "[CV]  learning_rate=0.3, max_depth=3, min_child_weight=0.5, n_estimators=2000, score=0.9685485717556815, total=23.8min\n",
      "[CV]  learning_rate=0.3, max_depth=3, min_child_weight=0.5, n_estimators=2000, score=0.9674386691345304, total=23.9min\n"
     ]
    },
    {
     "name": "stderr",
     "output_type": "stream",
     "text": [
      "[Parallel(n_jobs=-1)]: Done   3 out of   3 | elapsed: 24.1min finished\n"
     ]
    },
    {
     "name": "stdout",
     "output_type": "stream",
     "text": [
      "CPU times: user 9min 27s, sys: 3.38 s, total: 9min 31s\n",
      "Wall time: 39min 2s\n"
     ]
    }
   ],
   "source": [
    "%%time\n",
    "\n",
    "param_grid = {\n",
    "    'n_estimators': [2000],\n",
    "    'learning_rate': [0.3],\n",
    "    'max_depth' : [3],\n",
    "    'min_child_weight' : [0.5]\n",
    "    \n",
    "}\n",
    "xgb = XGBClassifier(objective='binary:logistic', nthreads= -1, seed=27, verbosity=2)\n",
    "\n",
    "clf = GridSearchCV(xgb, param_grid=param_grid, cv=skf, n_jobs=-1, verbose=3, scoring='roc_auc').fit(X, Y)"
   ]
  },
  {
   "cell_type": "code",
   "execution_count": 12,
   "metadata": {},
   "outputs": [
    {
     "data": {
      "text/plain": [
       "0.9999997791502265"
      ]
     },
     "execution_count": 12,
     "metadata": {},
     "output_type": "execute_result"
    }
   ],
   "source": [
    "roc_auc_score( Y.values,clf.predict_proba((X))[:,1])"
   ]
  },
  {
   "cell_type": "code",
   "execution_count": 13,
   "metadata": {},
   "outputs": [
    {
     "data": {
      "text/plain": [
       "119"
      ]
     },
     "execution_count": 13,
     "metadata": {},
     "output_type": "execute_result"
    }
   ],
   "source": [
    "sum(clf.predict(test[features]))"
   ]
  },
  {
   "cell_type": "code",
   "execution_count": null,
   "metadata": {
    "collapsed": true
   },
   "outputs": [],
   "source": []
  },
  {
   "cell_type": "code",
   "execution_count": null,
   "metadata": {
    "collapsed": true
   },
   "outputs": [],
   "source": []
  },
  {
   "cell_type": "code",
   "execution_count": null,
   "metadata": {
    "collapsed": true
   },
   "outputs": [],
   "source": []
  },
  {
   "cell_type": "code",
   "execution_count": null,
   "metadata": {
    "collapsed": true
   },
   "outputs": [],
   "source": []
  },
  {
   "cell_type": "code",
   "execution_count": null,
   "metadata": {
    "collapsed": true
   },
   "outputs": [],
   "source": []
  },
  {
   "cell_type": "code",
   "execution_count": null,
   "metadata": {
    "collapsed": true
   },
   "outputs": [],
   "source": []
  },
  {
   "cell_type": "markdown",
   "metadata": {},
   "source": [
    "## Plotting Feature Importances"
   ]
  },
  {
   "cell_type": "code",
   "execution_count": 14,
   "metadata": {},
   "outputs": [
    {
     "data": {
      "image/png": "[encoded data removed]",
      "text/plain": [
       "<matplotlib.figure.Figure at 0x1a20964da0>"
      ]
     },
     "metadata": {},
     "output_type": "display_data"
    },
    {
     "name": "stdout",
     "output_type": "stream",
     "text": [
      "Top 20 features in descending order of importance\n"
     ]
    },
    {
     "data": {
      "text/html": [
       "<div>\n",
       "<style scoped>\n",
       "    .dataframe tbody tr th:only-of-type {\n",
       "        vertical-align: middle;\n",
       "    }\n",
       "\n",
       "    .dataframe tbody tr th {\n",
       "        vertical-align: top;\n",
       "    }\n",
       "\n",
       "    .dataframe thead th {\n",
       "        text-align: right;\n",
       "    }\n",
       "</style>\n",
       "<table border=\"1\" class=\"dataframe\">\n",
       "  <thead>\n",
       "    <tr style=\"text-align: right;\">\n",
       "      <th></th>\n",
       "      <th>importance</th>\n",
       "    </tr>\n",
       "    <tr>\n",
       "      <th>feature</th>\n",
       "      <th></th>\n",
       "    </tr>\n",
       "  </thead>\n",
       "  <tbody>\n",
       "    <tr>\n",
       "      <td>no_of_items_coupon_is_available_for</td>\n",
       "      <td>0.107746</td>\n",
       "    </tr>\n",
       "    <tr>\n",
       "      <td>total_coupon_discount_claimed_by_customer</td>\n",
       "      <td>0.084469</td>\n",
       "    </tr>\n",
       "    <tr>\n",
       "      <td>average_transaction_amount_for_customer_per_item_of_category1</td>\n",
       "      <td>0.080810</td>\n",
       "    </tr>\n",
       "    <tr>\n",
       "      <td>total_spends_of_customer</td>\n",
       "      <td>0.077462</td>\n",
       "    </tr>\n",
       "    <tr>\n",
       "      <td>no_of_times_customer_bought_brand1</td>\n",
       "      <td>0.069443</td>\n",
       "    </tr>\n",
       "    <tr>\n",
       "      <td>no_of_times_customer_bought_category1</td>\n",
       "      <td>0.064928</td>\n",
       "    </tr>\n",
       "    <tr>\n",
       "      <td>no_of_times_customer_bought_brand1_in_discount</td>\n",
       "      <td>0.057065</td>\n",
       "    </tr>\n",
       "    <tr>\n",
       "      <td>no_of_times_customer_bought_category1_in_discount</td>\n",
       "      <td>0.054652</td>\n",
       "    </tr>\n",
       "    <tr>\n",
       "      <td>mean_discount_on_brand1</td>\n",
       "      <td>0.049358</td>\n",
       "    </tr>\n",
       "    <tr>\n",
       "      <td>campaign_id</td>\n",
       "      <td>0.047334</td>\n",
       "    </tr>\n",
       "    <tr>\n",
       "      <td>popularity_of_brand1</td>\n",
       "      <td>0.043986</td>\n",
       "    </tr>\n",
       "    <tr>\n",
       "      <td>coupon_available_on_brand_1</td>\n",
       "      <td>0.038614</td>\n",
       "    </tr>\n",
       "    <tr>\n",
       "      <td>average_selling_price_per_unit_of_category1_brand1_combination</td>\n",
       "      <td>0.033865</td>\n",
       "    </tr>\n",
       "    <tr>\n",
       "      <td>campaign_duration_in_days</td>\n",
       "      <td>0.026236</td>\n",
       "    </tr>\n",
       "    <tr>\n",
       "      <td>customer_income_bracket</td>\n",
       "      <td>0.022810</td>\n",
       "    </tr>\n",
       "    <tr>\n",
       "      <td>customer_age_range</td>\n",
       "      <td>0.019229</td>\n",
       "    </tr>\n",
       "    <tr>\n",
       "      <td>average_transaction_amount_for_customer_per_item_of_category2</td>\n",
       "      <td>0.013546</td>\n",
       "    </tr>\n",
       "    <tr>\n",
       "      <td>no_of_times_customer_bought_brand2</td>\n",
       "      <td>0.012456</td>\n",
       "    </tr>\n",
       "    <tr>\n",
       "      <td>customer_family_size</td>\n",
       "      <td>0.011055</td>\n",
       "    </tr>\n",
       "    <tr>\n",
       "      <td>no_of_times_customer_bought_brand2_in_discount</td>\n",
       "      <td>0.010743</td>\n",
       "    </tr>\n",
       "  </tbody>\n",
       "</table>\n",
       "</div>"
      ],
      "text/plain": [
       "                                                    importance\n",
       "feature                                                       \n",
       "no_of_items_coupon_is_available_for                   0.107746\n",
       "total_coupon_discount_claimed_by_customer             0.084469\n",
       "average_transaction_amount_for_customer_per_ite...    0.080810\n",
       "total_spends_of_customer                              0.077462\n",
       "no_of_times_customer_bought_brand1                    0.069443\n",
       "no_of_times_customer_bought_category1                 0.064928\n",
       "no_of_times_customer_bought_brand1_in_discount        0.057065\n",
       "no_of_times_customer_bought_category1_in_discount     0.054652\n",
       "mean_discount_on_brand1                               0.049358\n",
       "campaign_id                                           0.047334\n",
       "popularity_of_brand1                                  0.043986\n",
       "coupon_available_on_brand_1                           0.038614\n",
       "average_selling_price_per_unit_of_category1_bra...    0.033865\n",
       "campaign_duration_in_days                             0.026236\n",
       "customer_income_bracket                               0.022810\n",
       "customer_age_range                                    0.019229\n",
       "average_transaction_amount_for_customer_per_ite...    0.013546\n",
       "no_of_times_customer_bought_brand2                    0.012456\n",
       "customer_family_size                                  0.011055\n",
       "no_of_times_customer_bought_brand2_in_discount        0.010743"
      ]
     },
     "metadata": {},
     "output_type": "display_data"
    }
   ],
   "source": [
    "def plot_importance(clf, top_n, title=\"Feature Importances\", figsize=(30,30) ):\n",
    "    feat_imp = pd.DataFrame({'importance':clf.feature_importances_})    \n",
    "    feat_imp['feature'] = train[features].columns\n",
    "    feat_imp.sort_values(by='importance', ascending=False, inplace=True)\n",
    "    feat_imp = feat_imp.iloc[:top_n]\n",
    "\n",
    "    feat_imp.sort_values(by='importance', inplace=True)\n",
    "    feat_imp = feat_imp.set_index('feature', drop=True)\n",
    "    feat_imp.plot.barh(title=title, figsize=figsize)\n",
    "    plt.xlabel('Feature Importance Score')\n",
    "    plt.show()\n",
    "    \n",
    "    print(\"Top {} features in descending order of importance\".format(top_n))\n",
    "    display(feat_imp.sort_values(by='importance', ascending=False))\n",
    "    \n",
    "plot_importance(clf.best_estimator_, 20)"
   ]
  },
  {
   "cell_type": "markdown",
   "metadata": {},
   "source": [
    "## Saving submissions"
   ]
  },
  {
   "cell_type": "code",
   "execution_count": 17,
   "metadata": {},
   "outputs": [
    {
     "name": "stdout",
     "output_type": "stream",
     "text": [
      "File saved!\n"
     ]
    }
   ],
   "source": [
    "c='final'\n",
    "test['redemption_status'] =clf.predict_proba(test[features])[:,1]\n",
    "submission = test.loc[:,['id', 'redemption_status']]\n",
    "name = \"../data/submissions/submission_after_xgb_modeling_\"+str(c)+\".csv\"\n",
    "submission.to_csv( name,index=False)\n",
    "print(\"File saved!\")\n",
    "\n"
   ]
  },
  {
   "cell_type": "code",
   "execution_count": 18,
   "metadata": {},
   "outputs": [
    {
     "data": {
      "text/plain": [
       "0        4.930832e-02\n",
       "1        1.216368e-05\n",
       "2        1.059312e-06\n",
       "3        2.008840e-11\n",
       "4        1.397163e-08\n",
       "             ...     \n",
       "50221    1.127315e-06\n",
       "50222    4.976914e-04\n",
       "50223    9.088521e-05\n",
       "50224    8.021926e-03\n",
       "50225    6.408305e-09\n",
       "Name: redemption_status, Length: 50226, dtype: float32"
      ]
     },
     "execution_count": 18,
     "metadata": {},
     "output_type": "execute_result"
    }
   ],
   "source": [
    "test['redemption_status']"
   ]
  },
  {
   "cell_type": "code",
   "execution_count": 98,
   "metadata": {},
   "outputs": [
    {
     "data": {
      "text/plain": [
       "array([4.6577238e-04, 1.2766468e-05, 1.6535791e-05, ..., 8.6532316e-05,\n",
       "       9.8959003e-03, 7.1890334e-08], dtype=float32)"
      ]
     },
     "execution_count": 98,
     "metadata": {},
     "output_type": "execute_result"
    }
   ],
   "source": [
    "clf.predict_proba(test[features])[:,1]"
   ]
  },
  {
   "cell_type": "code",
   "execution_count": null,
   "metadata": {
    "collapsed": true
   },
   "outputs": [],
   "source": []
  }
 ],
 "metadata": {
  "kernelspec": {
   "display_name": "Python 3",
   "language": "python",
   "name": "python3"
  },
  "language_info": {
   "codemirror_mode": {
    "name": "ipython",
    "version": 3
   },
   "file_extension": ".py",
   "mimetype": "text/x-python",
   "name": "python",
   "nbconvert_exporter": "python",
   "pygments_lexer": "ipython3",
   "version": "3.6.3"
  }
 },
 "nbformat": 4,
 "nbformat_minor": 2
}
